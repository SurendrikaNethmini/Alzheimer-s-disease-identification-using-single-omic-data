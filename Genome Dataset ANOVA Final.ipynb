{
 "cells": [
  {
   "cell_type": "code",
   "execution_count": 1,
   "id": "0220f313",
   "metadata": {},
   "outputs": [],
   "source": [
    "# Import 'pandas' library\n",
    "import pandas as pd"
   ]
  },
  {
   "cell_type": "code",
   "execution_count": 2,
   "id": "39388da9",
   "metadata": {},
   "outputs": [],
   "source": [
    "# Import 'numpy' library\n",
    "import numpy as np"
   ]
  },
  {
   "cell_type": "code",
   "execution_count": 3,
   "id": "e59d9cf1",
   "metadata": {},
   "outputs": [],
   "source": [
    "# Load genome dataset to pandas dataframe\n",
    "df = pd.read_csv(r'C:\\Users\\Supun\\Desktop\\Datasets\\Modified Datasets\\Genome Dataset.csv')"
   ]
  },
  {
   "cell_type": "code",
   "execution_count": 4,
   "id": "3c6bc175",
   "metadata": {},
   "outputs": [
    {
     "data": {
      "text/html": [
       "<div>\n",
       "<style scoped>\n",
       "    .dataframe tbody tr th:only-of-type {\n",
       "        vertical-align: middle;\n",
       "    }\n",
       "\n",
       "    .dataframe tbody tr th {\n",
       "        vertical-align: top;\n",
       "    }\n",
       "\n",
       "    .dataframe thead th {\n",
       "        text-align: right;\n",
       "    }\n",
       "</style>\n",
       "<table border=\"1\" class=\"dataframe\">\n",
       "  <thead>\n",
       "    <tr style=\"text-align: right;\">\n",
       "      <th></th>\n",
       "      <th>Unnamed: 0</th>\n",
       "      <th>TARGET</th>\n",
       "      <th>1007_s_at</th>\n",
       "      <th>1053_at</th>\n",
       "      <th>117_at</th>\n",
       "      <th>121_at</th>\n",
       "      <th>1255_g_at</th>\n",
       "      <th>1294_at</th>\n",
       "      <th>1316_at</th>\n",
       "      <th>1320_at</th>\n",
       "      <th>...</th>\n",
       "      <th>AFFX-r2-Ec-bioD-3_at</th>\n",
       "      <th>AFFX-r2-Ec-bioD-5_at</th>\n",
       "      <th>AFFX-r2-P1-cre-3_at</th>\n",
       "      <th>AFFX-r2-P1-cre-5_at</th>\n",
       "      <th>AFFX-ThrX-3_at</th>\n",
       "      <th>AFFX-ThrX-5_at</th>\n",
       "      <th>AFFX-ThrX-M_at</th>\n",
       "      <th>AFFX-TrpnX-3_at</th>\n",
       "      <th>AFFX-TrpnX-5_at</th>\n",
       "      <th>AFFX-TrpnX-M_at</th>\n",
       "    </tr>\n",
       "  </thead>\n",
       "  <tbody>\n",
       "    <tr>\n",
       "      <th>0</th>\n",
       "      <td>0</td>\n",
       "      <td>0</td>\n",
       "      <td>693.97330</td>\n",
       "      <td>9.755318</td>\n",
       "      <td>13.346846</td>\n",
       "      <td>173.09245</td>\n",
       "      <td>52.616950</td>\n",
       "      <td>67.753624</td>\n",
       "      <td>209.41220</td>\n",
       "      <td>10.765010</td>\n",
       "      <td>...</td>\n",
       "      <td>4114.2500</td>\n",
       "      <td>4114.5767</td>\n",
       "      <td>13951.371</td>\n",
       "      <td>9590.616</td>\n",
       "      <td>1821.608200</td>\n",
       "      <td>46.302326</td>\n",
       "      <td>279.892550</td>\n",
       "      <td>9.149380</td>\n",
       "      <td>5.280712</td>\n",
       "      <td>7.380331</td>\n",
       "    </tr>\n",
       "    <tr>\n",
       "      <th>1</th>\n",
       "      <td>1</td>\n",
       "      <td>0</td>\n",
       "      <td>807.14514</td>\n",
       "      <td>19.052270</td>\n",
       "      <td>18.217276</td>\n",
       "      <td>289.31540</td>\n",
       "      <td>110.375984</td>\n",
       "      <td>96.780740</td>\n",
       "      <td>470.43307</td>\n",
       "      <td>3.834024</td>\n",
       "      <td>...</td>\n",
       "      <td>5400.4585</td>\n",
       "      <td>4465.0913</td>\n",
       "      <td>19854.145</td>\n",
       "      <td>14496.598</td>\n",
       "      <td>21.710300</td>\n",
       "      <td>5.705804</td>\n",
       "      <td>3.477558</td>\n",
       "      <td>1.878478</td>\n",
       "      <td>3.469311</td>\n",
       "      <td>3.117868</td>\n",
       "    </tr>\n",
       "    <tr>\n",
       "      <th>2</th>\n",
       "      <td>2</td>\n",
       "      <td>0</td>\n",
       "      <td>1722.62500</td>\n",
       "      <td>13.060389</td>\n",
       "      <td>97.425470</td>\n",
       "      <td>537.18280</td>\n",
       "      <td>99.021736</td>\n",
       "      <td>76.282050</td>\n",
       "      <td>908.26636</td>\n",
       "      <td>7.970618</td>\n",
       "      <td>...</td>\n",
       "      <td>11152.8860</td>\n",
       "      <td>8695.5380</td>\n",
       "      <td>47580.984</td>\n",
       "      <td>33593.055</td>\n",
       "      <td>36.736942</td>\n",
       "      <td>30.422820</td>\n",
       "      <td>6.315493</td>\n",
       "      <td>8.501900</td>\n",
       "      <td>23.347307</td>\n",
       "      <td>67.153730</td>\n",
       "    </tr>\n",
       "    <tr>\n",
       "      <th>3</th>\n",
       "      <td>3</td>\n",
       "      <td>0</td>\n",
       "      <td>1668.05750</td>\n",
       "      <td>14.652245</td>\n",
       "      <td>98.197945</td>\n",
       "      <td>496.34656</td>\n",
       "      <td>17.306772</td>\n",
       "      <td>189.819600</td>\n",
       "      <td>1029.78850</td>\n",
       "      <td>3.469380</td>\n",
       "      <td>...</td>\n",
       "      <td>14431.4080</td>\n",
       "      <td>10365.0530</td>\n",
       "      <td>45601.290</td>\n",
       "      <td>33553.914</td>\n",
       "      <td>5.882349</td>\n",
       "      <td>6.936473</td>\n",
       "      <td>17.975550</td>\n",
       "      <td>6.254964</td>\n",
       "      <td>58.965458</td>\n",
       "      <td>9.972722</td>\n",
       "    </tr>\n",
       "    <tr>\n",
       "      <th>4</th>\n",
       "      <td>4</td>\n",
       "      <td>0</td>\n",
       "      <td>2231.29690</td>\n",
       "      <td>138.676830</td>\n",
       "      <td>106.468440</td>\n",
       "      <td>477.86517</td>\n",
       "      <td>628.816160</td>\n",
       "      <td>276.476560</td>\n",
       "      <td>1366.78370</td>\n",
       "      <td>11.245625</td>\n",
       "      <td>...</td>\n",
       "      <td>15043.5030</td>\n",
       "      <td>14511.4820</td>\n",
       "      <td>50365.547</td>\n",
       "      <td>37182.836</td>\n",
       "      <td>13262.363000</td>\n",
       "      <td>448.497340</td>\n",
       "      <td>3133.012200</td>\n",
       "      <td>29.297655</td>\n",
       "      <td>28.627400</td>\n",
       "      <td>2.507613</td>\n",
       "    </tr>\n",
       "  </tbody>\n",
       "</table>\n",
       "<p>5 rows × 54677 columns</p>\n",
       "</div>"
      ],
      "text/plain": [
       "   Unnamed: 0  TARGET   1007_s_at     1053_at      117_at     121_at  \\\n",
       "0           0       0   693.97330    9.755318   13.346846  173.09245   \n",
       "1           1       0   807.14514   19.052270   18.217276  289.31540   \n",
       "2           2       0  1722.62500   13.060389   97.425470  537.18280   \n",
       "3           3       0  1668.05750   14.652245   98.197945  496.34656   \n",
       "4           4       0  2231.29690  138.676830  106.468440  477.86517   \n",
       "\n",
       "    1255_g_at     1294_at     1316_at    1320_at  ...  AFFX-r2-Ec-bioD-3_at  \\\n",
       "0   52.616950   67.753624   209.41220  10.765010  ...             4114.2500   \n",
       "1  110.375984   96.780740   470.43307   3.834024  ...             5400.4585   \n",
       "2   99.021736   76.282050   908.26636   7.970618  ...            11152.8860   \n",
       "3   17.306772  189.819600  1029.78850   3.469380  ...            14431.4080   \n",
       "4  628.816160  276.476560  1366.78370  11.245625  ...            15043.5030   \n",
       "\n",
       "   AFFX-r2-Ec-bioD-5_at  AFFX-r2-P1-cre-3_at  AFFX-r2-P1-cre-5_at  \\\n",
       "0             4114.5767            13951.371             9590.616   \n",
       "1             4465.0913            19854.145            14496.598   \n",
       "2             8695.5380            47580.984            33593.055   \n",
       "3            10365.0530            45601.290            33553.914   \n",
       "4            14511.4820            50365.547            37182.836   \n",
       "\n",
       "   AFFX-ThrX-3_at  AFFX-ThrX-5_at  AFFX-ThrX-M_at  AFFX-TrpnX-3_at  \\\n",
       "0     1821.608200       46.302326      279.892550         9.149380   \n",
       "1       21.710300        5.705804        3.477558         1.878478   \n",
       "2       36.736942       30.422820        6.315493         8.501900   \n",
       "3        5.882349        6.936473       17.975550         6.254964   \n",
       "4    13262.363000      448.497340     3133.012200        29.297655   \n",
       "\n",
       "   AFFX-TrpnX-5_at  AFFX-TrpnX-M_at  \n",
       "0         5.280712         7.380331  \n",
       "1         3.469311         3.117868  \n",
       "2        23.347307        67.153730  \n",
       "3        58.965458         9.972722  \n",
       "4        28.627400         2.507613  \n",
       "\n",
       "[5 rows x 54677 columns]"
      ]
     },
     "execution_count": 4,
     "metadata": {},
     "output_type": "execute_result"
    }
   ],
   "source": [
    "# Display dataframe\n",
    "df.head()"
   ]
  },
  {
   "cell_type": "code",
   "execution_count": 5,
   "id": "a5d54cda",
   "metadata": {},
   "outputs": [
    {
     "data": {
      "text/plain": [
       "(161, 54677)"
      ]
     },
     "execution_count": 5,
     "metadata": {},
     "output_type": "execute_result"
    }
   ],
   "source": [
    "# Check dataframe shape\n",
    "df.shape"
   ]
  },
  {
   "cell_type": "code",
   "execution_count": 6,
   "id": "ae3ad313",
   "metadata": {},
   "outputs": [
    {
     "data": {
      "text/plain": [
       "0"
      ]
     },
     "execution_count": 6,
     "metadata": {},
     "output_type": "execute_result"
    }
   ],
   "source": [
    "# Checking for null values in dataframe\n",
    "df.isnull().sum().sum()"
   ]
  },
  {
   "cell_type": "code",
   "execution_count": 7,
   "id": "0977d967",
   "metadata": {},
   "outputs": [],
   "source": [
    "# Extracting features set from dataframe\n",
    "X = df.iloc[:,2:]"
   ]
  },
  {
   "cell_type": "code",
   "execution_count": 8,
   "id": "36c96827",
   "metadata": {},
   "outputs": [
    {
     "data": {
      "text/html": [
       "<div>\n",
       "<style scoped>\n",
       "    .dataframe tbody tr th:only-of-type {\n",
       "        vertical-align: middle;\n",
       "    }\n",
       "\n",
       "    .dataframe tbody tr th {\n",
       "        vertical-align: top;\n",
       "    }\n",
       "\n",
       "    .dataframe thead th {\n",
       "        text-align: right;\n",
       "    }\n",
       "</style>\n",
       "<table border=\"1\" class=\"dataframe\">\n",
       "  <thead>\n",
       "    <tr style=\"text-align: right;\">\n",
       "      <th></th>\n",
       "      <th>1007_s_at</th>\n",
       "      <th>1053_at</th>\n",
       "      <th>117_at</th>\n",
       "      <th>121_at</th>\n",
       "      <th>1255_g_at</th>\n",
       "      <th>1294_at</th>\n",
       "      <th>1316_at</th>\n",
       "      <th>1320_at</th>\n",
       "      <th>1405_i_at</th>\n",
       "      <th>1431_at</th>\n",
       "      <th>...</th>\n",
       "      <th>AFFX-r2-Ec-bioD-3_at</th>\n",
       "      <th>AFFX-r2-Ec-bioD-5_at</th>\n",
       "      <th>AFFX-r2-P1-cre-3_at</th>\n",
       "      <th>AFFX-r2-P1-cre-5_at</th>\n",
       "      <th>AFFX-ThrX-3_at</th>\n",
       "      <th>AFFX-ThrX-5_at</th>\n",
       "      <th>AFFX-ThrX-M_at</th>\n",
       "      <th>AFFX-TrpnX-3_at</th>\n",
       "      <th>AFFX-TrpnX-5_at</th>\n",
       "      <th>AFFX-TrpnX-M_at</th>\n",
       "    </tr>\n",
       "  </thead>\n",
       "  <tbody>\n",
       "    <tr>\n",
       "      <th>0</th>\n",
       "      <td>693.97330</td>\n",
       "      <td>9.755318</td>\n",
       "      <td>13.346846</td>\n",
       "      <td>173.09245</td>\n",
       "      <td>52.616950</td>\n",
       "      <td>67.753624</td>\n",
       "      <td>209.41220</td>\n",
       "      <td>10.765010</td>\n",
       "      <td>10.559881</td>\n",
       "      <td>38.878853</td>\n",
       "      <td>...</td>\n",
       "      <td>4114.2500</td>\n",
       "      <td>4114.5767</td>\n",
       "      <td>13951.371</td>\n",
       "      <td>9590.616</td>\n",
       "      <td>1821.608200</td>\n",
       "      <td>46.302326</td>\n",
       "      <td>279.892550</td>\n",
       "      <td>9.149380</td>\n",
       "      <td>5.280712</td>\n",
       "      <td>7.380331</td>\n",
       "    </tr>\n",
       "    <tr>\n",
       "      <th>1</th>\n",
       "      <td>807.14514</td>\n",
       "      <td>19.052270</td>\n",
       "      <td>18.217276</td>\n",
       "      <td>289.31540</td>\n",
       "      <td>110.375984</td>\n",
       "      <td>96.780740</td>\n",
       "      <td>470.43307</td>\n",
       "      <td>3.834024</td>\n",
       "      <td>27.871660</td>\n",
       "      <td>73.023575</td>\n",
       "      <td>...</td>\n",
       "      <td>5400.4585</td>\n",
       "      <td>4465.0913</td>\n",
       "      <td>19854.145</td>\n",
       "      <td>14496.598</td>\n",
       "      <td>21.710300</td>\n",
       "      <td>5.705804</td>\n",
       "      <td>3.477558</td>\n",
       "      <td>1.878478</td>\n",
       "      <td>3.469311</td>\n",
       "      <td>3.117868</td>\n",
       "    </tr>\n",
       "    <tr>\n",
       "      <th>2</th>\n",
       "      <td>1722.62500</td>\n",
       "      <td>13.060389</td>\n",
       "      <td>97.425470</td>\n",
       "      <td>537.18280</td>\n",
       "      <td>99.021736</td>\n",
       "      <td>76.282050</td>\n",
       "      <td>908.26636</td>\n",
       "      <td>7.970618</td>\n",
       "      <td>121.391370</td>\n",
       "      <td>17.437328</td>\n",
       "      <td>...</td>\n",
       "      <td>11152.8860</td>\n",
       "      <td>8695.5380</td>\n",
       "      <td>47580.984</td>\n",
       "      <td>33593.055</td>\n",
       "      <td>36.736942</td>\n",
       "      <td>30.422820</td>\n",
       "      <td>6.315493</td>\n",
       "      <td>8.501900</td>\n",
       "      <td>23.347307</td>\n",
       "      <td>67.153730</td>\n",
       "    </tr>\n",
       "    <tr>\n",
       "      <th>3</th>\n",
       "      <td>1668.05750</td>\n",
       "      <td>14.652245</td>\n",
       "      <td>98.197945</td>\n",
       "      <td>496.34656</td>\n",
       "      <td>17.306772</td>\n",
       "      <td>189.819600</td>\n",
       "      <td>1029.78850</td>\n",
       "      <td>3.469380</td>\n",
       "      <td>48.153168</td>\n",
       "      <td>10.587775</td>\n",
       "      <td>...</td>\n",
       "      <td>14431.4080</td>\n",
       "      <td>10365.0530</td>\n",
       "      <td>45601.290</td>\n",
       "      <td>33553.914</td>\n",
       "      <td>5.882349</td>\n",
       "      <td>6.936473</td>\n",
       "      <td>17.975550</td>\n",
       "      <td>6.254964</td>\n",
       "      <td>58.965458</td>\n",
       "      <td>9.972722</td>\n",
       "    </tr>\n",
       "    <tr>\n",
       "      <th>4</th>\n",
       "      <td>2231.29690</td>\n",
       "      <td>138.676830</td>\n",
       "      <td>106.468440</td>\n",
       "      <td>477.86517</td>\n",
       "      <td>628.816160</td>\n",
       "      <td>276.476560</td>\n",
       "      <td>1366.78370</td>\n",
       "      <td>11.245625</td>\n",
       "      <td>3.137640</td>\n",
       "      <td>147.823200</td>\n",
       "      <td>...</td>\n",
       "      <td>15043.5030</td>\n",
       "      <td>14511.4820</td>\n",
       "      <td>50365.547</td>\n",
       "      <td>37182.836</td>\n",
       "      <td>13262.363000</td>\n",
       "      <td>448.497340</td>\n",
       "      <td>3133.012200</td>\n",
       "      <td>29.297655</td>\n",
       "      <td>28.627400</td>\n",
       "      <td>2.507613</td>\n",
       "    </tr>\n",
       "  </tbody>\n",
       "</table>\n",
       "<p>5 rows × 54675 columns</p>\n",
       "</div>"
      ],
      "text/plain": [
       "    1007_s_at     1053_at      117_at     121_at   1255_g_at     1294_at  \\\n",
       "0   693.97330    9.755318   13.346846  173.09245   52.616950   67.753624   \n",
       "1   807.14514   19.052270   18.217276  289.31540  110.375984   96.780740   \n",
       "2  1722.62500   13.060389   97.425470  537.18280   99.021736   76.282050   \n",
       "3  1668.05750   14.652245   98.197945  496.34656   17.306772  189.819600   \n",
       "4  2231.29690  138.676830  106.468440  477.86517  628.816160  276.476560   \n",
       "\n",
       "      1316_at    1320_at   1405_i_at     1431_at  ...  AFFX-r2-Ec-bioD-3_at  \\\n",
       "0   209.41220  10.765010   10.559881   38.878853  ...             4114.2500   \n",
       "1   470.43307   3.834024   27.871660   73.023575  ...             5400.4585   \n",
       "2   908.26636   7.970618  121.391370   17.437328  ...            11152.8860   \n",
       "3  1029.78850   3.469380   48.153168   10.587775  ...            14431.4080   \n",
       "4  1366.78370  11.245625    3.137640  147.823200  ...            15043.5030   \n",
       "\n",
       "   AFFX-r2-Ec-bioD-5_at  AFFX-r2-P1-cre-3_at  AFFX-r2-P1-cre-5_at  \\\n",
       "0             4114.5767            13951.371             9590.616   \n",
       "1             4465.0913            19854.145            14496.598   \n",
       "2             8695.5380            47580.984            33593.055   \n",
       "3            10365.0530            45601.290            33553.914   \n",
       "4            14511.4820            50365.547            37182.836   \n",
       "\n",
       "   AFFX-ThrX-3_at  AFFX-ThrX-5_at  AFFX-ThrX-M_at  AFFX-TrpnX-3_at  \\\n",
       "0     1821.608200       46.302326      279.892550         9.149380   \n",
       "1       21.710300        5.705804        3.477558         1.878478   \n",
       "2       36.736942       30.422820        6.315493         8.501900   \n",
       "3        5.882349        6.936473       17.975550         6.254964   \n",
       "4    13262.363000      448.497340     3133.012200        29.297655   \n",
       "\n",
       "   AFFX-TrpnX-5_at  AFFX-TrpnX-M_at  \n",
       "0         5.280712         7.380331  \n",
       "1         3.469311         3.117868  \n",
       "2        23.347307        67.153730  \n",
       "3        58.965458         9.972722  \n",
       "4        28.627400         2.507613  \n",
       "\n",
       "[5 rows x 54675 columns]"
      ]
     },
     "execution_count": 8,
     "metadata": {},
     "output_type": "execute_result"
    }
   ],
   "source": [
    "# Display features set\n",
    "X.head()"
   ]
  },
  {
   "cell_type": "code",
   "execution_count": 9,
   "id": "838d3d65",
   "metadata": {},
   "outputs": [
    {
     "name": "stdout",
     "output_type": "stream",
     "text": [
      "<class 'pandas.core.frame.DataFrame'>\n",
      "RangeIndex: 161 entries, 0 to 160\n",
      "Columns: 54675 entries, 1007_s_at to AFFX-TrpnX-M_at\n",
      "dtypes: float64(54675)\n",
      "memory usage: 67.2 MB\n"
     ]
    }
   ],
   "source": [
    "# Check data type of all features\n",
    "X.info()"
   ]
  },
  {
   "cell_type": "code",
   "execution_count": 10,
   "id": "5b2626ad",
   "metadata": {},
   "outputs": [
    {
     "name": "stdout",
     "output_type": "stream",
     "text": [
      "Maximum value: 528043.5\n",
      "Minimum value: 0.0553793\n"
     ]
    }
   ],
   "source": [
    "# Print maximum value and minimum value in the features set\n",
    "print('Maximum value: ' + str(X.max().max()))\n",
    "print('Minimum value: ' + str(X.min().min()))"
   ]
  },
  {
   "cell_type": "code",
   "execution_count": 11,
   "id": "0919f58d",
   "metadata": {},
   "outputs": [],
   "source": [
    "# Import 'preprocessing' library from 'sklearn' library\n",
    "from sklearn import preprocessing"
   ]
  },
  {
   "cell_type": "code",
   "execution_count": 12,
   "id": "ab7d2ec1",
   "metadata": {},
   "outputs": [],
   "source": [
    "# Normalizing features set (Every feature normalized separately)\n",
    "scaler = preprocessing.MinMaxScaler()\n",
    "headers = X.columns\n",
    "new_X = scaler.fit_transform(X)\n",
    "scaled_X = pd.DataFrame(new_X, columns=headers)"
   ]
  },
  {
   "cell_type": "code",
   "execution_count": 13,
   "id": "5d0a3e03",
   "metadata": {},
   "outputs": [
    {
     "data": {
      "text/html": [
       "<div>\n",
       "<style scoped>\n",
       "    .dataframe tbody tr th:only-of-type {\n",
       "        vertical-align: middle;\n",
       "    }\n",
       "\n",
       "    .dataframe tbody tr th {\n",
       "        vertical-align: top;\n",
       "    }\n",
       "\n",
       "    .dataframe thead th {\n",
       "        text-align: right;\n",
       "    }\n",
       "</style>\n",
       "<table border=\"1\" class=\"dataframe\">\n",
       "  <thead>\n",
       "    <tr style=\"text-align: right;\">\n",
       "      <th></th>\n",
       "      <th>1007_s_at</th>\n",
       "      <th>1053_at</th>\n",
       "      <th>117_at</th>\n",
       "      <th>121_at</th>\n",
       "      <th>1255_g_at</th>\n",
       "      <th>1294_at</th>\n",
       "      <th>1316_at</th>\n",
       "      <th>1320_at</th>\n",
       "      <th>1405_i_at</th>\n",
       "      <th>1431_at</th>\n",
       "      <th>...</th>\n",
       "      <th>AFFX-r2-Ec-bioD-3_at</th>\n",
       "      <th>AFFX-r2-Ec-bioD-5_at</th>\n",
       "      <th>AFFX-r2-P1-cre-3_at</th>\n",
       "      <th>AFFX-r2-P1-cre-5_at</th>\n",
       "      <th>AFFX-ThrX-3_at</th>\n",
       "      <th>AFFX-ThrX-5_at</th>\n",
       "      <th>AFFX-ThrX-M_at</th>\n",
       "      <th>AFFX-TrpnX-3_at</th>\n",
       "      <th>AFFX-TrpnX-5_at</th>\n",
       "      <th>AFFX-TrpnX-M_at</th>\n",
       "    </tr>\n",
       "  </thead>\n",
       "  <tbody>\n",
       "    <tr>\n",
       "      <th>0</th>\n",
       "      <td>0.192066</td>\n",
       "      <td>0.035711</td>\n",
       "      <td>0.061625</td>\n",
       "      <td>0.170116</td>\n",
       "      <td>0.078732</td>\n",
       "      <td>0.170804</td>\n",
       "      <td>0.070598</td>\n",
       "      <td>0.070331</td>\n",
       "      <td>0.059378</td>\n",
       "      <td>0.149794</td>\n",
       "      <td>...</td>\n",
       "      <td>0.003083</td>\n",
       "      <td>0.004239</td>\n",
       "      <td>0.004786</td>\n",
       "      <td>0.002532</td>\n",
       "      <td>0.028735</td>\n",
       "      <td>0.017846</td>\n",
       "      <td>0.016189</td>\n",
       "      <td>0.040901</td>\n",
       "      <td>0.029207</td>\n",
       "      <td>0.062306</td>\n",
       "    </tr>\n",
       "    <tr>\n",
       "      <th>1</th>\n",
       "      <td>0.227039</td>\n",
       "      <td>0.079360</td>\n",
       "      <td>0.090087</td>\n",
       "      <td>0.302222</td>\n",
       "      <td>0.171081</td>\n",
       "      <td>0.260997</td>\n",
       "      <td>0.195920</td>\n",
       "      <td>0.019980</td>\n",
       "      <td>0.161671</td>\n",
       "      <td>0.286513</td>\n",
       "      <td>...</td>\n",
       "      <td>0.010498</td>\n",
       "      <td>0.006378</td>\n",
       "      <td>0.016213</td>\n",
       "      <td>0.015200</td>\n",
       "      <td>0.000311</td>\n",
       "      <td>0.001744</td>\n",
       "      <td>0.000117</td>\n",
       "      <td>0.005659</td>\n",
       "      <td>0.016431</td>\n",
       "      <td>0.023065</td>\n",
       "    </tr>\n",
       "    <tr>\n",
       "      <th>2</th>\n",
       "      <td>0.509945</td>\n",
       "      <td>0.051228</td>\n",
       "      <td>0.552980</td>\n",
       "      <td>0.583963</td>\n",
       "      <td>0.152927</td>\n",
       "      <td>0.197303</td>\n",
       "      <td>0.406134</td>\n",
       "      <td>0.050031</td>\n",
       "      <td>0.714266</td>\n",
       "      <td>0.063939</td>\n",
       "      <td>...</td>\n",
       "      <td>0.043663</td>\n",
       "      <td>0.032197</td>\n",
       "      <td>0.069888</td>\n",
       "      <td>0.064511</td>\n",
       "      <td>0.000549</td>\n",
       "      <td>0.011548</td>\n",
       "      <td>0.000282</td>\n",
       "      <td>0.037763</td>\n",
       "      <td>0.156628</td>\n",
       "      <td>0.612593</td>\n",
       "    </tr>\n",
       "    <tr>\n",
       "      <th>3</th>\n",
       "      <td>0.493082</td>\n",
       "      <td>0.058702</td>\n",
       "      <td>0.557494</td>\n",
       "      <td>0.537546</td>\n",
       "      <td>0.022275</td>\n",
       "      <td>0.550088</td>\n",
       "      <td>0.464479</td>\n",
       "      <td>0.017331</td>\n",
       "      <td>0.281511</td>\n",
       "      <td>0.036513</td>\n",
       "      <td>...</td>\n",
       "      <td>0.062565</td>\n",
       "      <td>0.042386</td>\n",
       "      <td>0.066056</td>\n",
       "      <td>0.064410</td>\n",
       "      <td>0.000061</td>\n",
       "      <td>0.002232</td>\n",
       "      <td>0.000960</td>\n",
       "      <td>0.026872</td>\n",
       "      <td>0.407838</td>\n",
       "      <td>0.086172</td>\n",
       "    </tr>\n",
       "    <tr>\n",
       "      <th>4</th>\n",
       "      <td>0.667137</td>\n",
       "      <td>0.640986</td>\n",
       "      <td>0.605827</td>\n",
       "      <td>0.516539</td>\n",
       "      <td>1.000000</td>\n",
       "      <td>0.819349</td>\n",
       "      <td>0.626279</td>\n",
       "      <td>0.073823</td>\n",
       "      <td>0.015521</td>\n",
       "      <td>0.586020</td>\n",
       "      <td>...</td>\n",
       "      <td>0.066094</td>\n",
       "      <td>0.067692</td>\n",
       "      <td>0.075279</td>\n",
       "      <td>0.073781</td>\n",
       "      <td>0.209401</td>\n",
       "      <td>0.177373</td>\n",
       "      <td>0.182081</td>\n",
       "      <td>0.138562</td>\n",
       "      <td>0.193868</td>\n",
       "      <td>0.017447</td>\n",
       "    </tr>\n",
       "  </tbody>\n",
       "</table>\n",
       "<p>5 rows × 54675 columns</p>\n",
       "</div>"
      ],
      "text/plain": [
       "   1007_s_at   1053_at    117_at    121_at  1255_g_at   1294_at   1316_at  \\\n",
       "0   0.192066  0.035711  0.061625  0.170116   0.078732  0.170804  0.070598   \n",
       "1   0.227039  0.079360  0.090087  0.302222   0.171081  0.260997  0.195920   \n",
       "2   0.509945  0.051228  0.552980  0.583963   0.152927  0.197303  0.406134   \n",
       "3   0.493082  0.058702  0.557494  0.537546   0.022275  0.550088  0.464479   \n",
       "4   0.667137  0.640986  0.605827  0.516539   1.000000  0.819349  0.626279   \n",
       "\n",
       "    1320_at  1405_i_at   1431_at  ...  AFFX-r2-Ec-bioD-3_at  \\\n",
       "0  0.070331   0.059378  0.149794  ...              0.003083   \n",
       "1  0.019980   0.161671  0.286513  ...              0.010498   \n",
       "2  0.050031   0.714266  0.063939  ...              0.043663   \n",
       "3  0.017331   0.281511  0.036513  ...              0.062565   \n",
       "4  0.073823   0.015521  0.586020  ...              0.066094   \n",
       "\n",
       "   AFFX-r2-Ec-bioD-5_at  AFFX-r2-P1-cre-3_at  AFFX-r2-P1-cre-5_at  \\\n",
       "0              0.004239             0.004786             0.002532   \n",
       "1              0.006378             0.016213             0.015200   \n",
       "2              0.032197             0.069888             0.064511   \n",
       "3              0.042386             0.066056             0.064410   \n",
       "4              0.067692             0.075279             0.073781   \n",
       "\n",
       "   AFFX-ThrX-3_at  AFFX-ThrX-5_at  AFFX-ThrX-M_at  AFFX-TrpnX-3_at  \\\n",
       "0        0.028735        0.017846        0.016189         0.040901   \n",
       "1        0.000311        0.001744        0.000117         0.005659   \n",
       "2        0.000549        0.011548        0.000282         0.037763   \n",
       "3        0.000061        0.002232        0.000960         0.026872   \n",
       "4        0.209401        0.177373        0.182081         0.138562   \n",
       "\n",
       "   AFFX-TrpnX-5_at  AFFX-TrpnX-M_at  \n",
       "0         0.029207         0.062306  \n",
       "1         0.016431         0.023065  \n",
       "2         0.156628         0.612593  \n",
       "3         0.407838         0.086172  \n",
       "4         0.193868         0.017447  \n",
       "\n",
       "[5 rows x 54675 columns]"
      ]
     },
     "execution_count": 13,
     "metadata": {},
     "output_type": "execute_result"
    }
   ],
   "source": [
    "# Display normalized features set\n",
    "scaled_X.head()"
   ]
  },
  {
   "cell_type": "code",
   "execution_count": 14,
   "id": "b7608135",
   "metadata": {},
   "outputs": [],
   "source": [
    "# Extracting target from dataframe\n",
    "y = df.iloc[:,1]"
   ]
  },
  {
   "cell_type": "code",
   "execution_count": 15,
   "id": "bdb6329f",
   "metadata": {},
   "outputs": [
    {
     "data": {
      "text/plain": [
       "0    0\n",
       "1    0\n",
       "2    0\n",
       "3    0\n",
       "4    0\n",
       "Name: TARGET, dtype: int64"
      ]
     },
     "execution_count": 15,
     "metadata": {},
     "output_type": "execute_result"
    }
   ],
   "source": [
    "# Display target\n",
    "y.head()"
   ]
  },
  {
   "cell_type": "code",
   "execution_count": 16,
   "id": "dcdade3d",
   "metadata": {},
   "outputs": [
    {
     "data": {
      "text/plain": [
       "1    87\n",
       "0    74\n",
       "Name: TARGET, dtype: int64"
      ]
     },
     "execution_count": 16,
     "metadata": {},
     "output_type": "execute_result"
    }
   ],
   "source": [
    "# Show value counts in target\n",
    "y.value_counts()"
   ]
  },
  {
   "cell_type": "code",
   "execution_count": 17,
   "id": "7daae959",
   "metadata": {},
   "outputs": [],
   "source": [
    "# Import 'PCA' from 'sklearn' library\n",
    "from sklearn.decomposition import PCA"
   ]
  },
  {
   "cell_type": "code",
   "execution_count": 18,
   "id": "a31d1949",
   "metadata": {},
   "outputs": [],
   "source": [
    "# Perform Principal Component Analysis on raw data\n",
    "pca = PCA(n_components=2)\n",
    "principalComponents = pca.fit_transform(scaled_X)\n",
    "principal_DF = pd.DataFrame(data = principalComponents, columns = ['principal component 1', 'principal component 2'])"
   ]
  },
  {
   "cell_type": "code",
   "execution_count": 19,
   "id": "4f78be72",
   "metadata": {},
   "outputs": [
    {
     "data": {
      "text/plain": [
       "(161, 2)"
      ]
     },
     "execution_count": 19,
     "metadata": {},
     "output_type": "execute_result"
    }
   ],
   "source": [
    "# Check dimensions of the dataframe\n",
    "principal_DF.shape"
   ]
  },
  {
   "cell_type": "code",
   "execution_count": 20,
   "id": "76a3ac4a",
   "metadata": {},
   "outputs": [],
   "source": [
    "# Import 'matplotlib' library\n",
    "import matplotlib.pyplot as plt"
   ]
  },
  {
   "cell_type": "code",
   "execution_count": 21,
   "id": "36a6d602",
   "metadata": {},
   "outputs": [
    {
     "data": {
      "image/png": "[encoded data removed]",
      "text/plain": [
       "<Figure size 576x432 with 1 Axes>"
      ]
     },
     "metadata": {
      "needs_background": "light"
     },
     "output_type": "display_data"
    }
   ],
   "source": [
    "# Plotting data generated from PCA\n",
    "plt.figure(figsize=(8,6))\n",
    "plt.rcParams.update({'font.size': 12, 'font.family': 'DejaVu Sans'})\n",
    "\n",
    "ax = plt.scatter(x=principal_DF.iloc[:,0], y=principal_DF.iloc[:,1], c=y, cmap='winter')\n",
    "plt.xlabel('First principal component')\n",
    "plt.ylabel('Second Principal Component')\n",
    "plt.legend(*ax.legend_elements())\n",
    "plt.show()"
   ]
  },
  {
   "cell_type": "code",
   "execution_count": 22,
   "id": "f35b60d6",
   "metadata": {},
   "outputs": [],
   "source": [
    "# Import 'f_classif' and 'SelectKBest' from 'sklearn' library\n",
    "from sklearn.feature_selection import f_classif,SelectKBest"
   ]
  },
  {
   "cell_type": "code",
   "execution_count": 23,
   "id": "7f65abf2",
   "metadata": {},
   "outputs": [],
   "source": [
    "# Select best 50 features from normalized features set using 'ANOVA' method\n",
    "fs = SelectKBest(score_func=f_classif, k=50)\n",
    "fs.fit(scaled_X,y)\n",
    "cols = fs.get_support(indices=True)\n",
    "features_50_X = scaled_X.iloc[:,cols]"
   ]
  },
  {
   "cell_type": "code",
   "execution_count": 24,
   "id": "211dc5cf",
   "metadata": {},
   "outputs": [
    {
     "data": {
      "text/plain": [
       "(161, 50)"
      ]
     },
     "execution_count": 24,
     "metadata": {},
     "output_type": "execute_result"
    }
   ],
   "source": [
    "# Check the shape of selected features set\n",
    "features_50_X.shape"
   ]
  },
  {
   "cell_type": "code",
   "execution_count": 25,
   "id": "a3dca1b2",
   "metadata": {},
   "outputs": [],
   "source": [
    "# Select best 40 features from 50 features set using 'ANOVA' method\n",
    "fs = SelectKBest(score_func=f_classif, k=40)\n",
    "fs.fit(features_50_X,y)\n",
    "cols = fs.get_support(indices=True)\n",
    "features_40_X = features_50_X.iloc[:,cols]"
   ]
  },
  {
   "cell_type": "code",
   "execution_count": 26,
   "id": "3a0536a6",
   "metadata": {},
   "outputs": [
    {
     "data": {
      "text/plain": [
       "(161, 40)"
      ]
     },
     "execution_count": 26,
     "metadata": {},
     "output_type": "execute_result"
    }
   ],
   "source": [
    "# Check the shape of selected features set\n",
    "features_40_X.shape"
   ]
  },
  {
   "cell_type": "code",
   "execution_count": 27,
   "id": "ece68b7a",
   "metadata": {},
   "outputs": [],
   "source": [
    "# Select best 30 features from 40 features set using 'ANOVA' method\n",
    "fs = SelectKBest(score_func=f_classif, k=30)\n",
    "fs.fit(features_40_X,y)\n",
    "cols = fs.get_support(indices=True)\n",
    "features_30_X = features_40_X.iloc[:,cols]"
   ]
  },
  {
   "cell_type": "code",
   "execution_count": 28,
   "id": "8b95084b",
   "metadata": {},
   "outputs": [
    {
     "data": {
      "text/plain": [
       "(161, 30)"
      ]
     },
     "execution_count": 28,
     "metadata": {},
     "output_type": "execute_result"
    }
   ],
   "source": [
    "# Check the shape of selected features set\n",
    "features_30_X.shape"
   ]
  },
  {
   "cell_type": "code",
   "execution_count": 29,
   "id": "955f7432",
   "metadata": {},
   "outputs": [],
   "source": [
    "# Select best 20 features from 30 features set using 'ANOVA' method\n",
    "fs = SelectKBest(score_func=f_classif, k=20)\n",
    "fs.fit(features_30_X,y)\n",
    "cols = fs.get_support(indices=True)\n",
    "features_20_X = features_30_X.iloc[:,cols]"
   ]
  },
  {
   "cell_type": "code",
   "execution_count": 30,
   "id": "4a815805",
   "metadata": {},
   "outputs": [
    {
     "data": {
      "text/plain": [
       "(161, 20)"
      ]
     },
     "execution_count": 30,
     "metadata": {},
     "output_type": "execute_result"
    }
   ],
   "source": [
    "# Check the shape of selected features set\n",
    "features_20_X.shape"
   ]
  },
  {
   "cell_type": "code",
   "execution_count": 31,
   "id": "a130f790",
   "metadata": {},
   "outputs": [],
   "source": [
    "# Select best 10 features from 20 features set using 'ANOVA' method\n",
    "fs = SelectKBest(score_func=f_classif, k=10)\n",
    "fs.fit(features_20_X,y)\n",
    "cols = fs.get_support(indices=True)\n",
    "features_10_X = features_20_X.iloc[:,cols]"
   ]
  },
  {
   "cell_type": "code",
   "execution_count": 32,
   "id": "a5620a9e",
   "metadata": {},
   "outputs": [
    {
     "data": {
      "text/plain": [
       "(161, 10)"
      ]
     },
     "execution_count": 32,
     "metadata": {},
     "output_type": "execute_result"
    }
   ],
   "source": [
    "# Check the shape of selected features set\n",
    "features_10_X.shape"
   ]
  },
  {
   "cell_type": "code",
   "execution_count": 33,
   "id": "54d52074",
   "metadata": {},
   "outputs": [],
   "source": [
    "# Create 'models' dictionary and store all machine learning models in the dictionary\n",
    "models = {}\n",
    "\n",
    "# Logistic Regression\n",
    "from sklearn.linear_model import LogisticRegression\n",
    "models['Logistic Regression'] = LogisticRegression()\n",
    "\n",
    "# Support Vector Machines\n",
    "from sklearn.svm import LinearSVC\n",
    "models['Support Vector Machines'] = LinearSVC()\n",
    "\n",
    "# Naive Bayes\n",
    "from sklearn.naive_bayes import GaussianNB\n",
    "models['Naive Bayes'] = GaussianNB()\n",
    "\n",
    "# K-Nearest Neighbors\n",
    "from sklearn.neighbors import KNeighborsClassifier\n",
    "models['K-Nearest Neighbor'] = KNeighborsClassifier()\n",
    "\n",
    "# Decision Trees\n",
    "from sklearn.tree import DecisionTreeClassifier\n",
    "models['Decision Trees'] = DecisionTreeClassifier()\n",
    "\n",
    "# Random Forest\n",
    "from sklearn.ensemble import RandomForestClassifier\n",
    "models['Random Forest'] = RandomForestClassifier()\n",
    "\n",
    "# Import 'cross_val_score' from 'sklearn' library\n",
    "from sklearn.model_selection import cross_val_score\n",
    "\n",
    "# Create dictionaries to store perfomance measures\n",
    "accuracy, precision, recall, f1 = {}, {}, {}, {}\n",
    "std_accuracy, std_precision, std_recall, std_f1 = {}, {}, {}, {}\n",
    "full_accuracy, full_precision, full_recall, full_f1 = {}, {}, {}, {}\n",
    "\n",
    "# Iterating through every machine learning model in 'models' dictionary\n",
    "for x in ['50', '40', '30', '20', '10']:\n",
    "\n",
    "    for key in models.keys():\n",
    "          \n",
    "        fs = 'features_' + x + '_X'\n",
    "        \n",
    "        # Fit the classifier\n",
    "        accuracy[key] = cross_val_score(models[key], locals()[fs], y, cv=5, scoring='accuracy').mean()*100\n",
    "        precision[key] = cross_val_score(models[key], locals()[fs], y, cv=5, scoring='precision').mean()*100\n",
    "        recall[key] = cross_val_score(models[key], locals()[fs], y, cv=5, scoring='recall').mean()*100\n",
    "        f1[key] = cross_val_score(models[key], locals()[fs], y, cv=5, scoring='f1').mean()*100\n",
    "\n",
    "        std_accuracy[key] = cross_val_score(models[key], locals()[fs], y, cv=5, scoring='accuracy').std()*100\n",
    "        std_precision[key] = cross_val_score(models[key], locals()[fs], y, cv=5, scoring='precision').std()*100\n",
    "        std_recall[key] = cross_val_score(models[key], locals()[fs], y, cv=5, scoring='recall').std()*100\n",
    "        std_f1[key] = cross_val_score(models[key], locals()[fs], y, cv=5, scoring='f1').std()*100\n",
    "\n",
    "        full_accuracy[key] = str(np.around(accuracy[key],2)) + ' ± ' + str(np.around(std_accuracy[key],2))\n",
    "        full_precision[key] = str(np.around(precision[key],2)) + ' ± ' + str(np.around(std_precision[key],2))\n",
    "        full_recall[key] = str(np.around(recall[key],2)) + ' ± ' + str(np.around(std_recall[key],2))\n",
    "        full_f1[key] = str(np.around(f1[key],2)) + ' ± ' + str(np.around(std_f1[key],2))\n",
    "    \n",
    "    fs_performance = 'performance_' + x + '_features'\n",
    "    # Generate performace matrix for every machine learning model\n",
    "    locals()[fs_performance] = pd.DataFrame(index=models.keys(), columns=['Accuracy','Precision','Recall','F1 Score'])\n",
    "    locals()[fs_performance]['Accuracy'] = accuracy.values()\n",
    "    locals()[fs_performance]['Precision'] = precision.values()\n",
    "    locals()[fs_performance]['Recall'] = recall.values()\n",
    "    locals()[fs_performance]['F1 Score'] = f1.values()\n",
    "    \n",
    "    fs_std = 'std_' + x + '_features'\n",
    "    # Generate standard deviation matrix for every machine learning model\n",
    "    locals()[fs_std] = pd.DataFrame(index=models.keys(), columns=['Accuracy','Precision','Recall','F1 Score'])\n",
    "    locals()[fs_std]['Accuracy'] = std_accuracy.values()\n",
    "    locals()[fs_std]['Precision'] = std_precision.values()\n",
    "    locals()[fs_std]['Recall'] = std_recall.values()\n",
    "    locals()[fs_std]['F1 Score'] = std_f1.values()\n",
    "    \n",
    "    fs_full = 'full_' + x + '_features'\n",
    "    # Generate standard deviation matrix for every machine learning model\n",
    "    locals()[fs_full] = pd.DataFrame(index=models.keys(), columns=['Accuracy','Precision','Recall','F1 Score'])\n",
    "    locals()[fs_full]['Accuracy'] = full_accuracy.values()\n",
    "    locals()[fs_full]['Precision'] = full_precision.values()\n",
    "    locals()[fs_full]['Recall'] = full_recall.values()\n",
    "    locals()[fs_full]['F1 Score'] = full_f1.values()"
   ]
  },
  {
   "cell_type": "code",
   "execution_count": 34,
   "id": "fa4dc10f",
   "metadata": {},
   "outputs": [],
   "source": [
    "# Generate dataframe for accuracy with highest accuracy value from each set of features\n",
    "features =['10 Features','20 Features','30 Features','40 Features', '50 Features']\n",
    "model = [performance_10_features['Accuracy'].idxmax(), performance_20_features['Accuracy'].idxmax(), performance_30_features['Accuracy'].idxmax(), performance_40_features['Accuracy'].idxmax(), performance_50_features['Accuracy'].idxmax()]\n",
    "accuracy = [performance_10_features['Accuracy'].max(), performance_20_features['Accuracy'].max(),performance_30_features['Accuracy'].max(),performance_40_features['Accuracy'].max(),performance_50_features['Accuracy'].max()]\n",
    "\n",
    "accuracy_df = pd.DataFrame({'Model':model, 'Accuracy':accuracy}, index=features)\n",
    "accuracy_df.Accuracy = accuracy_df.Accuracy.round(2)"
   ]
  },
  {
   "cell_type": "code",
   "execution_count": 35,
   "id": "27275249",
   "metadata": {},
   "outputs": [],
   "source": [
    "# Import 'tabulate' library\n",
    "from tabulate import tabulate"
   ]
  },
  {
   "cell_type": "code",
   "execution_count": 36,
   "id": "5178af92",
   "metadata": {},
   "outputs": [
    {
     "name": "stdout",
     "output_type": "stream",
     "text": [
      "Accuracy Table\n",
      "\n",
      "╒═════════════╤═════════════════════════╤════════════╕\n",
      "│             │ Model                   │   Accuracy │\n",
      "╞═════════════╪═════════════════════════╪════════════╡\n",
      "│ 50 Features │ Support Vector Machines │      91.91 │\n",
      "├─────────────┼─────────────────────────┼────────────┤\n",
      "│ 40 Features │ Support Vector Machines │      92.54 │\n",
      "├─────────────┼─────────────────────────┼────────────┤\n",
      "│ 30 Features │ Support Vector Machines │      91.91 │\n",
      "├─────────────┼─────────────────────────┼────────────┤\n",
      "│ 20 Features │ Support Vector Machines │      91.29 │\n",
      "├─────────────┼─────────────────────────┼────────────┤\n",
      "│ 10 Features │ Logistic Regression     │      90.7  │\n",
      "╘═════════════╧═════════════════════════╧════════════╛\n"
     ]
    }
   ],
   "source": [
    "# Tabulating accuracy table\n",
    "print('Accuracy Table\\n')\n",
    "print(tabulate(accuracy_df[::-1], headers = accuracy_df.columns, tablefmt = 'fancy_grid'))"
   ]
  },
  {
   "cell_type": "code",
   "execution_count": 37,
   "id": "36351119",
   "metadata": {},
   "outputs": [
    {
     "data": {
      "text/plain": [
       "<Figure size 432x288 with 0 Axes>"
      ]
     },
     "metadata": {},
     "output_type": "display_data"
    },
    {
     "data": {
      "image/png": "[encoded data removed]",
      "text/plain": [
       "<Figure size 720x216 with 1 Axes>"
      ]
     },
     "metadata": {
      "needs_background": "light"
     },
     "output_type": "display_data"
    }
   ],
   "source": [
    "# Plotting accuracy chart\n",
    "fig = plt.figure()\n",
    "ax = accuracy_df.plot.barh()\n",
    "ax.set_axisbelow(True)\n",
    "ax.grid(color='gray', linestyle='dashed')\n",
    "ax.set_title('Accuracy According to Selected Features Sets', fontsize=20)\n",
    "ax.set_xlabel('Accuracy', fontsize=15)\n",
    "ax.get_legend().remove()\n",
    "plt.gcf().set_size_inches(10, 3)\n",
    "plt.show()"
   ]
  },
  {
   "cell_type": "code",
   "execution_count": 38,
   "id": "4b0ebb4a",
   "metadata": {},
   "outputs": [],
   "source": [
    "# Generate dataframe for recall with highest recall value from each set of features\n",
    "model = [performance_10_features['Recall'].idxmax(), performance_20_features['Recall'].idxmax(), performance_30_features['Recall'].idxmax(), performance_40_features['Recall'].idxmax(), performance_50_features['Recall'].idxmax()]\n",
    "recall = [performance_10_features['Recall'].max(), performance_20_features['Recall'].max(),performance_30_features['Recall'].max(),performance_40_features['Recall'].max(),performance_50_features['Recall'].max()]\n",
    "\n",
    "recall_df = pd.DataFrame({'Model':model, 'Recall':recall}, index=features)\n",
    "recall_df.Recall = recall_df.Recall.round(2)"
   ]
  },
  {
   "cell_type": "code",
   "execution_count": 39,
   "id": "6822b685",
   "metadata": {},
   "outputs": [
    {
     "name": "stdout",
     "output_type": "stream",
     "text": [
      "Recall Table\n",
      "\n",
      "╒═════════════╤════════════════════╤══════════╕\n",
      "│             │ Model              │   Recall │\n",
      "╞═════════════╪════════════════════╪══════════╡\n",
      "│ 50 Features │ K-Nearest Neighbor │    98.82 │\n",
      "├─────────────┼────────────────────┼──────────┤\n",
      "│ 40 Features │ K-Nearest Neighbor │   100    │\n",
      "├─────────────┼────────────────────┼──────────┤\n",
      "│ 30 Features │ K-Nearest Neighbor │    98.82 │\n",
      "├─────────────┼────────────────────┼──────────┤\n",
      "│ 20 Features │ K-Nearest Neighbor │   100    │\n",
      "├─────────────┼────────────────────┼──────────┤\n",
      "│ 10 Features │ K-Nearest Neighbor │   100    │\n",
      "╘═════════════╧════════════════════╧══════════╛\n"
     ]
    }
   ],
   "source": [
    "# Tabulating accuracy table\n",
    "print('Recall Table\\n')\n",
    "print(tabulate(recall_df[::-1], headers = recall_df.columns, tablefmt = 'fancy_grid'))"
   ]
  },
  {
   "cell_type": "code",
   "execution_count": 40,
   "id": "4f82fa16",
   "metadata": {},
   "outputs": [
    {
     "data": {
      "text/plain": [
       "<Figure size 432x288 with 0 Axes>"
      ]
     },
     "metadata": {},
     "output_type": "display_data"
    },
    {
     "data": {
      "image/png": "[encoded data removed]",
      "text/plain": [
       "<Figure size 720x216 with 1 Axes>"
      ]
     },
     "metadata": {
      "needs_background": "light"
     },
     "output_type": "display_data"
    }
   ],
   "source": [
    "# Plotting recall chart\n",
    "fig = plt.figure()\n",
    "ax = recall_df.plot.barh()\n",
    "ax.set_axisbelow(True)\n",
    "ax.grid(color='gray', linestyle='dashed')\n",
    "ax.set_title('Recall According to Selected Features Sets\\n', fontsize=20)\n",
    "ax.set_xlabel('Recall', fontsize=15)\n",
    "ax.get_legend().remove()\n",
    "plt.gcf().set_size_inches(10, 3)\n",
    "plt.show()"
   ]
  },
  {
   "cell_type": "code",
   "execution_count": 41,
   "id": "95aab58b",
   "metadata": {},
   "outputs": [],
   "source": [
    "# Merging accuracy and recall dataframes\n",
    "feature_performance = accuracy_df.merge(recall_df, how='outer', left_index=True, right_index=True)"
   ]
  },
  {
   "cell_type": "code",
   "execution_count": 42,
   "id": "e17f095f",
   "metadata": {},
   "outputs": [
    {
     "name": "stdout",
     "output_type": "stream",
     "text": [
      "Performance Table\n",
      "\n",
      "╒════════════╤════════════════╤══════════════╕\n",
      "│   Features │   Max Accuracy │   Max Recall │\n",
      "╞════════════╪════════════════╪══════════════╡\n",
      "│         10 │          91.91 │        98.82 │\n",
      "├────────────┼────────────────┼──────────────┤\n",
      "│         20 │          92.54 │       100    │\n",
      "├────────────┼────────────────┼──────────────┤\n",
      "│         30 │          91.91 │        98.82 │\n",
      "├────────────┼────────────────┼──────────────┤\n",
      "│         40 │          91.29 │       100    │\n",
      "├────────────┼────────────────┼──────────────┤\n",
      "│         50 │          90.7  │       100    │\n",
      "╘════════════╧════════════════╧══════════════╛\n"
     ]
    }
   ],
   "source": [
    "# Tabulating max performance table\n",
    "feature_performance['Features'] = ['50', '40', '30', '20', '10']\n",
    "feature_performance = feature_performance[['Features', 'Accuracy', 'Recall']]\n",
    "feature_performance.rename(columns = {'Accuracy':'Max Accuracy', 'Recall':'Max Recall'}, inplace = True)\n",
    "print('Performance Table\\n')\n",
    "print(tabulate(feature_performance[::-1], headers = feature_performance.columns, tablefmt = 'fancy_grid',  showindex = False))"
   ]
  },
  {
   "cell_type": "code",
   "execution_count": 43,
   "id": "04652479",
   "metadata": {},
   "outputs": [
    {
     "data": {
      "text/plain": [
       "Text(0, 0.5, 'Performance')"
      ]
     },
     "execution_count": 43,
     "metadata": {},
     "output_type": "execute_result"
    },
    {
     "data": {
      "image/png": "[encoded data removed]",
      "text/plain": [
       "<Figure size 432x432 with 1 Axes>"
      ]
     },
     "metadata": {
      "needs_background": "light"
     },
     "output_type": "display_data"
    }
   ],
   "source": [
    "# Plot max performance of each model \n",
    "ax = feature_performance.plot(grid=True, figsize=(6,6), x='Features')\n",
    "ax.set_ylim(75, 102)\n",
    "ax.locator_params(axis='x', nbins=10)\n",
    "ax.legend(loc='lower left')\n",
    "ax.set_ylabel('Performance')"
   ]
  },
  {
   "cell_type": "code",
   "execution_count": 44,
   "id": "2bb5e3aa",
   "metadata": {},
   "outputs": [],
   "source": [
    "# Get the mean of all accuracy values given by each model\n",
    "LR_values =[performance_10_features.at['Logistic Regression', 'Accuracy'],\n",
    "            performance_20_features.at['Logistic Regression', 'Accuracy'],\n",
    "            performance_30_features.at['Logistic Regression', 'Accuracy'],\n",
    "            performance_40_features.at['Logistic Regression', 'Accuracy'],\n",
    "            performance_50_features.at['Logistic Regression', 'Accuracy']]\n",
    "LR_mean = np.mean(LR_values)\n",
    "\n",
    "SVM_values =[performance_10_features.at['Support Vector Machines', 'Accuracy'],\n",
    "             performance_20_features.at['Support Vector Machines', 'Accuracy'],\n",
    "             performance_30_features.at['Support Vector Machines', 'Accuracy'],\n",
    "             performance_40_features.at['Support Vector Machines', 'Accuracy'],\n",
    "             performance_50_features.at['Support Vector Machines', 'Accuracy']]\n",
    "SVM_mean = np.mean(SVM_values)\n",
    "\n",
    "NB_values =[performance_10_features.at['Naive Bayes', 'Accuracy'],\n",
    "            performance_20_features.at['Naive Bayes', 'Accuracy'],\n",
    "            performance_30_features.at['Naive Bayes', 'Accuracy'],\n",
    "            performance_40_features.at['Naive Bayes', 'Accuracy'],\n",
    "            performance_50_features.at['Naive Bayes', 'Accuracy']]\n",
    "NB_mean = np.mean(NB_values)\n",
    "\n",
    "KNN_values =[performance_10_features.at['K-Nearest Neighbor', 'Accuracy'],\n",
    "             performance_20_features.at['K-Nearest Neighbor', 'Accuracy'],\n",
    "             performance_30_features.at['K-Nearest Neighbor', 'Accuracy'],\n",
    "             performance_40_features.at['K-Nearest Neighbor', 'Accuracy'],\n",
    "             performance_50_features.at['K-Nearest Neighbor', 'Accuracy']]\n",
    "KNN_mean = np.mean(KNN_values)\n",
    "\n",
    "DT_values =[performance_10_features.at['Decision Trees', 'Accuracy'],\n",
    "            performance_20_features.at['Decision Trees', 'Accuracy'],\n",
    "            performance_30_features.at['Decision Trees', 'Accuracy'],\n",
    "            performance_40_features.at['Decision Trees', 'Accuracy'],\n",
    "            performance_50_features.at['Decision Trees', 'Accuracy']]\n",
    "DT_mean = np.mean(DT_values)\n",
    "\n",
    "RF_values =[performance_10_features.at['Random Forest', 'Accuracy'],\n",
    "            performance_20_features.at['Random Forest', 'Accuracy'],\n",
    "            performance_30_features.at['Random Forest', 'Accuracy'],\n",
    "            performance_40_features.at['Random Forest', 'Accuracy'],\n",
    "            performance_50_features.at['Random Forest', 'Accuracy']]\n",
    "RF_mean = np.mean(RF_values)"
   ]
  },
  {
   "cell_type": "code",
   "execution_count": 45,
   "id": "6ecaf35d",
   "metadata": {},
   "outputs": [],
   "source": [
    "# Generate dataframe to store model performance\n",
    "model = ['Logistic Regression', 'Support Vector Machines', 'Naive Bayes', 'K-Nearest Neighbor', 'Decision Trees', 'Random Forest']\n",
    "accuracy_value = [LR_mean, SVM_mean, NB_mean, KNN_mean, DT_mean, RF_mean]\n",
    "model_performance_acc = pd.DataFrame({'Model': model, 'Mean Accuracy':accuracy_value})"
   ]
  },
  {
   "cell_type": "code",
   "execution_count": 46,
   "id": "890336f5",
   "metadata": {},
   "outputs": [
    {
     "name": "stdout",
     "output_type": "stream",
     "text": [
      "Performance Table\n",
      "\n",
      "╒═════════════════════════╤═════════════════╕\n",
      "│ Model                   │   Mean Accuracy │\n",
      "╞═════════════════════════╪═════════════════╡\n",
      "│ Random Forest           │         88.0795 │\n",
      "├─────────────────────────┼─────────────────┤\n",
      "│ Decision Trees          │         86.3788 │\n",
      "├─────────────────────────┼─────────────────┤\n",
      "│ K-Nearest Neighbor      │         88.553  │\n",
      "├─────────────────────────┼─────────────────┤\n",
      "│ Naive Bayes             │         87.5871 │\n",
      "├─────────────────────────┼─────────────────┤\n",
      "│ Support Vector Machines │         91.4167 │\n",
      "├─────────────────────────┼─────────────────┤\n",
      "│ Logistic Regression     │         89.947  │\n",
      "╘═════════════════════════╧═════════════════╛\n"
     ]
    }
   ],
   "source": [
    "# Tabulating mean accuracy table\n",
    "print('Performance Table\\n')\n",
    "print(tabulate(model_performance_acc[::-1], headers = model_performance_acc.columns, tablefmt = 'fancy_grid', showindex = False))"
   ]
  },
  {
   "cell_type": "code",
   "execution_count": 47,
   "id": "6196c557",
   "metadata": {},
   "outputs": [
    {
     "data": {
      "text/plain": [
       "<Figure size 432x288 with 0 Axes>"
      ]
     },
     "metadata": {},
     "output_type": "display_data"
    },
    {
     "data": {
      "image/png": "[encoded data removed]",
      "text/plain": [
       "<Figure size 720x288 with 1 Axes>"
      ]
     },
     "metadata": {
      "needs_background": "light"
     },
     "output_type": "display_data"
    }
   ],
   "source": [
    "# Plotting mean accuracy chart\n",
    "fig = plt.figure()\n",
    "ax = model_performance_acc.plot.barh()\n",
    "ax.set_axisbelow(True)\n",
    "ax.grid(color='gray', linestyle='dashed')\n",
    "ax.set_title('Mean Accuracy of Machine Learning Models\\n', fontsize=20)\n",
    "ax.set_xlabel('Mean Accuracy', fontsize=15)\n",
    "ax.set_ylabel('Machine Learning Model', fontsize=15)\n",
    "ax.set_yticklabels(['LR', 'SVM', 'NB', 'KNN', 'DT', 'RF'], rotation = 'horizontal')\n",
    "ax.get_legend().remove()\n",
    "plt.gcf().set_size_inches(10, 4)\n",
    "plt.show()"
   ]
  },
  {
   "cell_type": "code",
   "execution_count": 48,
   "id": "9db66921",
   "metadata": {},
   "outputs": [],
   "source": [
    "# Get the mean of all recall values given by each model\n",
    "LR_values =[performance_10_features.at['Logistic Regression', 'Recall'],\n",
    "            performance_20_features.at['Logistic Regression', 'Recall'],\n",
    "            performance_30_features.at['Logistic Regression', 'Recall'],\n",
    "            performance_40_features.at['Logistic Regression', 'Recall'],\n",
    "            performance_50_features.at['Logistic Regression', 'Recall']]\n",
    "LR_mean = np.mean(LR_values)\n",
    "\n",
    "SVM_values =[performance_10_features.at['Support Vector Machines', 'Recall'],\n",
    "             performance_20_features.at['Support Vector Machines', 'Recall'],\n",
    "             performance_30_features.at['Support Vector Machines', 'Recall'],\n",
    "             performance_40_features.at['Support Vector Machines', 'Recall'],\n",
    "             performance_50_features.at['Support Vector Machines', 'Recall']]\n",
    "SVM_mean = np.mean(SVM_values)\n",
    "\n",
    "NB_values =[performance_10_features.at['Naive Bayes', 'Recall'],\n",
    "            performance_20_features.at['Naive Bayes', 'Recall'],\n",
    "            performance_30_features.at['Naive Bayes', 'Recall'],\n",
    "            performance_40_features.at['Naive Bayes', 'Recall'],\n",
    "            performance_50_features.at['Naive Bayes', 'Recall']]\n",
    "NB_mean = np.mean(NB_values)\n",
    "\n",
    "KNN_values =[performance_10_features.at['K-Nearest Neighbor', 'Recall'],\n",
    "             performance_20_features.at['K-Nearest Neighbor', 'Recall'],\n",
    "             performance_30_features.at['K-Nearest Neighbor', 'Recall'],\n",
    "             performance_40_features.at['K-Nearest Neighbor', 'Recall'],\n",
    "             performance_50_features.at['K-Nearest Neighbor', 'Recall']]\n",
    "KNN_mean = np.mean(KNN_values)\n",
    "\n",
    "DT_values =[performance_10_features.at['Decision Trees', 'Recall'],\n",
    "            performance_20_features.at['Decision Trees', 'Recall'],\n",
    "            performance_30_features.at['Decision Trees', 'Recall'],\n",
    "            performance_40_features.at['Decision Trees', 'Recall'],\n",
    "            performance_50_features.at['Decision Trees', 'Recall']]\n",
    "DT_mean = np.mean(DT_values)\n",
    "\n",
    "RF_values =[performance_10_features.at['Random Forest', 'Recall'],\n",
    "            performance_20_features.at['Random Forest', 'Recall'],\n",
    "            performance_30_features.at['Random Forest', 'Recall'],\n",
    "            performance_40_features.at['Random Forest', 'Recall'],\n",
    "            performance_50_features.at['Random Forest', 'Recall']]\n",
    "RF_mean = np.mean(RF_values)"
   ]
  },
  {
   "cell_type": "code",
   "execution_count": 49,
   "id": "0809bafd",
   "metadata": {},
   "outputs": [],
   "source": [
    "# Generate dataframe to store model performance\n",
    "model = ['Logistic Regression', 'Support Vector Machines', 'Naive Bayes', 'K-Nearest Neighbor', 'Decision Trees', 'Random Forest']\n",
    "recall_value = [LR_mean, SVM_mean, NB_mean, KNN_mean, DT_mean, RF_mean]\n",
    "model_performance_r = pd.DataFrame({'Model': model, 'Mean Recall':recall_value})"
   ]
  },
  {
   "cell_type": "code",
   "execution_count": 50,
   "id": "68f6b6da",
   "metadata": {},
   "outputs": [
    {
     "name": "stdout",
     "output_type": "stream",
     "text": [
      "Performance Table\n",
      "\n",
      "╒═════════════════════════╤═══════════════╕\n",
      "│ Model                   │   Mean Recall │\n",
      "╞═════════════════════════╪═══════════════╡\n",
      "│ Random Forest           │       94.7712 │\n",
      "├─────────────────────────┼───────────────┤\n",
      "│ Decision Trees          │       87.0719 │\n",
      "├─────────────────────────┼───────────────┤\n",
      "│ K-Nearest Neighbor      │       99.5294 │\n",
      "├─────────────────────────┼───────────────┤\n",
      "│ Naive Bayes             │       94.9804 │\n",
      "├─────────────────────────┼───────────────┤\n",
      "│ Support Vector Machines │       96.1307 │\n",
      "├─────────────────────────┼───────────────┤\n",
      "│ Logistic Regression     │       95.8824 │\n",
      "╘═════════════════════════╧═══════════════╛\n"
     ]
    }
   ],
   "source": [
    "# Tabulating mean recall table\n",
    "print('Performance Table\\n')\n",
    "print(tabulate(model_performance_r[::-1], headers = model_performance_r.columns, tablefmt = 'fancy_grid', showindex = False))"
   ]
  },
  {
   "cell_type": "code",
   "execution_count": 51,
   "id": "36f3b206",
   "metadata": {},
   "outputs": [
    {
     "data": {
      "text/plain": [
       "<Figure size 432x288 with 0 Axes>"
      ]
     },
     "metadata": {},
     "output_type": "display_data"
    },
    {
     "data": {
      "image/png": "[encoded data removed]",
      "text/plain": [
       "<Figure size 720x288 with 1 Axes>"
      ]
     },
     "metadata": {
      "needs_background": "light"
     },
     "output_type": "display_data"
    }
   ],
   "source": [
    "# Plotting mean recall chart\n",
    "fig = plt.figure()\n",
    "ax = model_performance_r.plot.barh()\n",
    "ax.set_axisbelow(True)\n",
    "ax.grid(color='gray', linestyle='dashed')\n",
    "ax.set_title('Mean Recall of Machine Learning Models\\n', fontsize=20)\n",
    "ax.set_xlabel('Mean Recall', fontsize=15)\n",
    "ax.set_ylabel('Machine Learning Model', fontsize=15)\n",
    "ax.set_yticklabels(['LR', 'SVM', 'NB', 'KNN', 'DT', 'RF'], rotation = 'horizontal')\n",
    "ax.get_legend().remove()\n",
    "plt.gcf().set_size_inches(10, 4)\n",
    "plt.show()"
   ]
  },
  {
   "cell_type": "code",
   "execution_count": 52,
   "id": "11ebd0b7",
   "metadata": {},
   "outputs": [],
   "source": [
    "# Merging accuracy and recall dataframes\n",
    "model_performance = model_performance_acc.merge(model_performance_r, on='Model', how='outer')"
   ]
  },
  {
   "cell_type": "code",
   "execution_count": 53,
   "id": "43edcf6a",
   "metadata": {
    "scrolled": true
   },
   "outputs": [
    {
     "name": "stdout",
     "output_type": "stream",
     "text": [
      "Performance Table\n",
      "\n",
      "╒═════════════════════════╤═════════════════╤═══════════════╕\n",
      "│ Model                   │   Mean Accuracy │   Mean Recall │\n",
      "╞═════════════════════════╪═════════════════╪═══════════════╡\n",
      "│ Random Forest           │         88.0795 │       94.7712 │\n",
      "├─────────────────────────┼─────────────────┼───────────────┤\n",
      "│ Decision Trees          │         86.3788 │       87.0719 │\n",
      "├─────────────────────────┼─────────────────┼───────────────┤\n",
      "│ K-Nearest Neighbor      │         88.553  │       99.5294 │\n",
      "├─────────────────────────┼─────────────────┼───────────────┤\n",
      "│ Naive Bayes             │         87.5871 │       94.9804 │\n",
      "├─────────────────────────┼─────────────────┼───────────────┤\n",
      "│ Support Vector Machines │         91.4167 │       96.1307 │\n",
      "├─────────────────────────┼─────────────────┼───────────────┤\n",
      "│ Logistic Regression     │         89.947  │       95.8824 │\n",
      "╘═════════════════════════╧═════════════════╧═══════════════╛\n"
     ]
    }
   ],
   "source": [
    "# Tabulating mean performance table\n",
    "print('Performance Table\\n')\n",
    "print(tabulate(model_performance[::-1], headers = model_performance.columns, tablefmt = 'fancy_grid', showindex = False))"
   ]
  },
  {
   "cell_type": "code",
   "execution_count": 54,
   "id": "57cf99fb",
   "metadata": {},
   "outputs": [
    {
     "data": {
      "text/plain": [
       "<Figure size 432x288 with 0 Axes>"
      ]
     },
     "metadata": {},
     "output_type": "display_data"
    },
    {
     "data": {
      "image/png": "[encoded data removed]",
      "text/plain": [
       "<Figure size 720x288 with 1 Axes>"
      ]
     },
     "metadata": {
      "needs_background": "light"
     },
     "output_type": "display_data"
    }
   ],
   "source": [
    "# Plotting performcance chart\n",
    "fig = plt.figure()\n",
    "ax = model_performance.plot.barh()\n",
    "ax.set_axisbelow(True)\n",
    "ax.grid(color='gray', linestyle='dashed')\n",
    "ax.set_title('Mean Performance of Machine Learning Models\\n', fontsize=20)\n",
    "ax.set_xlabel('Mean Performance', fontsize=15)\n",
    "ax.set_ylabel('Machine Learning Model', fontsize=15)\n",
    "ax.set_yticklabels(['LR', 'SVM', 'NB', 'KNN', 'DT', 'RF'], rotation = 'horizontal')\n",
    "ax.legend(bbox_to_anchor=(1, 1), prop={'size': 12})\n",
    "plt.gcf().set_size_inches(10, 4)\n",
    "plt.show()"
   ]
  },
  {
   "cell_type": "code",
   "execution_count": 55,
   "id": "98b28cbe",
   "metadata": {},
   "outputs": [],
   "source": [
    "# Get the max of all accuracy values given by each model\n",
    "LR_values =[performance_10_features.at['Logistic Regression', 'Accuracy'],\n",
    "            performance_20_features.at['Logistic Regression', 'Accuracy'],\n",
    "            performance_30_features.at['Logistic Regression', 'Accuracy'],\n",
    "            performance_40_features.at['Logistic Regression', 'Accuracy'],\n",
    "            performance_50_features.at['Logistic Regression', 'Accuracy']]\n",
    "LR_max = np.max(LR_values)\n",
    "\n",
    "SVM_values =[performance_10_features.at['Support Vector Machines', 'Accuracy'],\n",
    "             performance_20_features.at['Support Vector Machines', 'Accuracy'],\n",
    "             performance_30_features.at['Support Vector Machines', 'Accuracy'],\n",
    "             performance_40_features.at['Support Vector Machines', 'Accuracy'],\n",
    "             performance_50_features.at['Support Vector Machines', 'Accuracy']]\n",
    "SVM_max = np.max(SVM_values)\n",
    "\n",
    "NB_values =[performance_10_features.at['Naive Bayes', 'Accuracy'],\n",
    "            performance_20_features.at['Naive Bayes', 'Accuracy'],\n",
    "            performance_30_features.at['Naive Bayes', 'Accuracy'],\n",
    "            performance_40_features.at['Naive Bayes', 'Accuracy'],\n",
    "            performance_50_features.at['Naive Bayes', 'Accuracy']]\n",
    "NB_max = np.max(NB_values)\n",
    "\n",
    "KNN_values =[performance_10_features.at['K-Nearest Neighbor', 'Accuracy'],\n",
    "             performance_20_features.at['K-Nearest Neighbor', 'Accuracy'],\n",
    "             performance_30_features.at['K-Nearest Neighbor', 'Accuracy'],\n",
    "             performance_40_features.at['K-Nearest Neighbor', 'Accuracy'],\n",
    "             performance_50_features.at['K-Nearest Neighbor', 'Accuracy']]\n",
    "KNN_max = np.max(KNN_values)\n",
    "\n",
    "DT_values =[performance_10_features.at['Decision Trees', 'Accuracy'],\n",
    "            performance_20_features.at['Decision Trees', 'Accuracy'],\n",
    "            performance_30_features.at['Decision Trees', 'Accuracy'],\n",
    "            performance_40_features.at['Decision Trees', 'Accuracy'],\n",
    "            performance_50_features.at['Decision Trees', 'Accuracy']]\n",
    "DT_max = np.max(DT_values)\n",
    "\n",
    "RF_values =[performance_10_features.at['Random Forest', 'Accuracy'],\n",
    "            performance_20_features.at['Random Forest', 'Accuracy'],\n",
    "            performance_30_features.at['Random Forest', 'Accuracy'],\n",
    "            performance_40_features.at['Random Forest', 'Accuracy'],\n",
    "            performance_50_features.at['Random Forest', 'Accuracy']]\n",
    "RF_max = np.max(RF_values)"
   ]
  },
  {
   "cell_type": "code",
   "execution_count": 56,
   "id": "d4271820",
   "metadata": {},
   "outputs": [],
   "source": [
    "# Generate dataframe to store model performance\n",
    "max_accuracy_value = [LR_max, SVM_max, NB_max, KNN_max, DT_max, RF_max]\n",
    "model_performance_max_acc = pd.DataFrame({'Model': model, 'Max Accuracy':max_accuracy_value})"
   ]
  },
  {
   "cell_type": "code",
   "execution_count": 57,
   "id": "db905c69",
   "metadata": {},
   "outputs": [
    {
     "name": "stdout",
     "output_type": "stream",
     "text": [
      "Performance Table\n",
      "\n",
      "╒═════════════════════════╤════════════════╕\n",
      "│ Model                   │   Max Accuracy │\n",
      "╞═════════════════════════╪════════════════╡\n",
      "│ Random Forest           │        88.8258 │\n",
      "├─────────────────────────┼────────────────┤\n",
      "│ Decision Trees          │        88.8636 │\n",
      "├─────────────────────────┼────────────────┤\n",
      "│ K-Nearest Neighbor      │        89.4318 │\n",
      "├─────────────────────────┼────────────────┤\n",
      "│ Naive Bayes             │        90.0758 │\n",
      "├─────────────────────────┼────────────────┤\n",
      "│ Support Vector Machines │        92.5379 │\n",
      "├─────────────────────────┼────────────────┤\n",
      "│ Logistic Regression     │        90.7008 │\n",
      "╘═════════════════════════╧════════════════╛\n"
     ]
    }
   ],
   "source": [
    "# Tabulating max accuracy table\n",
    "print('Performance Table\\n')\n",
    "print(tabulate(model_performance_max_acc[::-1], headers = model_performance_max_acc.columns, tablefmt = 'fancy_grid', showindex = False))"
   ]
  },
  {
   "cell_type": "code",
   "execution_count": 58,
   "id": "96001050",
   "metadata": {},
   "outputs": [],
   "source": [
    "# Get the mean of all recall values given by each model\n",
    "LR_values =[performance_10_features.at['Logistic Regression', 'Recall'],\n",
    "            performance_20_features.at['Logistic Regression', 'Recall'],\n",
    "            performance_30_features.at['Logistic Regression', 'Recall'],\n",
    "            performance_40_features.at['Logistic Regression', 'Recall'],\n",
    "            performance_50_features.at['Logistic Regression', 'Recall']]\n",
    "LR_max = np.max(LR_values)\n",
    "\n",
    "SVM_values =[performance_10_features.at['Support Vector Machines', 'Recall'],\n",
    "             performance_20_features.at['Support Vector Machines', 'Recall'],\n",
    "             performance_30_features.at['Support Vector Machines', 'Recall'],\n",
    "             performance_40_features.at['Support Vector Machines', 'Recall'],\n",
    "             performance_50_features.at['Support Vector Machines', 'Recall']]\n",
    "SVM_max = np.max(SVM_values)\n",
    "\n",
    "NB_values =[performance_10_features.at['Naive Bayes', 'Recall'],\n",
    "            performance_20_features.at['Naive Bayes', 'Recall'],\n",
    "            performance_30_features.at['Naive Bayes', 'Recall'],\n",
    "            performance_40_features.at['Naive Bayes', 'Recall'],\n",
    "            performance_50_features.at['Naive Bayes', 'Recall']]\n",
    "NB_max = np.max(NB_values)\n",
    "\n",
    "KNN_values =[performance_10_features.at['K-Nearest Neighbor', 'Recall'],\n",
    "             performance_20_features.at['K-Nearest Neighbor', 'Recall'],\n",
    "             performance_30_features.at['K-Nearest Neighbor', 'Recall'],\n",
    "             performance_40_features.at['K-Nearest Neighbor', 'Recall'],\n",
    "             performance_50_features.at['K-Nearest Neighbor', 'Recall']]\n",
    "KNN_max = np.max(KNN_values)\n",
    "\n",
    "DT_values =[performance_10_features.at['Decision Trees', 'Recall'],\n",
    "            performance_20_features.at['Decision Trees', 'Recall'],\n",
    "            performance_30_features.at['Decision Trees', 'Recall'],\n",
    "            performance_40_features.at['Decision Trees', 'Recall'],\n",
    "            performance_50_features.at['Decision Trees', 'Recall']]\n",
    "DT_max = np.max(DT_values)\n",
    "\n",
    "RF_values =[performance_10_features.at['Random Forest', 'Recall'],\n",
    "            performance_20_features.at['Random Forest', 'Recall'],\n",
    "            performance_30_features.at['Random Forest', 'Recall'],\n",
    "            performance_40_features.at['Random Forest', 'Recall'],\n",
    "            performance_50_features.at['Random Forest', 'Recall']]\n",
    "RF_max = np.max(RF_values)"
   ]
  },
  {
   "cell_type": "code",
   "execution_count": 59,
   "id": "0d1dd05f",
   "metadata": {},
   "outputs": [],
   "source": [
    "# Generate dataframe to store model performance\n",
    "max_recall_value = [LR_max, SVM_max, NB_max, KNN_max, DT_max, RF_max]\n",
    "model_performance_max_rec = pd.DataFrame({'Model': model, 'Max Recall':max_recall_value})"
   ]
  },
  {
   "cell_type": "code",
   "execution_count": 60,
   "id": "23d4d856",
   "metadata": {},
   "outputs": [
    {
     "name": "stdout",
     "output_type": "stream",
     "text": [
      "Performance Table\n",
      "\n",
      "╒═════════════════════════╤══════════════╕\n",
      "│ Model                   │   Max Recall │\n",
      "╞═════════════════════════╪══════════════╡\n",
      "│ Random Forest           │      95.4902 │\n",
      "├─────────────────────────┼──────────────┤\n",
      "│ Decision Trees          │      89.5425 │\n",
      "├─────────────────────────┼──────────────┤\n",
      "│ K-Nearest Neighbor      │     100      │\n",
      "├─────────────────────────┼──────────────┤\n",
      "│ Naive Bayes             │      95.4248 │\n",
      "├─────────────────────────┼──────────────┤\n",
      "│ Support Vector Machines │      96.6013 │\n",
      "├─────────────────────────┼──────────────┤\n",
      "│ Logistic Regression     │      98.8889 │\n",
      "╘═════════════════════════╧══════════════╛\n"
     ]
    }
   ],
   "source": [
    "# Tabulating max recall table\n",
    "print('Performance Table\\n')\n",
    "print(tabulate(model_performance_max_rec[::-1], headers = model_performance_max_rec.columns, tablefmt = 'fancy_grid', showindex = False))"
   ]
  },
  {
   "cell_type": "code",
   "execution_count": 61,
   "id": "fa325c16",
   "metadata": {},
   "outputs": [],
   "source": [
    "# Merging max accuracy and max recall dataframes\n",
    "model_max_performance = model_performance_max_acc.merge(model_performance_max_rec, on='Model', how='outer')"
   ]
  },
  {
   "cell_type": "code",
   "execution_count": 62,
   "id": "ae56e9e9",
   "metadata": {},
   "outputs": [
    {
     "name": "stdout",
     "output_type": "stream",
     "text": [
      "Max Performance Table\n",
      "\n",
      "╒═════════════════════════╤════════════════╤══════════════╕\n",
      "│ Model                   │   Max Accuracy │   Max Recall │\n",
      "╞═════════════════════════╪════════════════╪══════════════╡\n",
      "│ Random Forest           │        88.8258 │      95.4902 │\n",
      "├─────────────────────────┼────────────────┼──────────────┤\n",
      "│ Decision Trees          │        88.8636 │      89.5425 │\n",
      "├─────────────────────────┼────────────────┼──────────────┤\n",
      "│ K-Nearest Neighbor      │        89.4318 │     100      │\n",
      "├─────────────────────────┼────────────────┼──────────────┤\n",
      "│ Naive Bayes             │        90.0758 │      95.4248 │\n",
      "├─────────────────────────┼────────────────┼──────────────┤\n",
      "│ Support Vector Machines │        92.5379 │      96.6013 │\n",
      "├─────────────────────────┼────────────────┼──────────────┤\n",
      "│ Logistic Regression     │        90.7008 │      98.8889 │\n",
      "╘═════════════════════════╧════════════════╧══════════════╛\n"
     ]
    }
   ],
   "source": [
    "# Tabulating max performance table\n",
    "print('Max Performance Table\\n')\n",
    "print(tabulate(model_max_performance[::-1], headers = model_max_performance.columns, tablefmt = 'fancy_grid', showindex = False))"
   ]
  },
  {
   "cell_type": "code",
   "execution_count": 63,
   "id": "dad72c96",
   "metadata": {},
   "outputs": [
    {
     "data": {
      "text/plain": [
       "(75.0, 102.0)"
      ]
     },
     "execution_count": 63,
     "metadata": {},
     "output_type": "execute_result"
    },
    {
     "data": {
      "image/png": "[encoded data removed]",
      "text/plain": [
       "<Figure size 432x432 with 1 Axes>"
      ]
     },
     "metadata": {
      "needs_background": "light"
     },
     "output_type": "display_data"
    }
   ],
   "source": [
    "ax = model_max_performance.plot(grid=True, figsize=(6,6))\n",
    "ax.set_xticks(model_max_performance.index)\n",
    "ax.set_xticklabels(['LR', 'SVM', 'NB', 'KNN', 'DT', 'RF'])\n",
    "ax.set_ylabel('Performance')\n",
    "ax.set_xlabel('Machine Learning Model')\n",
    "ax.legend(loc='lower left')\n",
    "ax.set_ylim(75, 102)"
   ]
  },
  {
   "cell_type": "code",
   "execution_count": 64,
   "id": "e7060b52",
   "metadata": {},
   "outputs": [
    {
     "name": "stderr",
     "output_type": "stream",
     "text": [
      "C:\\Users\\Supun\\anaconda3\\lib\\site-packages\\sklearn\\cluster\\_kmeans.py:881: UserWarning: KMeans is known to have a memory leak on Windows with MKL, when there are less chunks than available threads. You can avoid it by setting the environment variable OMP_NUM_THREADS=1.\n",
      "  warnings.warn(\n"
     ]
    },
    {
     "data": {
      "image/png": "[encoded data removed]",
      "text/plain": [
       "<Figure size 432x288 with 1 Axes>"
      ]
     },
     "metadata": {
      "needs_background": "light"
     },
     "output_type": "display_data"
    }
   ],
   "source": [
    "# Finding optimal number of clusters using the elbow method  \n",
    "from sklearn.cluster import KMeans  \n",
    "\n",
    "# Initializing the list for the values of WCSS \n",
    "wcss_list= []   \n",
    "  \n",
    "# Using for loop for iterations from 1 to 10.  \n",
    "for i in range(1, 11):  \n",
    "    kmeans = KMeans(n_clusters=i, init='k-means++', random_state= 42)  \n",
    "    kmeans.fit(features_50_X)  \n",
    "    wcss_list.append(kmeans.inertia_)  \n",
    "    \n",
    "plt.plot(range(1, 11), wcss_list)  \n",
    "plt.title('The Elobw Method Graph')  \n",
    "plt.xlabel('Number of clusters(k)')  \n",
    "plt.ylabel('WCSS')  \n",
    "plt.show()  "
   ]
  },
  {
   "cell_type": "code",
   "execution_count": 65,
   "id": "ee3bac25",
   "metadata": {},
   "outputs": [],
   "source": [
    "# Create a excel writer object\n",
    "with pd.ExcelWriter(r'C:\\Users\\Supun\\Desktop\\Research ML\\Results\\Full Results Genome Dataset ANOVA.xlsx') as writer:\n",
    "    \n",
    "    # Export perfomance of model to excel files\n",
    "    full_50_features.to_excel(writer, sheet_name='50_features')\n",
    "    full_40_features.to_excel(writer, sheet_name='40_features')\n",
    "    full_30_features.to_excel(writer, sheet_name='30_features')\n",
    "    full_20_features.to_excel(writer, sheet_name='20_features')\n",
    "    full_10_features.to_excel(writer, sheet_name='10_features')"
   ]
  },
  {
   "cell_type": "code",
   "execution_count": null,
   "id": "9b9f401b",
   "metadata": {},
   "outputs": [],
   "source": []
  }
 ],
 "metadata": {
  "kernelspec": {
   "display_name": "Python 3 (ipykernel)",
   "language": "python",
   "name": "python3"
  },
  "language_info": {
   "codemirror_mode": {
    "name": "ipython",
    "version": 3
   },
   "file_extension": ".py",
   "mimetype": "text/x-python",
   "name": "python",
   "nbconvert_exporter": "python",
   "pygments_lexer": "ipython3",
   "version": "3.9.7"
  }
 },
 "nbformat": 4,
 "nbformat_minor": 5
}
