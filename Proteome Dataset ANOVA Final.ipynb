{
 "cells": [
  {
   "cell_type": "code",
   "execution_count": 1,
   "id": "0220f313",
   "metadata": {},
   "outputs": [],
   "source": [
    "# Import 'pandas' library\n",
    "import pandas as pd"
   ]
  },
  {
   "cell_type": "code",
   "execution_count": 2,
   "id": "067e9e2b",
   "metadata": {},
   "outputs": [],
   "source": [
    "# Import 'numpy' library\n",
    "import numpy as np"
   ]
  },
  {
   "cell_type": "code",
   "execution_count": 3,
   "id": "e59d9cf1",
   "metadata": {},
   "outputs": [],
   "source": [
    "# Load proteome dataset to pandas dataframe\n",
    "df = pd.read_excel(r'C:\\Users\\Supun\\Desktop\\Datasets\\Modified Datasets\\Proteome Dataset.xlsx')"
   ]
  },
  {
   "cell_type": "code",
   "execution_count": 4,
   "id": "3c6bc175",
   "metadata": {},
   "outputs": [
    {
     "data": {
      "text/html": [
       "<div>\n",
       "<style scoped>\n",
       "    .dataframe tbody tr th:only-of-type {\n",
       "        vertical-align: middle;\n",
       "    }\n",
       "\n",
       "    .dataframe tbody tr th {\n",
       "        vertical-align: top;\n",
       "    }\n",
       "\n",
       "    .dataframe thead th {\n",
       "        text-align: right;\n",
       "    }\n",
       "</style>\n",
       "<table border=\"1\" class=\"dataframe\">\n",
       "  <thead>\n",
       "    <tr style=\"text-align: right;\">\n",
       "      <th></th>\n",
       "      <th>Unnamed: 0</th>\n",
       "      <th>TARGET</th>\n",
       "      <th>IOH12500</th>\n",
       "      <th>IOH26532</th>\n",
       "      <th>IOH42939</th>\n",
       "      <th>IOH40665</th>\n",
       "      <th>IOH23035</th>\n",
       "      <th>IOH41408</th>\n",
       "      <th>IOH23172</th>\n",
       "      <th>IOH6369</th>\n",
       "      <th>...</th>\n",
       "      <th>IOH22776</th>\n",
       "      <th>IOH4999</th>\n",
       "      <th>IOH40390</th>\n",
       "      <th>IOH10554</th>\n",
       "      <th>IOH39905</th>\n",
       "      <th>IOH27481</th>\n",
       "      <th>IOH29280</th>\n",
       "      <th>IOH29425</th>\n",
       "      <th>IOH28294</th>\n",
       "      <th>IOH1782</th>\n",
       "    </tr>\n",
       "  </thead>\n",
       "  <tbody>\n",
       "    <tr>\n",
       "      <th>0</th>\n",
       "      <td>0</td>\n",
       "      <td>1</td>\n",
       "      <td>2995.840360</td>\n",
       "      <td>5702.920133</td>\n",
       "      <td>5810.329136</td>\n",
       "      <td>7397.878422</td>\n",
       "      <td>26319.81906</td>\n",
       "      <td>8867.985001</td>\n",
       "      <td>2524.647287</td>\n",
       "      <td>5969.902184</td>\n",
       "      <td>...</td>\n",
       "      <td>861.865569</td>\n",
       "      <td>-1.268382</td>\n",
       "      <td>-8.878674</td>\n",
       "      <td>1.268382</td>\n",
       "      <td>-1.902573</td>\n",
       "      <td>-4.439337</td>\n",
       "      <td>904.990557</td>\n",
       "      <td>444.567891</td>\n",
       "      <td>495.937362</td>\n",
       "      <td>805.422570</td>\n",
       "    </tr>\n",
       "    <tr>\n",
       "      <th>1</th>\n",
       "      <td>1</td>\n",
       "      <td>1</td>\n",
       "      <td>2198.813294</td>\n",
       "      <td>5060.246641</td>\n",
       "      <td>8122.136309</td>\n",
       "      <td>5823.494355</td>\n",
       "      <td>27817.00599</td>\n",
       "      <td>6930.886618</td>\n",
       "      <td>2497.157678</td>\n",
       "      <td>5085.262527</td>\n",
       "      <td>...</td>\n",
       "      <td>712.079359</td>\n",
       "      <td>-2.741403</td>\n",
       "      <td>-4.797455</td>\n",
       "      <td>-2.056052</td>\n",
       "      <td>0.000000</td>\n",
       "      <td>-2.056052</td>\n",
       "      <td>797.748194</td>\n",
       "      <td>284.420533</td>\n",
       "      <td>662.048759</td>\n",
       "      <td>1111.638806</td>\n",
       "    </tr>\n",
       "    <tr>\n",
       "      <th>2</th>\n",
       "      <td>2</td>\n",
       "      <td>1</td>\n",
       "      <td>2105.301104</td>\n",
       "      <td>3624.621648</td>\n",
       "      <td>3897.221735</td>\n",
       "      <td>4209.848053</td>\n",
       "      <td>33240.51069</td>\n",
       "      <td>4768.237719</td>\n",
       "      <td>2216.725388</td>\n",
       "      <td>3966.585751</td>\n",
       "      <td>...</td>\n",
       "      <td>469.941017</td>\n",
       "      <td>-6.713443</td>\n",
       "      <td>-2.797268</td>\n",
       "      <td>5.035082</td>\n",
       "      <td>36.923937</td>\n",
       "      <td>8.951257</td>\n",
       "      <td>317.210187</td>\n",
       "      <td>141.541759</td>\n",
       "      <td>90.072028</td>\n",
       "      <td>369.798825</td>\n",
       "    </tr>\n",
       "    <tr>\n",
       "      <th>3</th>\n",
       "      <td>3</td>\n",
       "      <td>1</td>\n",
       "      <td>3247.204320</td>\n",
       "      <td>5799.707841</td>\n",
       "      <td>6017.797648</td>\n",
       "      <td>5657.479400</td>\n",
       "      <td>30282.96066</td>\n",
       "      <td>6324.685938</td>\n",
       "      <td>2218.122206</td>\n",
       "      <td>5480.529102</td>\n",
       "      <td>...</td>\n",
       "      <td>706.450661</td>\n",
       "      <td>-4.319331</td>\n",
       "      <td>-8.158737</td>\n",
       "      <td>-0.959851</td>\n",
       "      <td>-3.359480</td>\n",
       "      <td>-1.439777</td>\n",
       "      <td>521.679259</td>\n",
       "      <td>405.057308</td>\n",
       "      <td>367.143176</td>\n",
       "      <td>675.735415</td>\n",
       "    </tr>\n",
       "    <tr>\n",
       "      <th>4</th>\n",
       "      <td>4</td>\n",
       "      <td>1</td>\n",
       "      <td>1906.923094</td>\n",
       "      <td>3379.372812</td>\n",
       "      <td>4737.557326</td>\n",
       "      <td>6693.131052</td>\n",
       "      <td>25924.74996</td>\n",
       "      <td>5917.160126</td>\n",
       "      <td>2687.990633</td>\n",
       "      <td>4555.786358</td>\n",
       "      <td>...</td>\n",
       "      <td>546.069439</td>\n",
       "      <td>1.838618</td>\n",
       "      <td>-3.217581</td>\n",
       "      <td>-1.378963</td>\n",
       "      <td>17.926522</td>\n",
       "      <td>-0.919309</td>\n",
       "      <td>403.116918</td>\n",
       "      <td>130.082198</td>\n",
       "      <td>223.392043</td>\n",
       "      <td>379.214888</td>\n",
       "    </tr>\n",
       "  </tbody>\n",
       "</table>\n",
       "<p>5 rows × 9482 columns</p>\n",
       "</div>"
      ],
      "text/plain": [
       "   Unnamed: 0  TARGET     IOH12500     IOH26532     IOH42939     IOH40665  \\\n",
       "0           0       1  2995.840360  5702.920133  5810.329136  7397.878422   \n",
       "1           1       1  2198.813294  5060.246641  8122.136309  5823.494355   \n",
       "2           2       1  2105.301104  3624.621648  3897.221735  4209.848053   \n",
       "3           3       1  3247.204320  5799.707841  6017.797648  5657.479400   \n",
       "4           4       1  1906.923094  3379.372812  4737.557326  6693.131052   \n",
       "\n",
       "      IOH23035     IOH41408     IOH23172      IOH6369  ...    IOH22776  \\\n",
       "0  26319.81906  8867.985001  2524.647287  5969.902184  ...  861.865569   \n",
       "1  27817.00599  6930.886618  2497.157678  5085.262527  ...  712.079359   \n",
       "2  33240.51069  4768.237719  2216.725388  3966.585751  ...  469.941017   \n",
       "3  30282.96066  6324.685938  2218.122206  5480.529102  ...  706.450661   \n",
       "4  25924.74996  5917.160126  2687.990633  4555.786358  ...  546.069439   \n",
       "\n",
       "    IOH4999  IOH40390  IOH10554   IOH39905  IOH27481    IOH29280    IOH29425  \\\n",
       "0 -1.268382 -8.878674  1.268382  -1.902573 -4.439337  904.990557  444.567891   \n",
       "1 -2.741403 -4.797455 -2.056052   0.000000 -2.056052  797.748194  284.420533   \n",
       "2 -6.713443 -2.797268  5.035082  36.923937  8.951257  317.210187  141.541759   \n",
       "3 -4.319331 -8.158737 -0.959851  -3.359480 -1.439777  521.679259  405.057308   \n",
       "4  1.838618 -3.217581 -1.378963  17.926522 -0.919309  403.116918  130.082198   \n",
       "\n",
       "     IOH28294      IOH1782  \n",
       "0  495.937362   805.422570  \n",
       "1  662.048759  1111.638806  \n",
       "2   90.072028   369.798825  \n",
       "3  367.143176   675.735415  \n",
       "4  223.392043   379.214888  \n",
       "\n",
       "[5 rows x 9482 columns]"
      ]
     },
     "execution_count": 4,
     "metadata": {},
     "output_type": "execute_result"
    }
   ],
   "source": [
    "# Display dataframe\n",
    "df.head()"
   ]
  },
  {
   "cell_type": "code",
   "execution_count": 5,
   "id": "a5d54cda",
   "metadata": {},
   "outputs": [
    {
     "data": {
      "text/plain": [
       "(90, 9482)"
      ]
     },
     "execution_count": 5,
     "metadata": {},
     "output_type": "execute_result"
    }
   ],
   "source": [
    "# Check dataframe shape\n",
    "df.shape"
   ]
  },
  {
   "cell_type": "code",
   "execution_count": 6,
   "id": "ae3ad313",
   "metadata": {},
   "outputs": [
    {
     "data": {
      "text/plain": [
       "0"
      ]
     },
     "execution_count": 6,
     "metadata": {},
     "output_type": "execute_result"
    }
   ],
   "source": [
    "# Checking for null values in dataframe\n",
    "df.isnull().sum().sum()"
   ]
  },
  {
   "cell_type": "code",
   "execution_count": 7,
   "id": "0977d967",
   "metadata": {},
   "outputs": [],
   "source": [
    "# Extracting features set from dataframe\n",
    "X = df.iloc[:,2:]"
   ]
  },
  {
   "cell_type": "code",
   "execution_count": 8,
   "id": "36c96827",
   "metadata": {},
   "outputs": [
    {
     "data": {
      "text/html": [
       "<div>\n",
       "<style scoped>\n",
       "    .dataframe tbody tr th:only-of-type {\n",
       "        vertical-align: middle;\n",
       "    }\n",
       "\n",
       "    .dataframe tbody tr th {\n",
       "        vertical-align: top;\n",
       "    }\n",
       "\n",
       "    .dataframe thead th {\n",
       "        text-align: right;\n",
       "    }\n",
       "</style>\n",
       "<table border=\"1\" class=\"dataframe\">\n",
       "  <thead>\n",
       "    <tr style=\"text-align: right;\">\n",
       "      <th></th>\n",
       "      <th>IOH12500</th>\n",
       "      <th>IOH26532</th>\n",
       "      <th>IOH42939</th>\n",
       "      <th>IOH40665</th>\n",
       "      <th>IOH23035</th>\n",
       "      <th>IOH41408</th>\n",
       "      <th>IOH23172</th>\n",
       "      <th>IOH6369</th>\n",
       "      <th>IOH13630</th>\n",
       "      <th>IOH23077</th>\n",
       "      <th>...</th>\n",
       "      <th>IOH22776</th>\n",
       "      <th>IOH4999</th>\n",
       "      <th>IOH40390</th>\n",
       "      <th>IOH10554</th>\n",
       "      <th>IOH39905</th>\n",
       "      <th>IOH27481</th>\n",
       "      <th>IOH29280</th>\n",
       "      <th>IOH29425</th>\n",
       "      <th>IOH28294</th>\n",
       "      <th>IOH1782</th>\n",
       "    </tr>\n",
       "  </thead>\n",
       "  <tbody>\n",
       "    <tr>\n",
       "      <th>0</th>\n",
       "      <td>2995.840360</td>\n",
       "      <td>5702.920133</td>\n",
       "      <td>5810.329136</td>\n",
       "      <td>7397.878422</td>\n",
       "      <td>26319.81906</td>\n",
       "      <td>8867.985001</td>\n",
       "      <td>2524.647287</td>\n",
       "      <td>5969.902184</td>\n",
       "      <td>4072.574751</td>\n",
       "      <td>48296.31777</td>\n",
       "      <td>...</td>\n",
       "      <td>861.865569</td>\n",
       "      <td>-1.268382</td>\n",
       "      <td>-8.878674</td>\n",
       "      <td>1.268382</td>\n",
       "      <td>-1.902573</td>\n",
       "      <td>-4.439337</td>\n",
       "      <td>904.990557</td>\n",
       "      <td>444.567891</td>\n",
       "      <td>495.937362</td>\n",
       "      <td>805.422570</td>\n",
       "    </tr>\n",
       "    <tr>\n",
       "      <th>1</th>\n",
       "      <td>2198.813294</td>\n",
       "      <td>5060.246641</td>\n",
       "      <td>8122.136309</td>\n",
       "      <td>5823.494355</td>\n",
       "      <td>27817.00599</td>\n",
       "      <td>6930.886618</td>\n",
       "      <td>2497.157678</td>\n",
       "      <td>5085.262527</td>\n",
       "      <td>3149.998024</td>\n",
       "      <td>49407.62109</td>\n",
       "      <td>...</td>\n",
       "      <td>712.079359</td>\n",
       "      <td>-2.741403</td>\n",
       "      <td>-4.797455</td>\n",
       "      <td>-2.056052</td>\n",
       "      <td>0.000000</td>\n",
       "      <td>-2.056052</td>\n",
       "      <td>797.748194</td>\n",
       "      <td>284.420533</td>\n",
       "      <td>662.048759</td>\n",
       "      <td>1111.638806</td>\n",
       "    </tr>\n",
       "    <tr>\n",
       "      <th>2</th>\n",
       "      <td>2105.301104</td>\n",
       "      <td>3624.621648</td>\n",
       "      <td>3897.221735</td>\n",
       "      <td>4209.848053</td>\n",
       "      <td>33240.51069</td>\n",
       "      <td>4768.237719</td>\n",
       "      <td>2216.725388</td>\n",
       "      <td>3966.585751</td>\n",
       "      <td>3210.042408</td>\n",
       "      <td>59892.02641</td>\n",
       "      <td>...</td>\n",
       "      <td>469.941017</td>\n",
       "      <td>-6.713443</td>\n",
       "      <td>-2.797268</td>\n",
       "      <td>5.035082</td>\n",
       "      <td>36.923937</td>\n",
       "      <td>8.951257</td>\n",
       "      <td>317.210187</td>\n",
       "      <td>141.541759</td>\n",
       "      <td>90.072028</td>\n",
       "      <td>369.798825</td>\n",
       "    </tr>\n",
       "    <tr>\n",
       "      <th>3</th>\n",
       "      <td>3247.204320</td>\n",
       "      <td>5799.707841</td>\n",
       "      <td>6017.797648</td>\n",
       "      <td>5657.479400</td>\n",
       "      <td>30282.96066</td>\n",
       "      <td>6324.685938</td>\n",
       "      <td>2218.122206</td>\n",
       "      <td>5480.529102</td>\n",
       "      <td>4724.294504</td>\n",
       "      <td>46575.47606</td>\n",
       "      <td>...</td>\n",
       "      <td>706.450661</td>\n",
       "      <td>-4.319331</td>\n",
       "      <td>-8.158737</td>\n",
       "      <td>-0.959851</td>\n",
       "      <td>-3.359480</td>\n",
       "      <td>-1.439777</td>\n",
       "      <td>521.679259</td>\n",
       "      <td>405.057308</td>\n",
       "      <td>367.143176</td>\n",
       "      <td>675.735415</td>\n",
       "    </tr>\n",
       "    <tr>\n",
       "      <th>4</th>\n",
       "      <td>1906.923094</td>\n",
       "      <td>3379.372812</td>\n",
       "      <td>4737.557326</td>\n",
       "      <td>6693.131052</td>\n",
       "      <td>25924.74996</td>\n",
       "      <td>5917.160126</td>\n",
       "      <td>2687.990633</td>\n",
       "      <td>4555.786358</td>\n",
       "      <td>4136.717470</td>\n",
       "      <td>51061.97376</td>\n",
       "      <td>...</td>\n",
       "      <td>546.069439</td>\n",
       "      <td>1.838618</td>\n",
       "      <td>-3.217581</td>\n",
       "      <td>-1.378963</td>\n",
       "      <td>17.926522</td>\n",
       "      <td>-0.919309</td>\n",
       "      <td>403.116918</td>\n",
       "      <td>130.082198</td>\n",
       "      <td>223.392043</td>\n",
       "      <td>379.214888</td>\n",
       "    </tr>\n",
       "  </tbody>\n",
       "</table>\n",
       "<p>5 rows × 9480 columns</p>\n",
       "</div>"
      ],
      "text/plain": [
       "      IOH12500     IOH26532     IOH42939     IOH40665     IOH23035  \\\n",
       "0  2995.840360  5702.920133  5810.329136  7397.878422  26319.81906   \n",
       "1  2198.813294  5060.246641  8122.136309  5823.494355  27817.00599   \n",
       "2  2105.301104  3624.621648  3897.221735  4209.848053  33240.51069   \n",
       "3  3247.204320  5799.707841  6017.797648  5657.479400  30282.96066   \n",
       "4  1906.923094  3379.372812  4737.557326  6693.131052  25924.74996   \n",
       "\n",
       "      IOH41408     IOH23172      IOH6369     IOH13630     IOH23077  ...  \\\n",
       "0  8867.985001  2524.647287  5969.902184  4072.574751  48296.31777  ...   \n",
       "1  6930.886618  2497.157678  5085.262527  3149.998024  49407.62109  ...   \n",
       "2  4768.237719  2216.725388  3966.585751  3210.042408  59892.02641  ...   \n",
       "3  6324.685938  2218.122206  5480.529102  4724.294504  46575.47606  ...   \n",
       "4  5917.160126  2687.990633  4555.786358  4136.717470  51061.97376  ...   \n",
       "\n",
       "     IOH22776   IOH4999  IOH40390  IOH10554   IOH39905  IOH27481    IOH29280  \\\n",
       "0  861.865569 -1.268382 -8.878674  1.268382  -1.902573 -4.439337  904.990557   \n",
       "1  712.079359 -2.741403 -4.797455 -2.056052   0.000000 -2.056052  797.748194   \n",
       "2  469.941017 -6.713443 -2.797268  5.035082  36.923937  8.951257  317.210187   \n",
       "3  706.450661 -4.319331 -8.158737 -0.959851  -3.359480 -1.439777  521.679259   \n",
       "4  546.069439  1.838618 -3.217581 -1.378963  17.926522 -0.919309  403.116918   \n",
       "\n",
       "     IOH29425    IOH28294      IOH1782  \n",
       "0  444.567891  495.937362   805.422570  \n",
       "1  284.420533  662.048759  1111.638806  \n",
       "2  141.541759   90.072028   369.798825  \n",
       "3  405.057308  367.143176   675.735415  \n",
       "4  130.082198  223.392043   379.214888  \n",
       "\n",
       "[5 rows x 9480 columns]"
      ]
     },
     "execution_count": 8,
     "metadata": {},
     "output_type": "execute_result"
    }
   ],
   "source": [
    "# Display features set\n",
    "X.head()"
   ]
  },
  {
   "cell_type": "code",
   "execution_count": 9,
   "id": "838d3d65",
   "metadata": {},
   "outputs": [
    {
     "name": "stdout",
     "output_type": "stream",
     "text": [
      "<class 'pandas.core.frame.DataFrame'>\n",
      "RangeIndex: 90 entries, 0 to 89\n",
      "Columns: 9480 entries, IOH12500 to IOH1782\n",
      "dtypes: float64(9480)\n",
      "memory usage: 6.5 MB\n"
     ]
    }
   ],
   "source": [
    "# Check data type of all features\n",
    "X.info()"
   ]
  },
  {
   "cell_type": "code",
   "execution_count": 10,
   "id": "5b2626ad",
   "metadata": {},
   "outputs": [
    {
     "name": "stdout",
     "output_type": "stream",
     "text": [
      "Maximum value: 113798.4943\n",
      "Minimum value: -2162.769087\n"
     ]
    }
   ],
   "source": [
    "# Print maximum value and minimum value in the features set\n",
    "print('Maximum value: ' + str(X.max().max()))\n",
    "print('Minimum value: ' + str(X.min().min()))"
   ]
  },
  {
   "cell_type": "code",
   "execution_count": 11,
   "id": "0919f58d",
   "metadata": {},
   "outputs": [],
   "source": [
    "# Import 'preprocessing' library from 'sklearn' library\n",
    "from sklearn import preprocessing"
   ]
  },
  {
   "cell_type": "code",
   "execution_count": 12,
   "id": "ab7d2ec1",
   "metadata": {},
   "outputs": [],
   "source": [
    "# Normalizing features set (Every feature normalized separately)\n",
    "scaler = preprocessing.MinMaxScaler()\n",
    "headers = X.columns\n",
    "new_X = scaler.fit_transform(X)\n",
    "scaled_X = pd.DataFrame(new_X, columns=headers)"
   ]
  },
  {
   "cell_type": "code",
   "execution_count": 13,
   "id": "5d0a3e03",
   "metadata": {},
   "outputs": [
    {
     "data": {
      "text/html": [
       "<div>\n",
       "<style scoped>\n",
       "    .dataframe tbody tr th:only-of-type {\n",
       "        vertical-align: middle;\n",
       "    }\n",
       "\n",
       "    .dataframe tbody tr th {\n",
       "        vertical-align: top;\n",
       "    }\n",
       "\n",
       "    .dataframe thead th {\n",
       "        text-align: right;\n",
       "    }\n",
       "</style>\n",
       "<table border=\"1\" class=\"dataframe\">\n",
       "  <thead>\n",
       "    <tr style=\"text-align: right;\">\n",
       "      <th></th>\n",
       "      <th>IOH12500</th>\n",
       "      <th>IOH26532</th>\n",
       "      <th>IOH42939</th>\n",
       "      <th>IOH40665</th>\n",
       "      <th>IOH23035</th>\n",
       "      <th>IOH41408</th>\n",
       "      <th>IOH23172</th>\n",
       "      <th>IOH6369</th>\n",
       "      <th>IOH13630</th>\n",
       "      <th>IOH23077</th>\n",
       "      <th>...</th>\n",
       "      <th>IOH22776</th>\n",
       "      <th>IOH4999</th>\n",
       "      <th>IOH40390</th>\n",
       "      <th>IOH10554</th>\n",
       "      <th>IOH39905</th>\n",
       "      <th>IOH27481</th>\n",
       "      <th>IOH29280</th>\n",
       "      <th>IOH29425</th>\n",
       "      <th>IOH28294</th>\n",
       "      <th>IOH1782</th>\n",
       "    </tr>\n",
       "  </thead>\n",
       "  <tbody>\n",
       "    <tr>\n",
       "      <th>0</th>\n",
       "      <td>0.364700</td>\n",
       "      <td>0.288609</td>\n",
       "      <td>0.250997</td>\n",
       "      <td>0.327429</td>\n",
       "      <td>0.662843</td>\n",
       "      <td>0.481243</td>\n",
       "      <td>0.240841</td>\n",
       "      <td>0.280940</td>\n",
       "      <td>0.170667</td>\n",
       "      <td>0.243350</td>\n",
       "      <td>...</td>\n",
       "      <td>0.624006</td>\n",
       "      <td>0.088973</td>\n",
       "      <td>0.001371</td>\n",
       "      <td>0.047333</td>\n",
       "      <td>0.019076</td>\n",
       "      <td>0.244203</td>\n",
       "      <td>1.000000</td>\n",
       "      <td>0.297160</td>\n",
       "      <td>0.659081</td>\n",
       "      <td>0.697660</td>\n",
       "    </tr>\n",
       "    <tr>\n",
       "      <th>1</th>\n",
       "      <td>0.253858</td>\n",
       "      <td>0.250530</td>\n",
       "      <td>0.363570</td>\n",
       "      <td>0.252878</td>\n",
       "      <td>0.700547</td>\n",
       "      <td>0.369871</td>\n",
       "      <td>0.231877</td>\n",
       "      <td>0.236697</td>\n",
       "      <td>0.128818</td>\n",
       "      <td>0.271832</td>\n",
       "      <td>...</td>\n",
       "      <td>0.498285</td>\n",
       "      <td>0.065496</td>\n",
       "      <td>0.005599</td>\n",
       "      <td>0.023889</td>\n",
       "      <td>0.025805</td>\n",
       "      <td>0.351729</td>\n",
       "      <td>0.873350</td>\n",
       "      <td>0.177171</td>\n",
       "      <td>0.912964</td>\n",
       "      <td>1.000000</td>\n",
       "    </tr>\n",
       "    <tr>\n",
       "      <th>2</th>\n",
       "      <td>0.240853</td>\n",
       "      <td>0.165469</td>\n",
       "      <td>0.157839</td>\n",
       "      <td>0.176468</td>\n",
       "      <td>0.837130</td>\n",
       "      <td>0.245531</td>\n",
       "      <td>0.140434</td>\n",
       "      <td>0.180751</td>\n",
       "      <td>0.131542</td>\n",
       "      <td>0.540543</td>\n",
       "      <td>...</td>\n",
       "      <td>0.295049</td>\n",
       "      <td>0.002191</td>\n",
       "      <td>0.007671</td>\n",
       "      <td>0.073897</td>\n",
       "      <td>0.156390</td>\n",
       "      <td>0.848344</td>\n",
       "      <td>0.305850</td>\n",
       "      <td>0.070121</td>\n",
       "      <td>0.038761</td>\n",
       "      <td>0.267550</td>\n",
       "    </tr>\n",
       "    <tr>\n",
       "      <th>3</th>\n",
       "      <td>0.399657</td>\n",
       "      <td>0.294344</td>\n",
       "      <td>0.261100</td>\n",
       "      <td>0.245017</td>\n",
       "      <td>0.762648</td>\n",
       "      <td>0.335018</td>\n",
       "      <td>0.140890</td>\n",
       "      <td>0.256465</td>\n",
       "      <td>0.200230</td>\n",
       "      <td>0.199245</td>\n",
       "      <td>...</td>\n",
       "      <td>0.493560</td>\n",
       "      <td>0.040348</td>\n",
       "      <td>0.002116</td>\n",
       "      <td>0.031619</td>\n",
       "      <td>0.013923</td>\n",
       "      <td>0.379534</td>\n",
       "      <td>0.547321</td>\n",
       "      <td>0.267557</td>\n",
       "      <td>0.462233</td>\n",
       "      <td>0.569614</td>\n",
       "    </tr>\n",
       "    <tr>\n",
       "      <th>4</th>\n",
       "      <td>0.213265</td>\n",
       "      <td>0.150938</td>\n",
       "      <td>0.198759</td>\n",
       "      <td>0.294057</td>\n",
       "      <td>0.652894</td>\n",
       "      <td>0.311588</td>\n",
       "      <td>0.294103</td>\n",
       "      <td>0.210218</td>\n",
       "      <td>0.173577</td>\n",
       "      <td>0.314232</td>\n",
       "      <td>...</td>\n",
       "      <td>0.358947</td>\n",
       "      <td>0.138491</td>\n",
       "      <td>0.007235</td>\n",
       "      <td>0.028664</td>\n",
       "      <td>0.089204</td>\n",
       "      <td>0.403015</td>\n",
       "      <td>0.407303</td>\n",
       "      <td>0.061535</td>\n",
       "      <td>0.242526</td>\n",
       "      <td>0.276847</td>\n",
       "    </tr>\n",
       "  </tbody>\n",
       "</table>\n",
       "<p>5 rows × 9480 columns</p>\n",
       "</div>"
      ],
      "text/plain": [
       "   IOH12500  IOH26532  IOH42939  IOH40665  IOH23035  IOH41408  IOH23172  \\\n",
       "0  0.364700  0.288609  0.250997  0.327429  0.662843  0.481243  0.240841   \n",
       "1  0.253858  0.250530  0.363570  0.252878  0.700547  0.369871  0.231877   \n",
       "2  0.240853  0.165469  0.157839  0.176468  0.837130  0.245531  0.140434   \n",
       "3  0.399657  0.294344  0.261100  0.245017  0.762648  0.335018  0.140890   \n",
       "4  0.213265  0.150938  0.198759  0.294057  0.652894  0.311588  0.294103   \n",
       "\n",
       "    IOH6369  IOH13630  IOH23077  ...  IOH22776   IOH4999  IOH40390  IOH10554  \\\n",
       "0  0.280940  0.170667  0.243350  ...  0.624006  0.088973  0.001371  0.047333   \n",
       "1  0.236697  0.128818  0.271832  ...  0.498285  0.065496  0.005599  0.023889   \n",
       "2  0.180751  0.131542  0.540543  ...  0.295049  0.002191  0.007671  0.073897   \n",
       "3  0.256465  0.200230  0.199245  ...  0.493560  0.040348  0.002116  0.031619   \n",
       "4  0.210218  0.173577  0.314232  ...  0.358947  0.138491  0.007235  0.028664   \n",
       "\n",
       "   IOH39905  IOH27481  IOH29280  IOH29425  IOH28294   IOH1782  \n",
       "0  0.019076  0.244203  1.000000  0.297160  0.659081  0.697660  \n",
       "1  0.025805  0.351729  0.873350  0.177171  0.912964  1.000000  \n",
       "2  0.156390  0.848344  0.305850  0.070121  0.038761  0.267550  \n",
       "3  0.013923  0.379534  0.547321  0.267557  0.462233  0.569614  \n",
       "4  0.089204  0.403015  0.407303  0.061535  0.242526  0.276847  \n",
       "\n",
       "[5 rows x 9480 columns]"
      ]
     },
     "execution_count": 13,
     "metadata": {},
     "output_type": "execute_result"
    }
   ],
   "source": [
    "# Display normalized features set\n",
    "scaled_X.head()"
   ]
  },
  {
   "cell_type": "code",
   "execution_count": 14,
   "id": "b7608135",
   "metadata": {},
   "outputs": [],
   "source": [
    "# Extracting target from dataframe\n",
    "y = df.iloc[:,1]"
   ]
  },
  {
   "cell_type": "code",
   "execution_count": 15,
   "id": "bdb6329f",
   "metadata": {},
   "outputs": [
    {
     "data": {
      "text/plain": [
       "0    1\n",
       "1    1\n",
       "2    1\n",
       "3    1\n",
       "4    1\n",
       "Name: TARGET, dtype: int64"
      ]
     },
     "execution_count": 15,
     "metadata": {},
     "output_type": "execute_result"
    }
   ],
   "source": [
    "# Display target\n",
    "y.head()"
   ]
  },
  {
   "cell_type": "code",
   "execution_count": 16,
   "id": "dcdade3d",
   "metadata": {},
   "outputs": [
    {
     "data": {
      "text/plain": [
       "1    50\n",
       "0    40\n",
       "Name: TARGET, dtype: int64"
      ]
     },
     "execution_count": 16,
     "metadata": {},
     "output_type": "execute_result"
    }
   ],
   "source": [
    "# Show value counts in target\n",
    "y.value_counts()"
   ]
  },
  {
   "cell_type": "code",
   "execution_count": 17,
   "id": "7daae959",
   "metadata": {},
   "outputs": [],
   "source": [
    "# Import 'PCA' from 'sklearn' library\n",
    "from sklearn.decomposition import PCA"
   ]
  },
  {
   "cell_type": "code",
   "execution_count": 18,
   "id": "a31d1949",
   "metadata": {},
   "outputs": [],
   "source": [
    "# Perform Principal Component Analysis on raw data\n",
    "pca = PCA(n_components=2)\n",
    "principalComponents = pca.fit_transform(scaled_X)\n",
    "principal_DF = pd.DataFrame(data = principalComponents, columns = ['principal component 1', 'principal component 2'])"
   ]
  },
  {
   "cell_type": "code",
   "execution_count": 19,
   "id": "4f78be72",
   "metadata": {},
   "outputs": [
    {
     "data": {
      "text/plain": [
       "(90, 2)"
      ]
     },
     "execution_count": 19,
     "metadata": {},
     "output_type": "execute_result"
    }
   ],
   "source": [
    "# Check dimensions of the dataframe\n",
    "principal_DF.shape"
   ]
  },
  {
   "cell_type": "code",
   "execution_count": 20,
   "id": "76a3ac4a",
   "metadata": {},
   "outputs": [],
   "source": [
    "# Import 'matplotlib' library\n",
    "import matplotlib.pyplot as plt"
   ]
  },
  {
   "cell_type": "code",
   "execution_count": 21,
   "id": "36a6d602",
   "metadata": {},
   "outputs": [
    {
     "data": {
      "image/png": "[encoded data removed]",
      "text/plain": [
       "<Figure size 576x432 with 1 Axes>"
      ]
     },
     "metadata": {
      "needs_background": "light"
     },
     "output_type": "display_data"
    }
   ],
   "source": [
    "# Plotting data generated from PCA\n",
    "plt.figure(figsize=(8,6))\n",
    "plt.rcParams.update({'font.size': 12, 'font.family': 'DejaVu Sans'})\n",
    "\n",
    "ax = plt.scatter(x=principal_DF.iloc[:,0], y=principal_DF.iloc[:,1], c=y, cmap='winter')\n",
    "plt.xlabel('First principal component')\n",
    "plt.ylabel('Second Principal Component')\n",
    "plt.legend(*ax.legend_elements())\n",
    "plt.show()"
   ]
  },
  {
   "cell_type": "code",
   "execution_count": 22,
   "id": "f35b60d6",
   "metadata": {},
   "outputs": [],
   "source": [
    "# Import 'f_classif' and 'SelectKBest' from 'sklearn' library\n",
    "from sklearn.feature_selection import f_classif,SelectKBest"
   ]
  },
  {
   "cell_type": "code",
   "execution_count": 23,
   "id": "7f65abf2",
   "metadata": {},
   "outputs": [],
   "source": [
    "# Select best 50 features from normalized features set using 'ANOVA' method\n",
    "fs = SelectKBest(score_func=f_classif, k=50)\n",
    "fs.fit(scaled_X,y)\n",
    "cols = fs.get_support(indices=True)\n",
    "features_50_X = scaled_X.iloc[:,cols]"
   ]
  },
  {
   "cell_type": "code",
   "execution_count": 24,
   "id": "211dc5cf",
   "metadata": {},
   "outputs": [
    {
     "data": {
      "text/plain": [
       "(90, 50)"
      ]
     },
     "execution_count": 24,
     "metadata": {},
     "output_type": "execute_result"
    }
   ],
   "source": [
    "# Check the shape of selected features set\n",
    "features_50_X.shape"
   ]
  },
  {
   "cell_type": "code",
   "execution_count": 25,
   "id": "a3dca1b2",
   "metadata": {},
   "outputs": [],
   "source": [
    "# Select best 40 features from 50 features set using 'ANOVA' method\n",
    "fs = SelectKBest(score_func=f_classif, k=40)\n",
    "fs.fit(features_50_X,y)\n",
    "cols = fs.get_support(indices=True)\n",
    "features_40_X = features_50_X.iloc[:,cols]"
   ]
  },
  {
   "cell_type": "code",
   "execution_count": 26,
   "id": "3a0536a6",
   "metadata": {},
   "outputs": [
    {
     "data": {
      "text/plain": [
       "(90, 40)"
      ]
     },
     "execution_count": 26,
     "metadata": {},
     "output_type": "execute_result"
    }
   ],
   "source": [
    "# Check the shape of selected features set\n",
    "features_40_X.shape"
   ]
  },
  {
   "cell_type": "code",
   "execution_count": 27,
   "id": "ece68b7a",
   "metadata": {},
   "outputs": [],
   "source": [
    "# Select best 30 features from 40 features set using 'ANOVA' method\n",
    "fs = SelectKBest(score_func=f_classif, k=30)\n",
    "fs.fit(features_40_X,y)\n",
    "cols = fs.get_support(indices=True)\n",
    "features_30_X = features_40_X.iloc[:,cols]"
   ]
  },
  {
   "cell_type": "code",
   "execution_count": 28,
   "id": "8b95084b",
   "metadata": {},
   "outputs": [
    {
     "data": {
      "text/plain": [
       "(90, 30)"
      ]
     },
     "execution_count": 28,
     "metadata": {},
     "output_type": "execute_result"
    }
   ],
   "source": [
    "# Check the shape of selected features set\n",
    "features_30_X.shape"
   ]
  },
  {
   "cell_type": "code",
   "execution_count": 29,
   "id": "955f7432",
   "metadata": {},
   "outputs": [],
   "source": [
    "# Select best 20 features from 30 features set using 'ANOVA' method\n",
    "fs = SelectKBest(score_func=f_classif, k=20)\n",
    "fs.fit(features_30_X,y)\n",
    "cols = fs.get_support(indices=True)\n",
    "features_20_X = features_30_X.iloc[:,cols]"
   ]
  },
  {
   "cell_type": "code",
   "execution_count": 30,
   "id": "4a815805",
   "metadata": {},
   "outputs": [
    {
     "data": {
      "text/plain": [
       "(90, 20)"
      ]
     },
     "execution_count": 30,
     "metadata": {},
     "output_type": "execute_result"
    }
   ],
   "source": [
    "# Check the shape of selected features set\n",
    "features_20_X.shape"
   ]
  },
  {
   "cell_type": "code",
   "execution_count": 31,
   "id": "a130f790",
   "metadata": {},
   "outputs": [],
   "source": [
    "# Select best 10 features from 20 features set using 'ANOVA' method\n",
    "fs = SelectKBest(score_func=f_classif, k=10)\n",
    "fs.fit(features_20_X,y)\n",
    "cols = fs.get_support(indices=True)\n",
    "features_10_X = features_20_X.iloc[:,cols]"
   ]
  },
  {
   "cell_type": "code",
   "execution_count": 32,
   "id": "a5620a9e",
   "metadata": {},
   "outputs": [
    {
     "data": {
      "text/plain": [
       "(90, 10)"
      ]
     },
     "execution_count": 32,
     "metadata": {},
     "output_type": "execute_result"
    }
   ],
   "source": [
    "# Check the shape of selected features set\n",
    "features_10_X.shape"
   ]
  },
  {
   "cell_type": "code",
   "execution_count": 33,
   "id": "43b66993",
   "metadata": {},
   "outputs": [],
   "source": [
    "# Create 'models' dictionary and store all machine learning models in the dictionary\n",
    "models = {}\n",
    "\n",
    "# Logistic Regression\n",
    "from sklearn.linear_model import LogisticRegression\n",
    "models['Logistic Regression'] = LogisticRegression()\n",
    "\n",
    "# Support Vector Machines\n",
    "from sklearn.svm import LinearSVC\n",
    "models['Support Vector Machines'] = LinearSVC()\n",
    "\n",
    "# Naive Bayes\n",
    "from sklearn.naive_bayes import GaussianNB\n",
    "models['Naive Bayes'] = GaussianNB()\n",
    "\n",
    "# K-Nearest Neighbors\n",
    "from sklearn.neighbors import KNeighborsClassifier\n",
    "models['K-Nearest Neighbor'] = KNeighborsClassifier()\n",
    "\n",
    "# Decision Trees\n",
    "from sklearn.tree import DecisionTreeClassifier\n",
    "models['Decision Trees'] = DecisionTreeClassifier()\n",
    "\n",
    "# Random Forest\n",
    "from sklearn.ensemble import RandomForestClassifier\n",
    "models['Random Forest'] = RandomForestClassifier()\n",
    "\n",
    "# Import 'cross_val_score' from 'sklearn' library\n",
    "from sklearn.model_selection import cross_val_score\n",
    "\n",
    "# Create dictionaries to store perfomance measures\n",
    "accuracy, precision, recall, f1 = {}, {}, {}, {}\n",
    "std_accuracy, std_precision, std_recall, std_f1 = {}, {}, {}, {}\n",
    "full_accuracy, full_precision, full_recall, full_f1 = {}, {}, {}, {}\n",
    "\n",
    "# Iterating through every machine learning model in 'models' dictionary\n",
    "for x in ['50', '40', '30', '20', '10']:\n",
    "\n",
    "    for key in models.keys():\n",
    "          \n",
    "        fs = 'features_' + x + '_X'\n",
    "        \n",
    "        # Fit the classifier\n",
    "        accuracy[key] = cross_val_score(models[key], locals()[fs], y, cv=5, scoring='accuracy').mean()*100\n",
    "        precision[key] = cross_val_score(models[key], locals()[fs], y, cv=5, scoring='precision').mean()*100\n",
    "        recall[key] = cross_val_score(models[key], locals()[fs], y, cv=5, scoring='recall').mean()*100\n",
    "        f1[key] = cross_val_score(models[key], locals()[fs], y, cv=5, scoring='f1').mean()*100\n",
    "\n",
    "        std_accuracy[key] = cross_val_score(models[key], locals()[fs], y, cv=5, scoring='accuracy').std()*100\n",
    "        std_precision[key] = cross_val_score(models[key], locals()[fs], y, cv=5, scoring='precision').std()*100\n",
    "        std_recall[key] = cross_val_score(models[key], locals()[fs], y, cv=5, scoring='recall').std()*100\n",
    "        std_f1[key] = cross_val_score(models[key], locals()[fs], y, cv=5, scoring='f1').std()*100\n",
    "\n",
    "        full_accuracy[key] = str(np.around(accuracy[key],2)) + ' ± ' + str(np.around(std_accuracy[key],2))\n",
    "        full_precision[key] = str(np.around(precision[key],2)) + ' ± ' + str(np.around(std_precision[key],2))\n",
    "        full_recall[key] = str(np.around(recall[key],2)) + ' ± ' + str(np.around(std_recall[key],2))\n",
    "        full_f1[key] = str(np.around(f1[key],2)) + ' ± ' + str(np.around(std_f1[key],2))\n",
    "    \n",
    "    fs_performance = 'performance_' + x + '_features'\n",
    "    # Generate performace matrix for every machine learning model\n",
    "    locals()[fs_performance] = pd.DataFrame(index=models.keys(), columns=['Accuracy','Precision','Recall','F1 Score'])\n",
    "    locals()[fs_performance]['Accuracy'] = accuracy.values()\n",
    "    locals()[fs_performance]['Precision'] = precision.values()\n",
    "    locals()[fs_performance]['Recall'] = recall.values()\n",
    "    locals()[fs_performance]['F1 Score'] = f1.values()\n",
    "    \n",
    "    fs_std = 'std_' + x + '_features'\n",
    "    # Generate standard deviation matrix for every machine learning model\n",
    "    locals()[fs_std] = pd.DataFrame(index=models.keys(), columns=['Accuracy','Precision','Recall','F1 Score'])\n",
    "    locals()[fs_std]['Accuracy'] = std_accuracy.values()\n",
    "    locals()[fs_std]['Precision'] = std_precision.values()\n",
    "    locals()[fs_std]['Recall'] = std_recall.values()\n",
    "    locals()[fs_std]['F1 Score'] = std_f1.values()\n",
    "    \n",
    "    fs_full = 'full_' + x + '_features'\n",
    "    # Generate standard deviation matrix for every machine learning model\n",
    "    locals()[fs_full] = pd.DataFrame(index=models.keys(), columns=['Accuracy','Precision','Recall','F1 Score'])\n",
    "    locals()[fs_full]['Accuracy'] = full_accuracy.values()\n",
    "    locals()[fs_full]['Precision'] = full_precision.values()\n",
    "    locals()[fs_full]['Recall'] = full_recall.values()\n",
    "    locals()[fs_full]['F1 Score'] = full_f1.values()"
   ]
  },
  {
   "cell_type": "code",
   "execution_count": 66,
   "id": "9ad6a973",
   "metadata": {},
   "outputs": [
    {
     "data": {
      "text/html": [
       "<div>\n",
       "<style scoped>\n",
       "    .dataframe tbody tr th:only-of-type {\n",
       "        vertical-align: middle;\n",
       "    }\n",
       "\n",
       "    .dataframe tbody tr th {\n",
       "        vertical-align: top;\n",
       "    }\n",
       "\n",
       "    .dataframe thead th {\n",
       "        text-align: right;\n",
       "    }\n",
       "</style>\n",
       "<table border=\"1\" class=\"dataframe\">\n",
       "  <thead>\n",
       "    <tr style=\"text-align: right;\">\n",
       "      <th></th>\n",
       "      <th>Accuracy</th>\n",
       "      <th>Precision</th>\n",
       "      <th>Recall</th>\n",
       "      <th>F1 Score</th>\n",
       "    </tr>\n",
       "  </thead>\n",
       "  <tbody>\n",
       "    <tr>\n",
       "      <th>Logistic Regression</th>\n",
       "      <td>95.56 ± 2.22</td>\n",
       "      <td>100.0 ± 0.0</td>\n",
       "      <td>92.0 ± 4.0</td>\n",
       "      <td>95.79 ± 2.11</td>\n",
       "    </tr>\n",
       "    <tr>\n",
       "      <th>Support Vector Machines</th>\n",
       "      <td>97.78 ± 2.72</td>\n",
       "      <td>98.18 ± 3.64</td>\n",
       "      <td>98.0 ± 4.0</td>\n",
       "      <td>97.99 ± 2.46</td>\n",
       "    </tr>\n",
       "    <tr>\n",
       "      <th>Naive Bayes</th>\n",
       "      <td>88.89 ± 7.86</td>\n",
       "      <td>95.5 ± 5.57</td>\n",
       "      <td>84.0 ± 12.0</td>\n",
       "      <td>88.97 ± 8.06</td>\n",
       "    </tr>\n",
       "    <tr>\n",
       "      <th>K-Nearest Neighbor</th>\n",
       "      <td>96.67 ± 4.44</td>\n",
       "      <td>100.0 ± 0.0</td>\n",
       "      <td>94.0 ± 8.0</td>\n",
       "      <td>96.73 ± 4.42</td>\n",
       "    </tr>\n",
       "    <tr>\n",
       "      <th>Decision Trees</th>\n",
       "      <td>90.0 ± 13.43</td>\n",
       "      <td>94.14 ± 4.44</td>\n",
       "      <td>84.0 ± 8.0</td>\n",
       "      <td>90.51 ± 5.45</td>\n",
       "    </tr>\n",
       "    <tr>\n",
       "      <th>Random Forest</th>\n",
       "      <td>96.67 ± 7.03</td>\n",
       "      <td>94.18 ± 0.0</td>\n",
       "      <td>92.0 ± 8.0</td>\n",
       "      <td>96.73 ± 4.13</td>\n",
       "    </tr>\n",
       "  </tbody>\n",
       "</table>\n",
       "</div>"
      ],
      "text/plain": [
       "                             Accuracy     Precision       Recall      F1 Score\n",
       "Logistic Regression      95.56 ± 2.22   100.0 ± 0.0   92.0 ± 4.0  95.79 ± 2.11\n",
       "Support Vector Machines  97.78 ± 2.72  98.18 ± 3.64   98.0 ± 4.0  97.99 ± 2.46\n",
       "Naive Bayes              88.89 ± 7.86   95.5 ± 5.57  84.0 ± 12.0  88.97 ± 8.06\n",
       "K-Nearest Neighbor       96.67 ± 4.44   100.0 ± 0.0   94.0 ± 8.0  96.73 ± 4.42\n",
       "Decision Trees           90.0 ± 13.43  94.14 ± 4.44   84.0 ± 8.0  90.51 ± 5.45\n",
       "Random Forest            96.67 ± 7.03   94.18 ± 0.0   92.0 ± 8.0  96.73 ± 4.13"
      ]
     },
     "execution_count": 66,
     "metadata": {},
     "output_type": "execute_result"
    }
   ],
   "source": [
    "full_50_features"
   ]
  },
  {
   "cell_type": "code",
   "execution_count": 67,
   "id": "a70cb560",
   "metadata": {},
   "outputs": [
    {
     "data": {
      "text/html": [
       "<div>\n",
       "<style scoped>\n",
       "    .dataframe tbody tr th:only-of-type {\n",
       "        vertical-align: middle;\n",
       "    }\n",
       "\n",
       "    .dataframe tbody tr th {\n",
       "        vertical-align: top;\n",
       "    }\n",
       "\n",
       "    .dataframe thead th {\n",
       "        text-align: right;\n",
       "    }\n",
       "</style>\n",
       "<table border=\"1\" class=\"dataframe\">\n",
       "  <thead>\n",
       "    <tr style=\"text-align: right;\">\n",
       "      <th></th>\n",
       "      <th>Accuracy</th>\n",
       "      <th>Precision</th>\n",
       "      <th>Recall</th>\n",
       "      <th>F1 Score</th>\n",
       "    </tr>\n",
       "  </thead>\n",
       "  <tbody>\n",
       "    <tr>\n",
       "      <th>Logistic Regression</th>\n",
       "      <td>94.44 ± 3.51</td>\n",
       "      <td>100.0 ± 0.0</td>\n",
       "      <td>90.0 ± 6.32</td>\n",
       "      <td>94.62 ± 3.52</td>\n",
       "    </tr>\n",
       "    <tr>\n",
       "      <th>Support Vector Machines</th>\n",
       "      <td>98.89 ± 2.22</td>\n",
       "      <td>100.0 ± 0.0</td>\n",
       "      <td>98.0 ± 4.0</td>\n",
       "      <td>98.95 ± 2.11</td>\n",
       "    </tr>\n",
       "    <tr>\n",
       "      <th>Naive Bayes</th>\n",
       "      <td>90.0 ± 6.48</td>\n",
       "      <td>95.78 ± 5.18</td>\n",
       "      <td>86.0 ± 10.2</td>\n",
       "      <td>90.26 ± 6.54</td>\n",
       "    </tr>\n",
       "    <tr>\n",
       "      <th>K-Nearest Neighbor</th>\n",
       "      <td>94.44 ± 7.03</td>\n",
       "      <td>100.0 ± 0.0</td>\n",
       "      <td>90.0 ± 12.65</td>\n",
       "      <td>94.25 ± 7.34</td>\n",
       "    </tr>\n",
       "    <tr>\n",
       "      <th>Decision Trees</th>\n",
       "      <td>92.22 ± 5.67</td>\n",
       "      <td>93.74 ± 4.99</td>\n",
       "      <td>90.0 ± 9.8</td>\n",
       "      <td>87.79 ± 6.22</td>\n",
       "    </tr>\n",
       "    <tr>\n",
       "      <th>Random Forest</th>\n",
       "      <td>96.67 ± 7.03</td>\n",
       "      <td>96.0 ± 3.64</td>\n",
       "      <td>94.0 ± 8.0</td>\n",
       "      <td>97.05 ± 6.58</td>\n",
       "    </tr>\n",
       "  </tbody>\n",
       "</table>\n",
       "</div>"
      ],
      "text/plain": [
       "                             Accuracy     Precision        Recall  \\\n",
       "Logistic Regression      94.44 ± 3.51   100.0 ± 0.0   90.0 ± 6.32   \n",
       "Support Vector Machines  98.89 ± 2.22   100.0 ± 0.0    98.0 ± 4.0   \n",
       "Naive Bayes               90.0 ± 6.48  95.78 ± 5.18   86.0 ± 10.2   \n",
       "K-Nearest Neighbor       94.44 ± 7.03   100.0 ± 0.0  90.0 ± 12.65   \n",
       "Decision Trees           92.22 ± 5.67  93.74 ± 4.99    90.0 ± 9.8   \n",
       "Random Forest            96.67 ± 7.03   96.0 ± 3.64    94.0 ± 8.0   \n",
       "\n",
       "                             F1 Score  \n",
       "Logistic Regression      94.62 ± 3.52  \n",
       "Support Vector Machines  98.95 ± 2.11  \n",
       "Naive Bayes              90.26 ± 6.54  \n",
       "K-Nearest Neighbor       94.25 ± 7.34  \n",
       "Decision Trees           87.79 ± 6.22  \n",
       "Random Forest            97.05 ± 6.58  "
      ]
     },
     "execution_count": 67,
     "metadata": {},
     "output_type": "execute_result"
    }
   ],
   "source": [
    "full_40_features"
   ]
  },
  {
   "cell_type": "code",
   "execution_count": 68,
   "id": "b0233b00",
   "metadata": {},
   "outputs": [
    {
     "data": {
      "text/html": [
       "<div>\n",
       "<style scoped>\n",
       "    .dataframe tbody tr th:only-of-type {\n",
       "        vertical-align: middle;\n",
       "    }\n",
       "\n",
       "    .dataframe tbody tr th {\n",
       "        vertical-align: top;\n",
       "    }\n",
       "\n",
       "    .dataframe thead th {\n",
       "        text-align: right;\n",
       "    }\n",
       "</style>\n",
       "<table border=\"1\" class=\"dataframe\">\n",
       "  <thead>\n",
       "    <tr style=\"text-align: right;\">\n",
       "      <th></th>\n",
       "      <th>Accuracy</th>\n",
       "      <th>Precision</th>\n",
       "      <th>Recall</th>\n",
       "      <th>F1 Score</th>\n",
       "    </tr>\n",
       "  </thead>\n",
       "  <tbody>\n",
       "    <tr>\n",
       "      <th>Logistic Regression</th>\n",
       "      <td>95.56 ± 2.22</td>\n",
       "      <td>100.0 ± 0.0</td>\n",
       "      <td>92.0 ± 4.0</td>\n",
       "      <td>95.79 ± 2.11</td>\n",
       "    </tr>\n",
       "    <tr>\n",
       "      <th>Support Vector Machines</th>\n",
       "      <td>96.67 ± 4.44</td>\n",
       "      <td>100.0 ± 0.0</td>\n",
       "      <td>94.0 ± 8.0</td>\n",
       "      <td>96.73 ± 4.42</td>\n",
       "    </tr>\n",
       "    <tr>\n",
       "      <th>Naive Bayes</th>\n",
       "      <td>91.11 ± 6.67</td>\n",
       "      <td>98.18 ± 3.64</td>\n",
       "      <td>86.0 ± 13.56</td>\n",
       "      <td>90.94 ± 7.24</td>\n",
       "    </tr>\n",
       "    <tr>\n",
       "      <th>K-Nearest Neighbor</th>\n",
       "      <td>93.33 ± 6.48</td>\n",
       "      <td>100.0 ± 0.0</td>\n",
       "      <td>88.0 ± 11.66</td>\n",
       "      <td>93.2 ± 6.8</td>\n",
       "    </tr>\n",
       "    <tr>\n",
       "      <th>Decision Trees</th>\n",
       "      <td>90.0 ± 8.16</td>\n",
       "      <td>95.56 ± 5.17</td>\n",
       "      <td>86.0 ± 12.0</td>\n",
       "      <td>91.68 ± 6.16</td>\n",
       "    </tr>\n",
       "    <tr>\n",
       "      <th>Random Forest</th>\n",
       "      <td>93.33 ± 2.72</td>\n",
       "      <td>100.0 ± 4.45</td>\n",
       "      <td>96.0 ± 8.0</td>\n",
       "      <td>98.1 ± 6.12</td>\n",
       "    </tr>\n",
       "  </tbody>\n",
       "</table>\n",
       "</div>"
      ],
      "text/plain": [
       "                             Accuracy     Precision        Recall  \\\n",
       "Logistic Regression      95.56 ± 2.22   100.0 ± 0.0    92.0 ± 4.0   \n",
       "Support Vector Machines  96.67 ± 4.44   100.0 ± 0.0    94.0 ± 8.0   \n",
       "Naive Bayes              91.11 ± 6.67  98.18 ± 3.64  86.0 ± 13.56   \n",
       "K-Nearest Neighbor       93.33 ± 6.48   100.0 ± 0.0  88.0 ± 11.66   \n",
       "Decision Trees            90.0 ± 8.16  95.56 ± 5.17   86.0 ± 12.0   \n",
       "Random Forest            93.33 ± 2.72  100.0 ± 4.45    96.0 ± 8.0   \n",
       "\n",
       "                             F1 Score  \n",
       "Logistic Regression      95.79 ± 2.11  \n",
       "Support Vector Machines  96.73 ± 4.42  \n",
       "Naive Bayes              90.94 ± 7.24  \n",
       "K-Nearest Neighbor         93.2 ± 6.8  \n",
       "Decision Trees           91.68 ± 6.16  \n",
       "Random Forest             98.1 ± 6.12  "
      ]
     },
     "execution_count": 68,
     "metadata": {},
     "output_type": "execute_result"
    }
   ],
   "source": [
    "full_30_features"
   ]
  },
  {
   "cell_type": "code",
   "execution_count": 69,
   "id": "cbcac286",
   "metadata": {},
   "outputs": [
    {
     "data": {
      "text/html": [
       "<div>\n",
       "<style scoped>\n",
       "    .dataframe tbody tr th:only-of-type {\n",
       "        vertical-align: middle;\n",
       "    }\n",
       "\n",
       "    .dataframe tbody tr th {\n",
       "        vertical-align: top;\n",
       "    }\n",
       "\n",
       "    .dataframe thead th {\n",
       "        text-align: right;\n",
       "    }\n",
       "</style>\n",
       "<table border=\"1\" class=\"dataframe\">\n",
       "  <thead>\n",
       "    <tr style=\"text-align: right;\">\n",
       "      <th></th>\n",
       "      <th>Accuracy</th>\n",
       "      <th>Precision</th>\n",
       "      <th>Recall</th>\n",
       "      <th>F1 Score</th>\n",
       "    </tr>\n",
       "  </thead>\n",
       "  <tbody>\n",
       "    <tr>\n",
       "      <th>Logistic Regression</th>\n",
       "      <td>93.33 ± 5.44</td>\n",
       "      <td>100.0 ± 0.0</td>\n",
       "      <td>88.0 ± 9.8</td>\n",
       "      <td>93.31 ± 5.85</td>\n",
       "    </tr>\n",
       "    <tr>\n",
       "      <th>Support Vector Machines</th>\n",
       "      <td>95.56 ± 5.44</td>\n",
       "      <td>98.0 ± 4.0</td>\n",
       "      <td>94.0 ± 8.0</td>\n",
       "      <td>95.78 ± 5.18</td>\n",
       "    </tr>\n",
       "    <tr>\n",
       "      <th>Naive Bayes</th>\n",
       "      <td>91.11 ± 7.54</td>\n",
       "      <td>95.68 ± 5.4</td>\n",
       "      <td>88.0 ± 11.66</td>\n",
       "      <td>91.33 ± 7.64</td>\n",
       "    </tr>\n",
       "    <tr>\n",
       "      <th>K-Nearest Neighbor</th>\n",
       "      <td>95.56 ± 4.16</td>\n",
       "      <td>98.0 ± 4.0</td>\n",
       "      <td>94.0 ± 4.9</td>\n",
       "      <td>95.89 ± 3.77</td>\n",
       "    </tr>\n",
       "    <tr>\n",
       "      <th>Decision Trees</th>\n",
       "      <td>92.22 ± 6.48</td>\n",
       "      <td>93.74 ± 7.92</td>\n",
       "      <td>92.0 ± 9.8</td>\n",
       "      <td>92.73 ± 5.53</td>\n",
       "    </tr>\n",
       "    <tr>\n",
       "      <th>Random Forest</th>\n",
       "      <td>97.78 ± 4.44</td>\n",
       "      <td>98.0 ± 4.0</td>\n",
       "      <td>96.0 ± 0.0</td>\n",
       "      <td>96.0 ± 2.33</td>\n",
       "    </tr>\n",
       "  </tbody>\n",
       "</table>\n",
       "</div>"
      ],
      "text/plain": [
       "                             Accuracy     Precision        Recall  \\\n",
       "Logistic Regression      93.33 ± 5.44   100.0 ± 0.0    88.0 ± 9.8   \n",
       "Support Vector Machines  95.56 ± 5.44    98.0 ± 4.0    94.0 ± 8.0   \n",
       "Naive Bayes              91.11 ± 7.54   95.68 ± 5.4  88.0 ± 11.66   \n",
       "K-Nearest Neighbor       95.56 ± 4.16    98.0 ± 4.0    94.0 ± 4.9   \n",
       "Decision Trees           92.22 ± 6.48  93.74 ± 7.92    92.0 ± 9.8   \n",
       "Random Forest            97.78 ± 4.44    98.0 ± 4.0    96.0 ± 0.0   \n",
       "\n",
       "                             F1 Score  \n",
       "Logistic Regression      93.31 ± 5.85  \n",
       "Support Vector Machines  95.78 ± 5.18  \n",
       "Naive Bayes              91.33 ± 7.64  \n",
       "K-Nearest Neighbor       95.89 ± 3.77  \n",
       "Decision Trees           92.73 ± 5.53  \n",
       "Random Forest             96.0 ± 2.33  "
      ]
     },
     "execution_count": 69,
     "metadata": {},
     "output_type": "execute_result"
    }
   ],
   "source": [
    "full_20_features"
   ]
  },
  {
   "cell_type": "code",
   "execution_count": 70,
   "id": "eb14d8a0",
   "metadata": {},
   "outputs": [
    {
     "data": {
      "text/html": [
       "<div>\n",
       "<style scoped>\n",
       "    .dataframe tbody tr th:only-of-type {\n",
       "        vertical-align: middle;\n",
       "    }\n",
       "\n",
       "    .dataframe tbody tr th {\n",
       "        vertical-align: top;\n",
       "    }\n",
       "\n",
       "    .dataframe thead th {\n",
       "        text-align: right;\n",
       "    }\n",
       "</style>\n",
       "<table border=\"1\" class=\"dataframe\">\n",
       "  <thead>\n",
       "    <tr style=\"text-align: right;\">\n",
       "      <th></th>\n",
       "      <th>Accuracy</th>\n",
       "      <th>Precision</th>\n",
       "      <th>Recall</th>\n",
       "      <th>F1 Score</th>\n",
       "    </tr>\n",
       "  </thead>\n",
       "  <tbody>\n",
       "    <tr>\n",
       "      <th>Logistic Regression</th>\n",
       "      <td>92.22 ± 6.67</td>\n",
       "      <td>98.0 ± 4.0</td>\n",
       "      <td>88.0 ± 11.66</td>\n",
       "      <td>92.25 ± 6.85</td>\n",
       "    </tr>\n",
       "    <tr>\n",
       "      <th>Support Vector Machines</th>\n",
       "      <td>92.22 ± 5.67</td>\n",
       "      <td>94.55 ± 7.27</td>\n",
       "      <td>92.0 ± 7.48</td>\n",
       "      <td>92.92 ± 5.04</td>\n",
       "    </tr>\n",
       "    <tr>\n",
       "      <th>Naive Bayes</th>\n",
       "      <td>92.22 ± 5.67</td>\n",
       "      <td>94.85 ± 6.75</td>\n",
       "      <td>92.0 ± 11.66</td>\n",
       "      <td>92.65 ± 5.9</td>\n",
       "    </tr>\n",
       "    <tr>\n",
       "      <th>K-Nearest Neighbor</th>\n",
       "      <td>93.33 ± 6.48</td>\n",
       "      <td>94.55 ± 7.27</td>\n",
       "      <td>94.0 ± 8.0</td>\n",
       "      <td>93.97 ± 5.8</td>\n",
       "    </tr>\n",
       "    <tr>\n",
       "      <th>Decision Trees</th>\n",
       "      <td>93.33 ± 8.31</td>\n",
       "      <td>95.56 ± 5.44</td>\n",
       "      <td>90.0 ± 8.94</td>\n",
       "      <td>92.73 ± 7.14</td>\n",
       "    </tr>\n",
       "    <tr>\n",
       "      <th>Random Forest</th>\n",
       "      <td>97.78 ± 4.44</td>\n",
       "      <td>97.78 ± 4.0</td>\n",
       "      <td>94.0 ± 8.0</td>\n",
       "      <td>97.05 ± 3.98</td>\n",
       "    </tr>\n",
       "  </tbody>\n",
       "</table>\n",
       "</div>"
      ],
      "text/plain": [
       "                             Accuracy     Precision        Recall  \\\n",
       "Logistic Regression      92.22 ± 6.67    98.0 ± 4.0  88.0 ± 11.66   \n",
       "Support Vector Machines  92.22 ± 5.67  94.55 ± 7.27   92.0 ± 7.48   \n",
       "Naive Bayes              92.22 ± 5.67  94.85 ± 6.75  92.0 ± 11.66   \n",
       "K-Nearest Neighbor       93.33 ± 6.48  94.55 ± 7.27    94.0 ± 8.0   \n",
       "Decision Trees           93.33 ± 8.31  95.56 ± 5.44   90.0 ± 8.94   \n",
       "Random Forest            97.78 ± 4.44   97.78 ± 4.0    94.0 ± 8.0   \n",
       "\n",
       "                             F1 Score  \n",
       "Logistic Regression      92.25 ± 6.85  \n",
       "Support Vector Machines  92.92 ± 5.04  \n",
       "Naive Bayes               92.65 ± 5.9  \n",
       "K-Nearest Neighbor        93.97 ± 5.8  \n",
       "Decision Trees           92.73 ± 7.14  \n",
       "Random Forest            97.05 ± 3.98  "
      ]
     },
     "execution_count": 70,
     "metadata": {},
     "output_type": "execute_result"
    }
   ],
   "source": [
    "full_10_features"
   ]
  },
  {
   "cell_type": "code",
   "execution_count": 34,
   "id": "fa4dc10f",
   "metadata": {},
   "outputs": [],
   "source": [
    "# Generate dataframe for accuracy with highest accuracy value from each set of features\n",
    "features =['10 Features','20 Features','30 Features','40 Features', '50 Features']\n",
    "model = [performance_10_features['Accuracy'].idxmax(), performance_20_features['Accuracy'].idxmax(), performance_30_features['Accuracy'].idxmax(), performance_40_features['Accuracy'].idxmax(), performance_50_features['Accuracy'].idxmax()]\n",
    "accuracy = [performance_10_features['Accuracy'].max(), performance_20_features['Accuracy'].max(),performance_30_features['Accuracy'].max(),performance_40_features['Accuracy'].max(),performance_50_features['Accuracy'].max()]\n",
    "\n",
    "accuracy_df = pd.DataFrame({'Model':model, 'Accuracy':accuracy}, index=features)\n",
    "accuracy_df.Accuracy = accuracy_df.Accuracy.round(2)"
   ]
  },
  {
   "cell_type": "code",
   "execution_count": 35,
   "id": "27275249",
   "metadata": {},
   "outputs": [],
   "source": [
    "# Import 'tabulate' library\n",
    "from tabulate import tabulate"
   ]
  },
  {
   "cell_type": "code",
   "execution_count": 36,
   "id": "5178af92",
   "metadata": {},
   "outputs": [
    {
     "name": "stdout",
     "output_type": "stream",
     "text": [
      "Accuracy Table\n",
      "\n",
      "╒═════════════╤═════════════════════════╤════════════╕\n",
      "│             │ Model                   │   Accuracy │\n",
      "╞═════════════╪═════════════════════════╪════════════╡\n",
      "│ 50 Features │ Support Vector Machines │      97.78 │\n",
      "├─────────────┼─────────────────────────┼────────────┤\n",
      "│ 40 Features │ Support Vector Machines │      98.89 │\n",
      "├─────────────┼─────────────────────────┼────────────┤\n",
      "│ 30 Features │ Support Vector Machines │      96.67 │\n",
      "├─────────────┼─────────────────────────┼────────────┤\n",
      "│ 20 Features │ Random Forest           │      97.78 │\n",
      "├─────────────┼─────────────────────────┼────────────┤\n",
      "│ 10 Features │ Random Forest           │      97.78 │\n",
      "╘═════════════╧═════════════════════════╧════════════╛\n"
     ]
    }
   ],
   "source": [
    "# Tabulating accuracy table\n",
    "print('Accuracy Table\\n')\n",
    "print(tabulate(accuracy_df[::-1], headers = accuracy_df.columns, tablefmt = 'fancy_grid'))"
   ]
  },
  {
   "cell_type": "code",
   "execution_count": 37,
   "id": "36351119",
   "metadata": {},
   "outputs": [
    {
     "data": {
      "text/plain": [
       "<Figure size 432x288 with 0 Axes>"
      ]
     },
     "metadata": {},
     "output_type": "display_data"
    },
    {
     "data": {
      "image/png": "[encoded data removed]",
      "text/plain": [
       "<Figure size 720x216 with 1 Axes>"
      ]
     },
     "metadata": {
      "needs_background": "light"
     },
     "output_type": "display_data"
    }
   ],
   "source": [
    "# Plotting accuracy chart\n",
    "fig = plt.figure()\n",
    "ax = accuracy_df.plot.barh()\n",
    "ax.set_axisbelow(True)\n",
    "ax.grid(color='gray', linestyle='dashed')\n",
    "ax.set_title('Accuracy According to Selected Features Sets', fontsize=20)\n",
    "ax.set_xlabel('Accuracy', fontsize=15)\n",
    "ax.get_legend().remove()\n",
    "plt.gcf().set_size_inches(10, 3)\n",
    "plt.show()"
   ]
  },
  {
   "cell_type": "code",
   "execution_count": 38,
   "id": "4b0ebb4a",
   "metadata": {},
   "outputs": [],
   "source": [
    "# Generate dataframe for recall with highest recall value from each set of features\n",
    "model = [performance_10_features['Recall'].idxmax(), performance_20_features['Recall'].idxmax(), performance_30_features['Recall'].idxmax(), performance_40_features['Recall'].idxmax(), performance_50_features['Recall'].idxmax()]\n",
    "recall = [performance_10_features['Recall'].max(), performance_20_features['Recall'].max(),performance_30_features['Recall'].max(),performance_40_features['Recall'].max(),performance_50_features['Recall'].max()]\n",
    "\n",
    "recall_df = pd.DataFrame({'Model':model, 'Recall':recall}, index=features)\n",
    "recall_df.Recall = recall_df.Recall.round(2)"
   ]
  },
  {
   "cell_type": "code",
   "execution_count": 39,
   "id": "6822b685",
   "metadata": {},
   "outputs": [
    {
     "name": "stdout",
     "output_type": "stream",
     "text": [
      "Recall Table\n",
      "\n",
      "╒═════════════╤═════════════════════════╤══════════╕\n",
      "│             │ Model                   │   Recall │\n",
      "╞═════════════╪═════════════════════════╪══════════╡\n",
      "│ 50 Features │ Support Vector Machines │       98 │\n",
      "├─────────────┼─────────────────────────┼──────────┤\n",
      "│ 40 Features │ Support Vector Machines │       98 │\n",
      "├─────────────┼─────────────────────────┼──────────┤\n",
      "│ 30 Features │ Random Forest           │       96 │\n",
      "├─────────────┼─────────────────────────┼──────────┤\n",
      "│ 20 Features │ Random Forest           │       96 │\n",
      "├─────────────┼─────────────────────────┼──────────┤\n",
      "│ 10 Features │ K-Nearest Neighbor      │       94 │\n",
      "╘═════════════╧═════════════════════════╧══════════╛\n"
     ]
    }
   ],
   "source": [
    "# Tabulating accuracy table\n",
    "print('Recall Table\\n')\n",
    "print(tabulate(recall_df[::-1], headers = recall_df.columns, tablefmt = 'fancy_grid'))"
   ]
  },
  {
   "cell_type": "code",
   "execution_count": 40,
   "id": "4f82fa16",
   "metadata": {},
   "outputs": [
    {
     "data": {
      "text/plain": [
       "<Figure size 432x288 with 0 Axes>"
      ]
     },
     "metadata": {},
     "output_type": "display_data"
    },
    {
     "data": {
      "image/png": "[encoded data removed]",
      "text/plain": [
       "<Figure size 720x216 with 1 Axes>"
      ]
     },
     "metadata": {
      "needs_background": "light"
     },
     "output_type": "display_data"
    }
   ],
   "source": [
    "# Plotting recall chart\n",
    "fig = plt.figure()\n",
    "ax = recall_df.plot.barh()\n",
    "ax.set_axisbelow(True)\n",
    "ax.grid(color='gray', linestyle='dashed')\n",
    "ax.set_title('Recall According to Selected Features Sets\\n', fontsize=20)\n",
    "ax.set_xlabel('Recall', fontsize=15)\n",
    "ax.get_legend().remove()\n",
    "plt.gcf().set_size_inches(10, 3)\n",
    "plt.show()"
   ]
  },
  {
   "cell_type": "code",
   "execution_count": 41,
   "id": "4697ea0d",
   "metadata": {},
   "outputs": [],
   "source": [
    "# Merging accuracy and recall dataframes\n",
    "feature_performance = accuracy_df.merge(recall_df, how='outer', left_index=True, right_index=True)"
   ]
  },
  {
   "cell_type": "code",
   "execution_count": 42,
   "id": "f9c387d2",
   "metadata": {},
   "outputs": [
    {
     "name": "stdout",
     "output_type": "stream",
     "text": [
      "Performance Table\n",
      "\n",
      "╒════════════╤════════════════╤══════════════╕\n",
      "│   Features │   Max Accuracy │   Max Recall │\n",
      "╞════════════╪════════════════╪══════════════╡\n",
      "│         10 │          97.78 │           98 │\n",
      "├────────────┼────────────────┼──────────────┤\n",
      "│         20 │          98.89 │           98 │\n",
      "├────────────┼────────────────┼──────────────┤\n",
      "│         30 │          96.67 │           96 │\n",
      "├────────────┼────────────────┼──────────────┤\n",
      "│         40 │          97.78 │           96 │\n",
      "├────────────┼────────────────┼──────────────┤\n",
      "│         50 │          97.78 │           94 │\n",
      "╘════════════╧════════════════╧══════════════╛\n"
     ]
    }
   ],
   "source": [
    "# Tabulating max performance table\n",
    "feature_performance['Features'] = ['50', '40', '30', '20', '10']\n",
    "feature_performance = feature_performance[['Features', 'Accuracy', 'Recall']]\n",
    "feature_performance.rename(columns = {'Accuracy':'Max Accuracy', 'Recall':'Max Recall'}, inplace = True)\n",
    "print('Performance Table\\n')\n",
    "print(tabulate(feature_performance[::-1], headers = feature_performance.columns, tablefmt = 'fancy_grid',  showindex = False))"
   ]
  },
  {
   "cell_type": "code",
   "execution_count": 43,
   "id": "d3b57fc7",
   "metadata": {},
   "outputs": [
    {
     "data": {
      "text/plain": [
       "Text(0, 0.5, 'Performance')"
      ]
     },
     "execution_count": 43,
     "metadata": {},
     "output_type": "execute_result"
    },
    {
     "data": {
      "image/png": "[encoded data removed]",
      "text/plain": [
       "<Figure size 432x432 with 1 Axes>"
      ]
     },
     "metadata": {
      "needs_background": "light"
     },
     "output_type": "display_data"
    }
   ],
   "source": [
    "# Plot max performance of each model \n",
    "ax = feature_performance.plot(grid=True, figsize=(6,6), x='Features')\n",
    "ax.set_ylim(75, 102)\n",
    "ax.locator_params(axis='x', nbins=10)\n",
    "ax.legend(loc='lower left')\n",
    "ax.set_ylabel('Performance')"
   ]
  },
  {
   "cell_type": "code",
   "execution_count": 44,
   "id": "2bb5e3aa",
   "metadata": {},
   "outputs": [],
   "source": [
    "# Get the mean of all accuracy values given by each model\n",
    "LR_values =[performance_10_features.at['Logistic Regression', 'Accuracy'],\n",
    "            performance_20_features.at['Logistic Regression', 'Accuracy'],\n",
    "            performance_30_features.at['Logistic Regression', 'Accuracy'],\n",
    "            performance_40_features.at['Logistic Regression', 'Accuracy'],\n",
    "            performance_50_features.at['Logistic Regression', 'Accuracy']]\n",
    "LR_mean = np.mean(LR_values)\n",
    "\n",
    "SVM_values =[performance_10_features.at['Support Vector Machines', 'Accuracy'],\n",
    "             performance_20_features.at['Support Vector Machines', 'Accuracy'],\n",
    "             performance_30_features.at['Support Vector Machines', 'Accuracy'],\n",
    "             performance_40_features.at['Support Vector Machines', 'Accuracy'],\n",
    "             performance_50_features.at['Support Vector Machines', 'Accuracy']]\n",
    "SVM_mean = np.mean(SVM_values)\n",
    "\n",
    "NB_values =[performance_10_features.at['Naive Bayes', 'Accuracy'],\n",
    "            performance_20_features.at['Naive Bayes', 'Accuracy'],\n",
    "            performance_30_features.at['Naive Bayes', 'Accuracy'],\n",
    "            performance_40_features.at['Naive Bayes', 'Accuracy'],\n",
    "            performance_50_features.at['Naive Bayes', 'Accuracy']]\n",
    "NB_mean = np.mean(NB_values)\n",
    "\n",
    "KNN_values =[performance_10_features.at['K-Nearest Neighbor', 'Accuracy'],\n",
    "             performance_20_features.at['K-Nearest Neighbor', 'Accuracy'],\n",
    "             performance_30_features.at['K-Nearest Neighbor', 'Accuracy'],\n",
    "             performance_40_features.at['K-Nearest Neighbor', 'Accuracy'],\n",
    "             performance_50_features.at['K-Nearest Neighbor', 'Accuracy']]\n",
    "KNN_mean = np.mean(KNN_values)\n",
    "\n",
    "DT_values =[performance_10_features.at['Decision Trees', 'Accuracy'],\n",
    "            performance_20_features.at['Decision Trees', 'Accuracy'],\n",
    "            performance_30_features.at['Decision Trees', 'Accuracy'],\n",
    "            performance_40_features.at['Decision Trees', 'Accuracy'],\n",
    "            performance_50_features.at['Decision Trees', 'Accuracy']]\n",
    "DT_mean = np.mean(DT_values)\n",
    "\n",
    "RF_values =[performance_10_features.at['Random Forest', 'Accuracy'],\n",
    "            performance_20_features.at['Random Forest', 'Accuracy'],\n",
    "            performance_30_features.at['Random Forest', 'Accuracy'],\n",
    "            performance_40_features.at['Random Forest', 'Accuracy'],\n",
    "            performance_50_features.at['Random Forest', 'Accuracy']]\n",
    "RF_mean = np.mean(RF_values)"
   ]
  },
  {
   "cell_type": "code",
   "execution_count": 45,
   "id": "6ecaf35d",
   "metadata": {},
   "outputs": [],
   "source": [
    "# Generate dataframe to store model performance\n",
    "model = ['Logistic Regression', 'Support Vector Machines', 'Naive Bayes', 'K-Nearest Neighbor', 'Decision Trees', 'Random Forest']\n",
    "accuracy_value = [LR_mean, SVM_mean, NB_mean, KNN_mean, DT_mean, RF_mean]\n",
    "model_performance_acc = pd.DataFrame({'Model': model, 'Mean Accuracy':accuracy_value})"
   ]
  },
  {
   "cell_type": "code",
   "execution_count": 46,
   "id": "890336f5",
   "metadata": {},
   "outputs": [
    {
     "name": "stdout",
     "output_type": "stream",
     "text": [
      "Performance Table\n",
      "\n",
      "╒═════════════════════════╤═════════════════╕\n",
      "│ Model                   │   Mean Accuracy │\n",
      "╞═════════════════════════╪═════════════════╡\n",
      "│ Random Forest           │         96.4444 │\n",
      "├─────────────────────────┼─────────────────┤\n",
      "│ Decision Trees          │         91.5556 │\n",
      "├─────────────────────────┼─────────────────┤\n",
      "│ K-Nearest Neighbor      │         94.6667 │\n",
      "├─────────────────────────┼─────────────────┤\n",
      "│ Naive Bayes             │         90.6667 │\n",
      "├─────────────────────────┼─────────────────┤\n",
      "│ Support Vector Machines │         96.2222 │\n",
      "├─────────────────────────┼─────────────────┤\n",
      "│ Logistic Regression     │         94.2222 │\n",
      "╘═════════════════════════╧═════════════════╛\n"
     ]
    }
   ],
   "source": [
    "# Tabulating mean accuracy table\n",
    "print('Performance Table\\n')\n",
    "print(tabulate(model_performance_acc[::-1], headers = model_performance_acc.columns, tablefmt = 'fancy_grid', showindex = False))"
   ]
  },
  {
   "cell_type": "code",
   "execution_count": 47,
   "id": "6196c557",
   "metadata": {},
   "outputs": [
    {
     "data": {
      "text/plain": [
       "<Figure size 432x288 with 0 Axes>"
      ]
     },
     "metadata": {},
     "output_type": "display_data"
    },
    {
     "data": {
      "image/png": "[encoded data removed]",
      "text/plain": [
       "<Figure size 720x288 with 1 Axes>"
      ]
     },
     "metadata": {
      "needs_background": "light"
     },
     "output_type": "display_data"
    }
   ],
   "source": [
    "# Plotting mean accuracy chart\n",
    "fig = plt.figure()\n",
    "ax = model_performance_acc.plot.barh()\n",
    "ax.set_axisbelow(True)\n",
    "ax.grid(color='gray', linestyle='dashed')\n",
    "ax.set_title('Mean Accuracy of Machine Learning Models\\n', fontsize=20)\n",
    "ax.set_xlabel('Mean Accuracy', fontsize=15)\n",
    "ax.set_ylabel('Machine Learning Model', fontsize=15)\n",
    "ax.set_yticklabels(['LR', 'SVM', 'NB', 'KNN', 'DT', 'RF'], rotation = 'horizontal')\n",
    "ax.get_legend().remove()\n",
    "plt.gcf().set_size_inches(10, 4)\n",
    "plt.show()"
   ]
  },
  {
   "cell_type": "code",
   "execution_count": 48,
   "id": "9db66921",
   "metadata": {},
   "outputs": [],
   "source": [
    "# Get the mean of all recall values given by each model\n",
    "LR_values =[performance_10_features.at['Logistic Regression', 'Recall'],\n",
    "            performance_20_features.at['Logistic Regression', 'Recall'],\n",
    "            performance_30_features.at['Logistic Regression', 'Recall'],\n",
    "            performance_40_features.at['Logistic Regression', 'Recall'],\n",
    "            performance_50_features.at['Logistic Regression', 'Recall']]\n",
    "LR_mean = np.mean(LR_values)\n",
    "\n",
    "SVM_values =[performance_10_features.at['Support Vector Machines', 'Recall'],\n",
    "             performance_20_features.at['Support Vector Machines', 'Recall'],\n",
    "             performance_30_features.at['Support Vector Machines', 'Recall'],\n",
    "             performance_40_features.at['Support Vector Machines', 'Recall'],\n",
    "             performance_50_features.at['Support Vector Machines', 'Recall']]\n",
    "SVM_mean = np.mean(SVM_values)\n",
    "\n",
    "NB_values =[performance_10_features.at['Naive Bayes', 'Recall'],\n",
    "            performance_20_features.at['Naive Bayes', 'Recall'],\n",
    "            performance_30_features.at['Naive Bayes', 'Recall'],\n",
    "            performance_40_features.at['Naive Bayes', 'Recall'],\n",
    "            performance_50_features.at['Naive Bayes', 'Recall']]\n",
    "NB_mean = np.mean(NB_values)\n",
    "\n",
    "KNN_values =[performance_10_features.at['K-Nearest Neighbor', 'Recall'],\n",
    "             performance_20_features.at['K-Nearest Neighbor', 'Recall'],\n",
    "             performance_30_features.at['K-Nearest Neighbor', 'Recall'],\n",
    "             performance_40_features.at['K-Nearest Neighbor', 'Recall'],\n",
    "             performance_50_features.at['K-Nearest Neighbor', 'Recall']]\n",
    "KNN_mean = np.mean(KNN_values)\n",
    "\n",
    "DT_values =[performance_10_features.at['Decision Trees', 'Recall'],\n",
    "            performance_20_features.at['Decision Trees', 'Recall'],\n",
    "            performance_30_features.at['Decision Trees', 'Recall'],\n",
    "            performance_40_features.at['Decision Trees', 'Recall'],\n",
    "            performance_50_features.at['Decision Trees', 'Recall']]\n",
    "DT_mean = np.mean(DT_values)\n",
    "\n",
    "RF_values =[performance_10_features.at['Random Forest', 'Recall'],\n",
    "            performance_20_features.at['Random Forest', 'Recall'],\n",
    "            performance_30_features.at['Random Forest', 'Recall'],\n",
    "            performance_40_features.at['Random Forest', 'Recall'],\n",
    "            performance_50_features.at['Random Forest', 'Recall']]\n",
    "RF_mean = np.mean(RF_values)"
   ]
  },
  {
   "cell_type": "code",
   "execution_count": 49,
   "id": "0809bafd",
   "metadata": {},
   "outputs": [],
   "source": [
    "# Generate dataframe to store model performance\n",
    "model = ['Logistic Regression', 'Support Vector Machines', 'Naive Bayes', 'K-Nearest Neighbor', 'Decision Trees', 'Random Forest']\n",
    "recall_value = [LR_mean, SVM_mean, NB_mean, KNN_mean, DT_mean, RF_mean]\n",
    "model_performance_r = pd.DataFrame({'Model': model, 'Mean Recall':recall_value})"
   ]
  },
  {
   "cell_type": "code",
   "execution_count": 50,
   "id": "68f6b6da",
   "metadata": {},
   "outputs": [
    {
     "name": "stdout",
     "output_type": "stream",
     "text": [
      "Performance Table\n",
      "\n",
      "╒═════════════════════════╤═══════════════╕\n",
      "│ Model                   │   Mean Recall │\n",
      "╞═════════════════════════╪═══════════════╡\n",
      "│ Random Forest           │          94.4 │\n",
      "├─────────────────────────┼───────────────┤\n",
      "│ Decision Trees          │          88.4 │\n",
      "├─────────────────────────┼───────────────┤\n",
      "│ K-Nearest Neighbor      │          92   │\n",
      "├─────────────────────────┼───────────────┤\n",
      "│ Naive Bayes             │          87.2 │\n",
      "├─────────────────────────┼───────────────┤\n",
      "│ Support Vector Machines │          95.2 │\n",
      "├─────────────────────────┼───────────────┤\n",
      "│ Logistic Regression     │          90   │\n",
      "╘═════════════════════════╧═══════════════╛\n"
     ]
    }
   ],
   "source": [
    "# Tabulating mean recall table\n",
    "print('Performance Table\\n')\n",
    "print(tabulate(model_performance_r[::-1], headers = model_performance_r.columns, tablefmt = 'fancy_grid', showindex = False))"
   ]
  },
  {
   "cell_type": "code",
   "execution_count": 51,
   "id": "36f3b206",
   "metadata": {},
   "outputs": [
    {
     "data": {
      "text/plain": [
       "<Figure size 432x288 with 0 Axes>"
      ]
     },
     "metadata": {},
     "output_type": "display_data"
    },
    {
     "data": {
      "image/png": "[encoded data removed]",
      "text/plain": [
       "<Figure size 720x288 with 1 Axes>"
      ]
     },
     "metadata": {
      "needs_background": "light"
     },
     "output_type": "display_data"
    }
   ],
   "source": [
    "# Plotting mean recall chart\n",
    "fig = plt.figure()\n",
    "ax = model_performance_r.plot.barh()\n",
    "ax.set_axisbelow(True)\n",
    "ax.grid(color='gray', linestyle='dashed')\n",
    "ax.set_title('Mean Recall of Machine Learning Models\\n', fontsize=20)\n",
    "ax.set_xlabel('Mean Recall', fontsize=15)\n",
    "ax.set_ylabel('Machine Learning Model', fontsize=15)\n",
    "ax.set_yticklabels(['LR', 'SVM', 'NB', 'KNN', 'DT', 'RF'], rotation = 'horizontal')\n",
    "ax.get_legend().remove()\n",
    "plt.gcf().set_size_inches(10, 4)\n",
    "plt.show()"
   ]
  },
  {
   "cell_type": "code",
   "execution_count": 52,
   "id": "11ebd0b7",
   "metadata": {},
   "outputs": [],
   "source": [
    "# Merging accuracy and recall dataframes\n",
    "model_performance = model_performance_acc.merge(model_performance_r, on='Model', how='outer')"
   ]
  },
  {
   "cell_type": "code",
   "execution_count": 53,
   "id": "43edcf6a",
   "metadata": {},
   "outputs": [
    {
     "name": "stdout",
     "output_type": "stream",
     "text": [
      "Performance Table\n",
      "\n",
      "╒═════════════════════════╤═════════════════╤═══════════════╕\n",
      "│ Model                   │   Mean Accuracy │   Mean Recall │\n",
      "╞═════════════════════════╪═════════════════╪═══════════════╡\n",
      "│ Random Forest           │         96.4444 │          94.4 │\n",
      "├─────────────────────────┼─────────────────┼───────────────┤\n",
      "│ Decision Trees          │         91.5556 │          88.4 │\n",
      "├─────────────────────────┼─────────────────┼───────────────┤\n",
      "│ K-Nearest Neighbor      │         94.6667 │          92   │\n",
      "├─────────────────────────┼─────────────────┼───────────────┤\n",
      "│ Naive Bayes             │         90.6667 │          87.2 │\n",
      "├─────────────────────────┼─────────────────┼───────────────┤\n",
      "│ Support Vector Machines │         96.2222 │          95.2 │\n",
      "├─────────────────────────┼─────────────────┼───────────────┤\n",
      "│ Logistic Regression     │         94.2222 │          90   │\n",
      "╘═════════════════════════╧═════════════════╧═══════════════╛\n"
     ]
    }
   ],
   "source": [
    "# Tabulating mean performance table\n",
    "print('Performance Table\\n')\n",
    "print(tabulate(model_performance[::-1], headers = model_performance.columns, tablefmt = 'fancy_grid', showindex = False))"
   ]
  },
  {
   "cell_type": "code",
   "execution_count": 54,
   "id": "1e8aac8a",
   "metadata": {
    "scrolled": true
   },
   "outputs": [
    {
     "data": {
      "text/plain": [
       "<Figure size 432x288 with 0 Axes>"
      ]
     },
     "metadata": {},
     "output_type": "display_data"
    },
    {
     "data": {
      "image/png": "[encoded data removed]",
      "text/plain": [
       "<Figure size 720x288 with 1 Axes>"
      ]
     },
     "metadata": {
      "needs_background": "light"
     },
     "output_type": "display_data"
    }
   ],
   "source": [
    "# Plotting performcance chart\n",
    "fig = plt.figure()\n",
    "ax = model_performance.plot.barh()\n",
    "ax.set_axisbelow(True)\n",
    "ax.grid(color='gray', linestyle='dashed')\n",
    "ax.set_title('Mean Performance of Machine Learning Models\\n', fontsize=20)\n",
    "ax.set_xlabel('Mean Performance', fontsize=15)\n",
    "ax.set_ylabel('Machine Learning Model', fontsize=15)\n",
    "ax.set_yticklabels(['LR', 'SVM', 'NB', 'KNN', 'DT', 'RF'], rotation = 'horizontal')\n",
    "ax.legend(bbox_to_anchor=(1, 1), prop={'size': 12})\n",
    "plt.gcf().set_size_inches(10, 4)\n",
    "plt.show()"
   ]
  },
  {
   "cell_type": "code",
   "execution_count": 55,
   "id": "37464099",
   "metadata": {},
   "outputs": [],
   "source": [
    "# Get the max of all accuracy values given by each model\n",
    "LR_values =[performance_10_features.at['Logistic Regression', 'Accuracy'],\n",
    "            performance_20_features.at['Logistic Regression', 'Accuracy'],\n",
    "            performance_30_features.at['Logistic Regression', 'Accuracy'],\n",
    "            performance_40_features.at['Logistic Regression', 'Accuracy'],\n",
    "            performance_50_features.at['Logistic Regression', 'Accuracy']]\n",
    "LR_max = np.max(LR_values)\n",
    "\n",
    "SVM_values =[performance_10_features.at['Support Vector Machines', 'Accuracy'],\n",
    "             performance_20_features.at['Support Vector Machines', 'Accuracy'],\n",
    "             performance_30_features.at['Support Vector Machines', 'Accuracy'],\n",
    "             performance_40_features.at['Support Vector Machines', 'Accuracy'],\n",
    "             performance_50_features.at['Support Vector Machines', 'Accuracy']]\n",
    "SVM_max = np.max(SVM_values)\n",
    "\n",
    "NB_values =[performance_10_features.at['Naive Bayes', 'Accuracy'],\n",
    "            performance_20_features.at['Naive Bayes', 'Accuracy'],\n",
    "            performance_30_features.at['Naive Bayes', 'Accuracy'],\n",
    "            performance_40_features.at['Naive Bayes', 'Accuracy'],\n",
    "            performance_50_features.at['Naive Bayes', 'Accuracy']]\n",
    "NB_max = np.max(NB_values)\n",
    "\n",
    "KNN_values =[performance_10_features.at['K-Nearest Neighbor', 'Accuracy'],\n",
    "             performance_20_features.at['K-Nearest Neighbor', 'Accuracy'],\n",
    "             performance_30_features.at['K-Nearest Neighbor', 'Accuracy'],\n",
    "             performance_40_features.at['K-Nearest Neighbor', 'Accuracy'],\n",
    "             performance_50_features.at['K-Nearest Neighbor', 'Accuracy']]\n",
    "KNN_max = np.max(KNN_values)\n",
    "\n",
    "DT_values =[performance_10_features.at['Decision Trees', 'Accuracy'],\n",
    "            performance_20_features.at['Decision Trees', 'Accuracy'],\n",
    "            performance_30_features.at['Decision Trees', 'Accuracy'],\n",
    "            performance_40_features.at['Decision Trees', 'Accuracy'],\n",
    "            performance_50_features.at['Decision Trees', 'Accuracy']]\n",
    "DT_max = np.max(DT_values)\n",
    "\n",
    "RF_values =[performance_10_features.at['Random Forest', 'Accuracy'],\n",
    "            performance_20_features.at['Random Forest', 'Accuracy'],\n",
    "            performance_30_features.at['Random Forest', 'Accuracy'],\n",
    "            performance_40_features.at['Random Forest', 'Accuracy'],\n",
    "            performance_50_features.at['Random Forest', 'Accuracy']]\n",
    "RF_max = np.max(RF_values)"
   ]
  },
  {
   "cell_type": "code",
   "execution_count": 56,
   "id": "48fb4db8",
   "metadata": {},
   "outputs": [],
   "source": [
    "# Generate dataframe to store model performance\n",
    "max_accuracy_value = [LR_max, SVM_max, NB_max, KNN_max, DT_max, RF_max]\n",
    "model_performance_max_acc = pd.DataFrame({'Model': model, 'Max Accuracy':max_accuracy_value})"
   ]
  },
  {
   "cell_type": "code",
   "execution_count": 57,
   "id": "67bc8666",
   "metadata": {},
   "outputs": [
    {
     "name": "stdout",
     "output_type": "stream",
     "text": [
      "Performance Table\n",
      "\n",
      "╒═════════════════════════╤════════════════╕\n",
      "│ Model                   │   Max Accuracy │\n",
      "╞═════════════════════════╪════════════════╡\n",
      "│ Random Forest           │        97.7778 │\n",
      "├─────────────────────────┼────────────────┤\n",
      "│ Decision Trees          │        93.3333 │\n",
      "├─────────────────────────┼────────────────┤\n",
      "│ K-Nearest Neighbor      │        96.6667 │\n",
      "├─────────────────────────┼────────────────┤\n",
      "│ Naive Bayes             │        92.2222 │\n",
      "├─────────────────────────┼────────────────┤\n",
      "│ Support Vector Machines │        98.8889 │\n",
      "├─────────────────────────┼────────────────┤\n",
      "│ Logistic Regression     │        95.5556 │\n",
      "╘═════════════════════════╧════════════════╛\n"
     ]
    }
   ],
   "source": [
    "# Tabulating max accuracy table\n",
    "print('Performance Table\\n')\n",
    "print(tabulate(model_performance_max_acc[::-1], headers = model_performance_max_acc.columns, tablefmt = 'fancy_grid', showindex = False))"
   ]
  },
  {
   "cell_type": "code",
   "execution_count": 58,
   "id": "b2701b4d",
   "metadata": {},
   "outputs": [],
   "source": [
    "# Get the max of all recall values given by each model\n",
    "LR_values =[performance_10_features.at['Logistic Regression', 'Recall'],\n",
    "            performance_20_features.at['Logistic Regression', 'Recall'],\n",
    "            performance_30_features.at['Logistic Regression', 'Recall'],\n",
    "            performance_40_features.at['Logistic Regression', 'Recall'],\n",
    "            performance_50_features.at['Logistic Regression', 'Recall']]\n",
    "LR_max = np.max(LR_values)\n",
    "\n",
    "SVM_values =[performance_10_features.at['Support Vector Machines', 'Recall'],\n",
    "             performance_20_features.at['Support Vector Machines', 'Recall'],\n",
    "             performance_30_features.at['Support Vector Machines', 'Recall'],\n",
    "             performance_40_features.at['Support Vector Machines', 'Recall'],\n",
    "             performance_50_features.at['Support Vector Machines', 'Recall']]\n",
    "SVM_max = np.max(SVM_values)\n",
    "\n",
    "NB_values =[performance_10_features.at['Naive Bayes', 'Recall'],\n",
    "            performance_20_features.at['Naive Bayes', 'Recall'],\n",
    "            performance_30_features.at['Naive Bayes', 'Recall'],\n",
    "            performance_40_features.at['Naive Bayes', 'Recall'],\n",
    "            performance_50_features.at['Naive Bayes', 'Recall']]\n",
    "NB_max = np.max(NB_values)\n",
    "\n",
    "KNN_values =[performance_10_features.at['K-Nearest Neighbor', 'Recall'],\n",
    "             performance_20_features.at['K-Nearest Neighbor', 'Recall'],\n",
    "             performance_30_features.at['K-Nearest Neighbor', 'Recall'],\n",
    "             performance_40_features.at['K-Nearest Neighbor', 'Recall'],\n",
    "             performance_50_features.at['K-Nearest Neighbor', 'Recall']]\n",
    "KNN_max = np.max(KNN_values)\n",
    "\n",
    "DT_values =[performance_10_features.at['Decision Trees', 'Recall'],\n",
    "            performance_20_features.at['Decision Trees', 'Recall'],\n",
    "            performance_30_features.at['Decision Trees', 'Recall'],\n",
    "            performance_40_features.at['Decision Trees', 'Recall'],\n",
    "            performance_50_features.at['Decision Trees', 'Recall']]\n",
    "DT_max = np.max(DT_values)\n",
    "\n",
    "RF_values =[performance_10_features.at['Random Forest', 'Recall'],\n",
    "            performance_20_features.at['Random Forest', 'Recall'],\n",
    "            performance_30_features.at['Random Forest', 'Recall'],\n",
    "            performance_40_features.at['Random Forest', 'Recall'],\n",
    "            performance_50_features.at['Random Forest', 'Recall']]\n",
    "RF_max = np.max(RF_values)"
   ]
  },
  {
   "cell_type": "code",
   "execution_count": 59,
   "id": "f43c4db5",
   "metadata": {},
   "outputs": [],
   "source": [
    "# Generate dataframe to store model performance\n",
    "max_recall_value = [LR_max, SVM_max, NB_max, KNN_max, DT_max, RF_max]\n",
    "model_performance_max_rec = pd.DataFrame({'Model': model, 'Max Recall':max_recall_value})"
   ]
  },
  {
   "cell_type": "code",
   "execution_count": 60,
   "id": "de5a7187",
   "metadata": {},
   "outputs": [
    {
     "name": "stdout",
     "output_type": "stream",
     "text": [
      "Performance Table\n",
      "\n",
      "╒═════════════════════════╤══════════════╕\n",
      "│ Model                   │   Max Recall │\n",
      "╞═════════════════════════╪══════════════╡\n",
      "│ Random Forest           │           96 │\n",
      "├─────────────────────────┼──────────────┤\n",
      "│ Decision Trees          │           92 │\n",
      "├─────────────────────────┼──────────────┤\n",
      "│ K-Nearest Neighbor      │           94 │\n",
      "├─────────────────────────┼──────────────┤\n",
      "│ Naive Bayes             │           92 │\n",
      "├─────────────────────────┼──────────────┤\n",
      "│ Support Vector Machines │           98 │\n",
      "├─────────────────────────┼──────────────┤\n",
      "│ Logistic Regression     │           92 │\n",
      "╘═════════════════════════╧══════════════╛\n"
     ]
    }
   ],
   "source": [
    "# Tabulating max recall table\n",
    "print('Performance Table\\n')\n",
    "print(tabulate(model_performance_max_rec[::-1], headers = model_performance_max_rec.columns, tablefmt = 'fancy_grid', showindex = False))"
   ]
  },
  {
   "cell_type": "code",
   "execution_count": 61,
   "id": "c0194f07",
   "metadata": {},
   "outputs": [],
   "source": [
    "# Merging max accuracy and max recall dataframes\n",
    "model_max_performance = model_performance_max_acc.merge(model_performance_max_rec, on='Model', how='outer')"
   ]
  },
  {
   "cell_type": "code",
   "execution_count": 62,
   "id": "07d63dd3",
   "metadata": {},
   "outputs": [
    {
     "name": "stdout",
     "output_type": "stream",
     "text": [
      "Max Performance Table\n",
      "\n",
      "╒═════════════════════════╤════════════════╤══════════════╕\n",
      "│ Model                   │   Max Accuracy │   Max Recall │\n",
      "╞═════════════════════════╪════════════════╪══════════════╡\n",
      "│ Random Forest           │        97.7778 │           96 │\n",
      "├─────────────────────────┼────────────────┼──────────────┤\n",
      "│ Decision Trees          │        93.3333 │           92 │\n",
      "├─────────────────────────┼────────────────┼──────────────┤\n",
      "│ K-Nearest Neighbor      │        96.6667 │           94 │\n",
      "├─────────────────────────┼────────────────┼──────────────┤\n",
      "│ Naive Bayes             │        92.2222 │           92 │\n",
      "├─────────────────────────┼────────────────┼──────────────┤\n",
      "│ Support Vector Machines │        98.8889 │           98 │\n",
      "├─────────────────────────┼────────────────┼──────────────┤\n",
      "│ Logistic Regression     │        95.5556 │           92 │\n",
      "╘═════════════════════════╧════════════════╧══════════════╛\n"
     ]
    }
   ],
   "source": [
    "# Tabulating max performance table\n",
    "print('Max Performance Table\\n')\n",
    "print(tabulate(model_max_performance[::-1], headers = model_max_performance.columns, tablefmt = 'fancy_grid', showindex = False))"
   ]
  },
  {
   "cell_type": "code",
   "execution_count": 63,
   "id": "600461fe",
   "metadata": {},
   "outputs": [
    {
     "data": {
      "text/plain": [
       "(75.0, 102.0)"
      ]
     },
     "execution_count": 63,
     "metadata": {},
     "output_type": "execute_result"
    },
    {
     "data": {
      "image/png": "[encoded data removed]",
      "text/plain": [
       "<Figure size 432x432 with 1 Axes>"
      ]
     },
     "metadata": {
      "needs_background": "light"
     },
     "output_type": "display_data"
    }
   ],
   "source": [
    "# Plot max performance of each model \n",
    "ax = model_max_performance.plot(grid=True, figsize=(6,6))\n",
    "ax.set_xticks(model_max_performance.index)\n",
    "ax.set_xticklabels(['LR', 'SVM', 'NB', 'KNN', 'DT', 'RF'])\n",
    "ax.set_ylabel('Performance')\n",
    "ax.set_xlabel('Machine Learning Model')\n",
    "ax.legend(loc='lower left')\n",
    "ax.set_ylim(75, 102)"
   ]
  },
  {
   "cell_type": "code",
   "execution_count": 64,
   "id": "07f00885",
   "metadata": {},
   "outputs": [
    {
     "name": "stderr",
     "output_type": "stream",
     "text": [
      "C:\\Users\\Supun\\anaconda3\\lib\\site-packages\\sklearn\\cluster\\_kmeans.py:881: UserWarning: KMeans is known to have a memory leak on Windows with MKL, when there are less chunks than available threads. You can avoid it by setting the environment variable OMP_NUM_THREADS=1.\n",
      "  warnings.warn(\n"
     ]
    },
    {
     "data": {
      "image/png": "[encoded data removed]",
      "text/plain": [
       "<Figure size 432x288 with 1 Axes>"
      ]
     },
     "metadata": {
      "needs_background": "light"
     },
     "output_type": "display_data"
    }
   ],
   "source": [
    "# Finding optimal number of clusters using the elbow method  \n",
    "from sklearn.cluster import KMeans  \n",
    "\n",
    "# Initializing the list for the values of WCSS \n",
    "wcss_list= []   \n",
    "  \n",
    "# Using for loop for iterations from 1 to 10.  \n",
    "for i in range(1, 11):  \n",
    "    kmeans = KMeans(n_clusters=i, init='k-means++', random_state= 42)  \n",
    "    kmeans.fit(features_50_X)  \n",
    "    wcss_list.append(kmeans.inertia_)  \n",
    "    \n",
    "plt.plot(range(1, 11), wcss_list)  \n",
    "plt.title('The Elobw Method Graph')  \n",
    "plt.xlabel('Number of clusters(k)')  \n",
    "plt.ylabel('WCSS')  \n",
    "plt.show()  "
   ]
  },
  {
   "cell_type": "code",
   "execution_count": 71,
   "id": "ee3bac25",
   "metadata": {},
   "outputs": [],
   "source": [
    "# Create a excel writer object\n",
    "with pd.ExcelWriter(r'C:\\Users\\Supun\\Desktop\\Research ML\\Results\\Full Results Proteome Dataset ANOVA.xlsx') as writer:\n",
    "    \n",
    "    # Export perfomance of model to excel files\n",
    "    full_50_features.to_excel(writer, sheet_name='50_features')\n",
    "    full_40_features.to_excel(writer, sheet_name='40_features')\n",
    "    full_30_features.to_excel(writer, sheet_name='30_features')\n",
    "    full_20_features.to_excel(writer, sheet_name='20_features')\n",
    "    full_10_features.to_excel(writer, sheet_name='10_features')"
   ]
  },
  {
   "cell_type": "code",
   "execution_count": null,
   "id": "2560bc68",
   "metadata": {},
   "outputs": [],
   "source": []
  }
 ],
 "metadata": {
  "kernelspec": {
   "display_name": "Python 3 (ipykernel)",
   "language": "python",
   "name": "python3"
  },
  "language_info": {
   "codemirror_mode": {
    "name": "ipython",
    "version": 3
   },
   "file_extension": ".py",
   "mimetype": "text/x-python",
   "name": "python",
   "nbconvert_exporter": "python",
   "pygments_lexer": "ipython3",
   "version": "3.9.7"
  }
 },
 "nbformat": 4,
 "nbformat_minor": 5
}
