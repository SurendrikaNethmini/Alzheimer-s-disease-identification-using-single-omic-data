{
 "cells": [
  {
   "cell_type": "code",
   "execution_count": 1,
   "id": "0220f313",
   "metadata": {},
   "outputs": [],
   "source": [
    "# Import 'pandas' library\n",
    "import pandas as pd"
   ]
  },
  {
   "cell_type": "code",
   "execution_count": 2,
   "id": "9d48ce5c",
   "metadata": {},
   "outputs": [],
   "source": [
    "# Import 'numpy' library\n",
    "import numpy as np"
   ]
  },
  {
   "cell_type": "code",
   "execution_count": 3,
   "id": "e59d9cf1",
   "metadata": {},
   "outputs": [],
   "source": [
    "# Load transcriptome dataset to pandas dataframe\n",
    "df = pd.read_csv(r'C:\\Users\\Supun\\Desktop\\Datasets\\Modified Datasets\\Transcriptome Dataset.csv')"
   ]
  },
  {
   "cell_type": "code",
   "execution_count": 4,
   "id": "3c6bc175",
   "metadata": {},
   "outputs": [
    {
     "data": {
      "text/html": [
       "<div>\n",
       "<style scoped>\n",
       "    .dataframe tbody tr th:only-of-type {\n",
       "        vertical-align: middle;\n",
       "    }\n",
       "\n",
       "    .dataframe tbody tr th {\n",
       "        vertical-align: top;\n",
       "    }\n",
       "\n",
       "    .dataframe thead th {\n",
       "        text-align: right;\n",
       "    }\n",
       "</style>\n",
       "<table border=\"1\" class=\"dataframe\">\n",
       "  <thead>\n",
       "    <tr style=\"text-align: right;\">\n",
       "      <th></th>\n",
       "      <th>Unnamed: 0</th>\n",
       "      <th>TARGET</th>\n",
       "      <th>ILMN_1762337</th>\n",
       "      <th>ILMN_2055271</th>\n",
       "      <th>ILMN_1736007</th>\n",
       "      <th>ILMN_2383229</th>\n",
       "      <th>ILMN_1806310</th>\n",
       "      <th>ILMN_1779670</th>\n",
       "      <th>ILMN_1705025</th>\n",
       "      <th>ILMN_1814316</th>\n",
       "      <th>...</th>\n",
       "      <th>ILMN_2348512</th>\n",
       "      <th>ILMN_1743643</th>\n",
       "      <th>ILMN_1794932</th>\n",
       "      <th>ILMN_1723439</th>\n",
       "      <th>ILMN_1656676</th>\n",
       "      <th>ILMN_2371169</th>\n",
       "      <th>ILMN_1701875</th>\n",
       "      <th>ILMN_1786396</th>\n",
       "      <th>ILMN_1653618</th>\n",
       "      <th>ILMN_2137536</th>\n",
       "    </tr>\n",
       "  </thead>\n",
       "  <tbody>\n",
       "    <tr>\n",
       "      <th>0</th>\n",
       "      <td>0</td>\n",
       "      <td>0</td>\n",
       "      <td>6.250487</td>\n",
       "      <td>6.629155</td>\n",
       "      <td>6.237866</td>\n",
       "      <td>6.044737</td>\n",
       "      <td>6.206666</td>\n",
       "      <td>6.250487</td>\n",
       "      <td>6.125470</td>\n",
       "      <td>8.315913</td>\n",
       "      <td>...</td>\n",
       "      <td>6.557572</td>\n",
       "      <td>6.596731</td>\n",
       "      <td>6.317290</td>\n",
       "      <td>6.080668</td>\n",
       "      <td>11.360604</td>\n",
       "      <td>7.181341</td>\n",
       "      <td>9.055721</td>\n",
       "      <td>8.856049</td>\n",
       "      <td>7.568357</td>\n",
       "      <td>8.703117</td>\n",
       "    </tr>\n",
       "    <tr>\n",
       "      <th>1</th>\n",
       "      <td>1</td>\n",
       "      <td>0</td>\n",
       "      <td>6.213403</td>\n",
       "      <td>7.811384</td>\n",
       "      <td>6.055326</td>\n",
       "      <td>6.097212</td>\n",
       "      <td>6.363891</td>\n",
       "      <td>6.217230</td>\n",
       "      <td>6.380510</td>\n",
       "      <td>7.579899</td>\n",
       "      <td>...</td>\n",
       "      <td>6.414877</td>\n",
       "      <td>6.300365</td>\n",
       "      <td>6.258881</td>\n",
       "      <td>6.033340</td>\n",
       "      <td>10.674451</td>\n",
       "      <td>7.348808</td>\n",
       "      <td>9.051958</td>\n",
       "      <td>8.534578</td>\n",
       "      <td>7.145082</td>\n",
       "      <td>8.126596</td>\n",
       "    </tr>\n",
       "    <tr>\n",
       "      <th>2</th>\n",
       "      <td>2</td>\n",
       "      <td>0</td>\n",
       "      <td>6.072612</td>\n",
       "      <td>6.728518</td>\n",
       "      <td>6.234923</td>\n",
       "      <td>6.055573</td>\n",
       "      <td>6.305701</td>\n",
       "      <td>6.176223</td>\n",
       "      <td>6.163069</td>\n",
       "      <td>8.544403</td>\n",
       "      <td>...</td>\n",
       "      <td>6.540391</td>\n",
       "      <td>6.544077</td>\n",
       "      <td>6.212729</td>\n",
       "      <td>6.192897</td>\n",
       "      <td>11.323182</td>\n",
       "      <td>7.328814</td>\n",
       "      <td>9.234449</td>\n",
       "      <td>8.738885</td>\n",
       "      <td>8.106824</td>\n",
       "      <td>8.831392</td>\n",
       "    </tr>\n",
       "    <tr>\n",
       "      <th>3</th>\n",
       "      <td>3</td>\n",
       "      <td>0</td>\n",
       "      <td>6.136687</td>\n",
       "      <td>6.440821</td>\n",
       "      <td>6.218833</td>\n",
       "      <td>6.220438</td>\n",
       "      <td>6.227695</td>\n",
       "      <td>6.195175</td>\n",
       "      <td>6.055975</td>\n",
       "      <td>8.599468</td>\n",
       "      <td>...</td>\n",
       "      <td>6.510822</td>\n",
       "      <td>6.756633</td>\n",
       "      <td>6.267512</td>\n",
       "      <td>6.179123</td>\n",
       "      <td>11.275523</td>\n",
       "      <td>7.087884</td>\n",
       "      <td>8.728555</td>\n",
       "      <td>8.626707</td>\n",
       "      <td>8.176420</td>\n",
       "      <td>8.684191</td>\n",
       "    </tr>\n",
       "    <tr>\n",
       "      <th>4</th>\n",
       "      <td>4</td>\n",
       "      <td>0</td>\n",
       "      <td>6.235316</td>\n",
       "      <td>6.290671</td>\n",
       "      <td>6.210193</td>\n",
       "      <td>6.076194</td>\n",
       "      <td>6.278323</td>\n",
       "      <td>6.193169</td>\n",
       "      <td>6.202457</td>\n",
       "      <td>8.662215</td>\n",
       "      <td>...</td>\n",
       "      <td>6.476036</td>\n",
       "      <td>6.535137</td>\n",
       "      <td>6.316976</td>\n",
       "      <td>6.086432</td>\n",
       "      <td>11.262469</td>\n",
       "      <td>7.020743</td>\n",
       "      <td>8.658100</td>\n",
       "      <td>8.456142</td>\n",
       "      <td>8.106194</td>\n",
       "      <td>8.559834</td>\n",
       "    </tr>\n",
       "  </tbody>\n",
       "</table>\n",
       "<p>5 rows × 42181 columns</p>\n",
       "</div>"
      ],
      "text/plain": [
       "   Unnamed: 0  TARGET  ILMN_1762337  ILMN_2055271  ILMN_1736007  ILMN_2383229  \\\n",
       "0           0       0      6.250487      6.629155      6.237866      6.044737   \n",
       "1           1       0      6.213403      7.811384      6.055326      6.097212   \n",
       "2           2       0      6.072612      6.728518      6.234923      6.055573   \n",
       "3           3       0      6.136687      6.440821      6.218833      6.220438   \n",
       "4           4       0      6.235316      6.290671      6.210193      6.076194   \n",
       "\n",
       "   ILMN_1806310  ILMN_1779670  ILMN_1705025  ILMN_1814316  ...  ILMN_2348512  \\\n",
       "0      6.206666      6.250487      6.125470      8.315913  ...      6.557572   \n",
       "1      6.363891      6.217230      6.380510      7.579899  ...      6.414877   \n",
       "2      6.305701      6.176223      6.163069      8.544403  ...      6.540391   \n",
       "3      6.227695      6.195175      6.055975      8.599468  ...      6.510822   \n",
       "4      6.278323      6.193169      6.202457      8.662215  ...      6.476036   \n",
       "\n",
       "   ILMN_1743643  ILMN_1794932  ILMN_1723439  ILMN_1656676  ILMN_2371169  \\\n",
       "0      6.596731      6.317290      6.080668     11.360604      7.181341   \n",
       "1      6.300365      6.258881      6.033340     10.674451      7.348808   \n",
       "2      6.544077      6.212729      6.192897     11.323182      7.328814   \n",
       "3      6.756633      6.267512      6.179123     11.275523      7.087884   \n",
       "4      6.535137      6.316976      6.086432     11.262469      7.020743   \n",
       "\n",
       "   ILMN_1701875  ILMN_1786396  ILMN_1653618  ILMN_2137536  \n",
       "0      9.055721      8.856049      7.568357      8.703117  \n",
       "1      9.051958      8.534578      7.145082      8.126596  \n",
       "2      9.234449      8.738885      8.106824      8.831392  \n",
       "3      8.728555      8.626707      8.176420      8.684191  \n",
       "4      8.658100      8.456142      8.106194      8.559834  \n",
       "\n",
       "[5 rows x 42181 columns]"
      ]
     },
     "execution_count": 4,
     "metadata": {},
     "output_type": "execute_result"
    }
   ],
   "source": [
    "# Display dataframe\n",
    "df.head()"
   ]
  },
  {
   "cell_type": "code",
   "execution_count": 5,
   "id": "a5d54cda",
   "metadata": {},
   "outputs": [
    {
     "data": {
      "text/plain": [
       "(195, 42181)"
      ]
     },
     "execution_count": 5,
     "metadata": {},
     "output_type": "execute_result"
    }
   ],
   "source": [
    "# Check dataframe shape\n",
    "df.shape"
   ]
  },
  {
   "cell_type": "code",
   "execution_count": 6,
   "id": "ae3ad313",
   "metadata": {},
   "outputs": [
    {
     "data": {
      "text/plain": [
       "0"
      ]
     },
     "execution_count": 6,
     "metadata": {},
     "output_type": "execute_result"
    }
   ],
   "source": [
    "# Checking for null values in dataframe\n",
    "df.isnull().sum().sum()"
   ]
  },
  {
   "cell_type": "code",
   "execution_count": 7,
   "id": "0977d967",
   "metadata": {},
   "outputs": [],
   "source": [
    "# Extracting features set from dataframe\n",
    "X = df.iloc[:,2:]"
   ]
  },
  {
   "cell_type": "code",
   "execution_count": 8,
   "id": "36c96827",
   "metadata": {},
   "outputs": [
    {
     "data": {
      "text/html": [
       "<div>\n",
       "<style scoped>\n",
       "    .dataframe tbody tr th:only-of-type {\n",
       "        vertical-align: middle;\n",
       "    }\n",
       "\n",
       "    .dataframe tbody tr th {\n",
       "        vertical-align: top;\n",
       "    }\n",
       "\n",
       "    .dataframe thead th {\n",
       "        text-align: right;\n",
       "    }\n",
       "</style>\n",
       "<table border=\"1\" class=\"dataframe\">\n",
       "  <thead>\n",
       "    <tr style=\"text-align: right;\">\n",
       "      <th></th>\n",
       "      <th>ILMN_1762337</th>\n",
       "      <th>ILMN_2055271</th>\n",
       "      <th>ILMN_1736007</th>\n",
       "      <th>ILMN_2383229</th>\n",
       "      <th>ILMN_1806310</th>\n",
       "      <th>ILMN_1779670</th>\n",
       "      <th>ILMN_1705025</th>\n",
       "      <th>ILMN_1814316</th>\n",
       "      <th>ILMN_2359168</th>\n",
       "      <th>ILMN_1731507</th>\n",
       "      <th>...</th>\n",
       "      <th>ILMN_2348512</th>\n",
       "      <th>ILMN_1743643</th>\n",
       "      <th>ILMN_1794932</th>\n",
       "      <th>ILMN_1723439</th>\n",
       "      <th>ILMN_1656676</th>\n",
       "      <th>ILMN_2371169</th>\n",
       "      <th>ILMN_1701875</th>\n",
       "      <th>ILMN_1786396</th>\n",
       "      <th>ILMN_1653618</th>\n",
       "      <th>ILMN_2137536</th>\n",
       "    </tr>\n",
       "  </thead>\n",
       "  <tbody>\n",
       "    <tr>\n",
       "      <th>0</th>\n",
       "      <td>6.250487</td>\n",
       "      <td>6.629155</td>\n",
       "      <td>6.237866</td>\n",
       "      <td>6.044737</td>\n",
       "      <td>6.206666</td>\n",
       "      <td>6.250487</td>\n",
       "      <td>6.125470</td>\n",
       "      <td>8.315913</td>\n",
       "      <td>8.274257</td>\n",
       "      <td>7.187185</td>\n",
       "      <td>...</td>\n",
       "      <td>6.557572</td>\n",
       "      <td>6.596731</td>\n",
       "      <td>6.317290</td>\n",
       "      <td>6.080668</td>\n",
       "      <td>11.360604</td>\n",
       "      <td>7.181341</td>\n",
       "      <td>9.055721</td>\n",
       "      <td>8.856049</td>\n",
       "      <td>7.568357</td>\n",
       "      <td>8.703117</td>\n",
       "    </tr>\n",
       "    <tr>\n",
       "      <th>1</th>\n",
       "      <td>6.213403</td>\n",
       "      <td>7.811384</td>\n",
       "      <td>6.055326</td>\n",
       "      <td>6.097212</td>\n",
       "      <td>6.363891</td>\n",
       "      <td>6.217230</td>\n",
       "      <td>6.380510</td>\n",
       "      <td>7.579899</td>\n",
       "      <td>7.504590</td>\n",
       "      <td>6.361856</td>\n",
       "      <td>...</td>\n",
       "      <td>6.414877</td>\n",
       "      <td>6.300365</td>\n",
       "      <td>6.258881</td>\n",
       "      <td>6.033340</td>\n",
       "      <td>10.674451</td>\n",
       "      <td>7.348808</td>\n",
       "      <td>9.051958</td>\n",
       "      <td>8.534578</td>\n",
       "      <td>7.145082</td>\n",
       "      <td>8.126596</td>\n",
       "    </tr>\n",
       "    <tr>\n",
       "      <th>2</th>\n",
       "      <td>6.072612</td>\n",
       "      <td>6.728518</td>\n",
       "      <td>6.234923</td>\n",
       "      <td>6.055573</td>\n",
       "      <td>6.305701</td>\n",
       "      <td>6.176223</td>\n",
       "      <td>6.163069</td>\n",
       "      <td>8.544403</td>\n",
       "      <td>8.463371</td>\n",
       "      <td>7.535209</td>\n",
       "      <td>...</td>\n",
       "      <td>6.540391</td>\n",
       "      <td>6.544077</td>\n",
       "      <td>6.212729</td>\n",
       "      <td>6.192897</td>\n",
       "      <td>11.323182</td>\n",
       "      <td>7.328814</td>\n",
       "      <td>9.234449</td>\n",
       "      <td>8.738885</td>\n",
       "      <td>8.106824</td>\n",
       "      <td>8.831392</td>\n",
       "    </tr>\n",
       "    <tr>\n",
       "      <th>3</th>\n",
       "      <td>6.136687</td>\n",
       "      <td>6.440821</td>\n",
       "      <td>6.218833</td>\n",
       "      <td>6.220438</td>\n",
       "      <td>6.227695</td>\n",
       "      <td>6.195175</td>\n",
       "      <td>6.055975</td>\n",
       "      <td>8.599468</td>\n",
       "      <td>8.474713</td>\n",
       "      <td>7.534324</td>\n",
       "      <td>...</td>\n",
       "      <td>6.510822</td>\n",
       "      <td>6.756633</td>\n",
       "      <td>6.267512</td>\n",
       "      <td>6.179123</td>\n",
       "      <td>11.275523</td>\n",
       "      <td>7.087884</td>\n",
       "      <td>8.728555</td>\n",
       "      <td>8.626707</td>\n",
       "      <td>8.176420</td>\n",
       "      <td>8.684191</td>\n",
       "    </tr>\n",
       "    <tr>\n",
       "      <th>4</th>\n",
       "      <td>6.235316</td>\n",
       "      <td>6.290671</td>\n",
       "      <td>6.210193</td>\n",
       "      <td>6.076194</td>\n",
       "      <td>6.278323</td>\n",
       "      <td>6.193169</td>\n",
       "      <td>6.202457</td>\n",
       "      <td>8.662215</td>\n",
       "      <td>8.562710</td>\n",
       "      <td>7.650545</td>\n",
       "      <td>...</td>\n",
       "      <td>6.476036</td>\n",
       "      <td>6.535137</td>\n",
       "      <td>6.316976</td>\n",
       "      <td>6.086432</td>\n",
       "      <td>11.262469</td>\n",
       "      <td>7.020743</td>\n",
       "      <td>8.658100</td>\n",
       "      <td>8.456142</td>\n",
       "      <td>8.106194</td>\n",
       "      <td>8.559834</td>\n",
       "    </tr>\n",
       "  </tbody>\n",
       "</table>\n",
       "<p>5 rows × 42179 columns</p>\n",
       "</div>"
      ],
      "text/plain": [
       "   ILMN_1762337  ILMN_2055271  ILMN_1736007  ILMN_2383229  ILMN_1806310  \\\n",
       "0      6.250487      6.629155      6.237866      6.044737      6.206666   \n",
       "1      6.213403      7.811384      6.055326      6.097212      6.363891   \n",
       "2      6.072612      6.728518      6.234923      6.055573      6.305701   \n",
       "3      6.136687      6.440821      6.218833      6.220438      6.227695   \n",
       "4      6.235316      6.290671      6.210193      6.076194      6.278323   \n",
       "\n",
       "   ILMN_1779670  ILMN_1705025  ILMN_1814316  ILMN_2359168  ILMN_1731507  ...  \\\n",
       "0      6.250487      6.125470      8.315913      8.274257      7.187185  ...   \n",
       "1      6.217230      6.380510      7.579899      7.504590      6.361856  ...   \n",
       "2      6.176223      6.163069      8.544403      8.463371      7.535209  ...   \n",
       "3      6.195175      6.055975      8.599468      8.474713      7.534324  ...   \n",
       "4      6.193169      6.202457      8.662215      8.562710      7.650545  ...   \n",
       "\n",
       "   ILMN_2348512  ILMN_1743643  ILMN_1794932  ILMN_1723439  ILMN_1656676  \\\n",
       "0      6.557572      6.596731      6.317290      6.080668     11.360604   \n",
       "1      6.414877      6.300365      6.258881      6.033340     10.674451   \n",
       "2      6.540391      6.544077      6.212729      6.192897     11.323182   \n",
       "3      6.510822      6.756633      6.267512      6.179123     11.275523   \n",
       "4      6.476036      6.535137      6.316976      6.086432     11.262469   \n",
       "\n",
       "   ILMN_2371169  ILMN_1701875  ILMN_1786396  ILMN_1653618  ILMN_2137536  \n",
       "0      7.181341      9.055721      8.856049      7.568357      8.703117  \n",
       "1      7.348808      9.051958      8.534578      7.145082      8.126596  \n",
       "2      7.328814      9.234449      8.738885      8.106824      8.831392  \n",
       "3      7.087884      8.728555      8.626707      8.176420      8.684191  \n",
       "4      7.020743      8.658100      8.456142      8.106194      8.559834  \n",
       "\n",
       "[5 rows x 42179 columns]"
      ]
     },
     "execution_count": 8,
     "metadata": {},
     "output_type": "execute_result"
    }
   ],
   "source": [
    "# Display features set\n",
    "X.head()"
   ]
  },
  {
   "cell_type": "code",
   "execution_count": 9,
   "id": "838d3d65",
   "metadata": {},
   "outputs": [
    {
     "name": "stdout",
     "output_type": "stream",
     "text": [
      "<class 'pandas.core.frame.DataFrame'>\n",
      "RangeIndex: 195 entries, 0 to 194\n",
      "Columns: 42179 entries, ILMN_1762337 to ILMN_2137536\n",
      "dtypes: float64(42179)\n",
      "memory usage: 62.8 MB\n"
     ]
    }
   ],
   "source": [
    "# Check data type of all features\n",
    "X.info()"
   ]
  },
  {
   "cell_type": "code",
   "execution_count": 10,
   "id": "5b2626ad",
   "metadata": {},
   "outputs": [
    {
     "name": "stdout",
     "output_type": "stream",
     "text": [
      "Maximum value: 14.1981221816977\n",
      "Minimum value: 5.91358277483513\n"
     ]
    }
   ],
   "source": [
    "# Print maximum value and minimum value in the features set\n",
    "print('Maximum value: ' + str(X.max().max()))\n",
    "print('Minimum value: ' + str(X.min().min()))"
   ]
  },
  {
   "cell_type": "code",
   "execution_count": 11,
   "id": "0919f58d",
   "metadata": {},
   "outputs": [],
   "source": [
    "# Import 'preprocessing' library from 'sklearn' library\n",
    "from sklearn import preprocessing"
   ]
  },
  {
   "cell_type": "code",
   "execution_count": 12,
   "id": "ab7d2ec1",
   "metadata": {},
   "outputs": [],
   "source": [
    "# Normalizing features set (Every feature normalized separately)\n",
    "scaler = preprocessing.MinMaxScaler()\n",
    "headers = X.columns\n",
    "new_X = scaler.fit_transform(X)\n",
    "scaled_X = pd.DataFrame(new_X, columns=headers)"
   ]
  },
  {
   "cell_type": "code",
   "execution_count": 13,
   "id": "5d0a3e03",
   "metadata": {},
   "outputs": [
    {
     "data": {
      "text/html": [
       "<div>\n",
       "<style scoped>\n",
       "    .dataframe tbody tr th:only-of-type {\n",
       "        vertical-align: middle;\n",
       "    }\n",
       "\n",
       "    .dataframe tbody tr th {\n",
       "        vertical-align: top;\n",
       "    }\n",
       "\n",
       "    .dataframe thead th {\n",
       "        text-align: right;\n",
       "    }\n",
       "</style>\n",
       "<table border=\"1\" class=\"dataframe\">\n",
       "  <thead>\n",
       "    <tr style=\"text-align: right;\">\n",
       "      <th></th>\n",
       "      <th>ILMN_1762337</th>\n",
       "      <th>ILMN_2055271</th>\n",
       "      <th>ILMN_1736007</th>\n",
       "      <th>ILMN_2383229</th>\n",
       "      <th>ILMN_1806310</th>\n",
       "      <th>ILMN_1779670</th>\n",
       "      <th>ILMN_1705025</th>\n",
       "      <th>ILMN_1814316</th>\n",
       "      <th>ILMN_2359168</th>\n",
       "      <th>ILMN_1731507</th>\n",
       "      <th>...</th>\n",
       "      <th>ILMN_2348512</th>\n",
       "      <th>ILMN_1743643</th>\n",
       "      <th>ILMN_1794932</th>\n",
       "      <th>ILMN_1723439</th>\n",
       "      <th>ILMN_1656676</th>\n",
       "      <th>ILMN_2371169</th>\n",
       "      <th>ILMN_1701875</th>\n",
       "      <th>ILMN_1786396</th>\n",
       "      <th>ILMN_1653618</th>\n",
       "      <th>ILMN_2137536</th>\n",
       "    </tr>\n",
       "  </thead>\n",
       "  <tbody>\n",
       "    <tr>\n",
       "      <th>0</th>\n",
       "      <td>0.775036</td>\n",
       "      <td>0.269992</td>\n",
       "      <td>0.528110</td>\n",
       "      <td>0.124300</td>\n",
       "      <td>0.264225</td>\n",
       "      <td>0.502518</td>\n",
       "      <td>0.157984</td>\n",
       "      <td>0.775747</td>\n",
       "      <td>0.762821</td>\n",
       "      <td>0.544661</td>\n",
       "      <td>...</td>\n",
       "      <td>0.280351</td>\n",
       "      <td>0.406641</td>\n",
       "      <td>0.602061</td>\n",
       "      <td>0.210361</td>\n",
       "      <td>0.784708</td>\n",
       "      <td>0.427222</td>\n",
       "      <td>0.645311</td>\n",
       "      <td>0.771719</td>\n",
       "      <td>0.305905</td>\n",
       "      <td>0.616238</td>\n",
       "    </tr>\n",
       "    <tr>\n",
       "      <th>1</th>\n",
       "      <td>0.648982</td>\n",
       "      <td>1.000000</td>\n",
       "      <td>0.000000</td>\n",
       "      <td>0.345828</td>\n",
       "      <td>0.663685</td>\n",
       "      <td>0.411405</td>\n",
       "      <td>0.737772</td>\n",
       "      <td>0.485617</td>\n",
       "      <td>0.464127</td>\n",
       "      <td>0.119337</td>\n",
       "      <td>...</td>\n",
       "      <td>0.144091</td>\n",
       "      <td>0.126532</td>\n",
       "      <td>0.447851</td>\n",
       "      <td>0.062292</td>\n",
       "      <td>0.389388</td>\n",
       "      <td>0.536533</td>\n",
       "      <td>0.642820</td>\n",
       "      <td>0.504808</td>\n",
       "      <td>0.000000</td>\n",
       "      <td>0.168349</td>\n",
       "    </tr>\n",
       "    <tr>\n",
       "      <th>2</th>\n",
       "      <td>0.170418</td>\n",
       "      <td>0.331347</td>\n",
       "      <td>0.519596</td>\n",
       "      <td>0.170043</td>\n",
       "      <td>0.515843</td>\n",
       "      <td>0.299062</td>\n",
       "      <td>0.243460</td>\n",
       "      <td>0.865816</td>\n",
       "      <td>0.836213</td>\n",
       "      <td>0.724011</td>\n",
       "      <td>...</td>\n",
       "      <td>0.263945</td>\n",
       "      <td>0.356875</td>\n",
       "      <td>0.326005</td>\n",
       "      <td>0.561480</td>\n",
       "      <td>0.763147</td>\n",
       "      <td>0.523482</td>\n",
       "      <td>0.763679</td>\n",
       "      <td>0.674440</td>\n",
       "      <td>0.695061</td>\n",
       "      <td>0.715892</td>\n",
       "    </tr>\n",
       "    <tr>\n",
       "      <th>3</th>\n",
       "      <td>0.388214</td>\n",
       "      <td>0.153699</td>\n",
       "      <td>0.473047</td>\n",
       "      <td>0.866038</td>\n",
       "      <td>0.317654</td>\n",
       "      <td>0.350982</td>\n",
       "      <td>0.000000</td>\n",
       "      <td>0.887522</td>\n",
       "      <td>0.840614</td>\n",
       "      <td>0.723555</td>\n",
       "      <td>...</td>\n",
       "      <td>0.235710</td>\n",
       "      <td>0.557772</td>\n",
       "      <td>0.470640</td>\n",
       "      <td>0.518388</td>\n",
       "      <td>0.735689</td>\n",
       "      <td>0.366219</td>\n",
       "      <td>0.428638</td>\n",
       "      <td>0.581300</td>\n",
       "      <td>0.745359</td>\n",
       "      <td>0.601534</td>\n",
       "    </tr>\n",
       "    <tr>\n",
       "      <th>4</th>\n",
       "      <td>0.723466</td>\n",
       "      <td>0.060983</td>\n",
       "      <td>0.448049</td>\n",
       "      <td>0.257096</td>\n",
       "      <td>0.446283</td>\n",
       "      <td>0.345487</td>\n",
       "      <td>0.333002</td>\n",
       "      <td>0.912257</td>\n",
       "      <td>0.874764</td>\n",
       "      <td>0.783448</td>\n",
       "      <td>...</td>\n",
       "      <td>0.202493</td>\n",
       "      <td>0.348426</td>\n",
       "      <td>0.601232</td>\n",
       "      <td>0.228395</td>\n",
       "      <td>0.728168</td>\n",
       "      <td>0.322393</td>\n",
       "      <td>0.381977</td>\n",
       "      <td>0.439683</td>\n",
       "      <td>0.694606</td>\n",
       "      <td>0.504924</td>\n",
       "    </tr>\n",
       "  </tbody>\n",
       "</table>\n",
       "<p>5 rows × 42179 columns</p>\n",
       "</div>"
      ],
      "text/plain": [
       "   ILMN_1762337  ILMN_2055271  ILMN_1736007  ILMN_2383229  ILMN_1806310  \\\n",
       "0      0.775036      0.269992      0.528110      0.124300      0.264225   \n",
       "1      0.648982      1.000000      0.000000      0.345828      0.663685   \n",
       "2      0.170418      0.331347      0.519596      0.170043      0.515843   \n",
       "3      0.388214      0.153699      0.473047      0.866038      0.317654   \n",
       "4      0.723466      0.060983      0.448049      0.257096      0.446283   \n",
       "\n",
       "   ILMN_1779670  ILMN_1705025  ILMN_1814316  ILMN_2359168  ILMN_1731507  ...  \\\n",
       "0      0.502518      0.157984      0.775747      0.762821      0.544661  ...   \n",
       "1      0.411405      0.737772      0.485617      0.464127      0.119337  ...   \n",
       "2      0.299062      0.243460      0.865816      0.836213      0.724011  ...   \n",
       "3      0.350982      0.000000      0.887522      0.840614      0.723555  ...   \n",
       "4      0.345487      0.333002      0.912257      0.874764      0.783448  ...   \n",
       "\n",
       "   ILMN_2348512  ILMN_1743643  ILMN_1794932  ILMN_1723439  ILMN_1656676  \\\n",
       "0      0.280351      0.406641      0.602061      0.210361      0.784708   \n",
       "1      0.144091      0.126532      0.447851      0.062292      0.389388   \n",
       "2      0.263945      0.356875      0.326005      0.561480      0.763147   \n",
       "3      0.235710      0.557772      0.470640      0.518388      0.735689   \n",
       "4      0.202493      0.348426      0.601232      0.228395      0.728168   \n",
       "\n",
       "   ILMN_2371169  ILMN_1701875  ILMN_1786396  ILMN_1653618  ILMN_2137536  \n",
       "0      0.427222      0.645311      0.771719      0.305905      0.616238  \n",
       "1      0.536533      0.642820      0.504808      0.000000      0.168349  \n",
       "2      0.523482      0.763679      0.674440      0.695061      0.715892  \n",
       "3      0.366219      0.428638      0.581300      0.745359      0.601534  \n",
       "4      0.322393      0.381977      0.439683      0.694606      0.504924  \n",
       "\n",
       "[5 rows x 42179 columns]"
      ]
     },
     "execution_count": 13,
     "metadata": {},
     "output_type": "execute_result"
    }
   ],
   "source": [
    "# Display normalized features set\n",
    "scaled_X.head()"
   ]
  },
  {
   "cell_type": "code",
   "execution_count": 14,
   "id": "b7608135",
   "metadata": {},
   "outputs": [],
   "source": [
    "# Extracting target from dataframe\n",
    "y = df.iloc[:,1]"
   ]
  },
  {
   "cell_type": "code",
   "execution_count": 15,
   "id": "bdb6329f",
   "metadata": {},
   "outputs": [
    {
     "data": {
      "text/plain": [
       "0    0\n",
       "1    0\n",
       "2    0\n",
       "3    0\n",
       "4    0\n",
       "Name: TARGET, dtype: int64"
      ]
     },
     "execution_count": 15,
     "metadata": {},
     "output_type": "execute_result"
    }
   ],
   "source": [
    "# Display target\n",
    "y.head()"
   ]
  },
  {
   "cell_type": "code",
   "execution_count": 16,
   "id": "dcdade3d",
   "metadata": {},
   "outputs": [
    {
     "data": {
      "text/plain": [
       "0    98\n",
       "1    97\n",
       "Name: TARGET, dtype: int64"
      ]
     },
     "execution_count": 16,
     "metadata": {},
     "output_type": "execute_result"
    }
   ],
   "source": [
    "# Show value counts in target\n",
    "y.value_counts()"
   ]
  },
  {
   "cell_type": "code",
   "execution_count": 17,
   "id": "7daae959",
   "metadata": {},
   "outputs": [],
   "source": [
    "# Import 'PCA' from 'sklearn' library\n",
    "from sklearn.decomposition import PCA"
   ]
  },
  {
   "cell_type": "code",
   "execution_count": 18,
   "id": "a31d1949",
   "metadata": {},
   "outputs": [],
   "source": [
    "# Perform Principal Component Analysis on raw data\n",
    "pca = PCA(n_components=2)\n",
    "principalComponents = pca.fit_transform(scaled_X)\n",
    "principal_DF = pd.DataFrame(data = principalComponents, columns = ['principal component 1', 'principal component 2'])"
   ]
  },
  {
   "cell_type": "code",
   "execution_count": 19,
   "id": "4f78be72",
   "metadata": {},
   "outputs": [
    {
     "data": {
      "text/plain": [
       "(195, 2)"
      ]
     },
     "execution_count": 19,
     "metadata": {},
     "output_type": "execute_result"
    }
   ],
   "source": [
    "# Check dimensions of the dataframe\n",
    "principal_DF.shape"
   ]
  },
  {
   "cell_type": "code",
   "execution_count": 20,
   "id": "76a3ac4a",
   "metadata": {},
   "outputs": [],
   "source": [
    "# Import 'matplotlib' library\n",
    "import matplotlib.pyplot as plt"
   ]
  },
  {
   "cell_type": "code",
   "execution_count": 21,
   "id": "36a6d602",
   "metadata": {},
   "outputs": [
    {
     "data": {
      "image/png": "[encoded data removed]",
      "text/plain": [
       "<Figure size 576x432 with 1 Axes>"
      ]
     },
     "metadata": {
      "needs_background": "light"
     },
     "output_type": "display_data"
    }
   ],
   "source": [
    "# Plotting data generated from PCA\n",
    "plt.figure(figsize=(8,6))\n",
    "plt.rcParams.update({'font.size': 12, 'font.family': 'DejaVu Sans'})\n",
    "\n",
    "ax = plt.scatter(x=principal_DF.iloc[:,0], y=principal_DF.iloc[:,1], c=y, cmap='winter')\n",
    "plt.xlabel('First principal component')\n",
    "plt.ylabel('Second Principal Component')\n",
    "plt.legend(*ax.legend_elements())\n",
    "plt.show()"
   ]
  },
  {
   "cell_type": "code",
   "execution_count": 22,
   "id": "f35b60d6",
   "metadata": {},
   "outputs": [],
   "source": [
    "# Import 'f_classif' and 'SelectKBest' from 'sklearn' library\n",
    "from sklearn.feature_selection import f_classif,SelectKBest"
   ]
  },
  {
   "cell_type": "code",
   "execution_count": 23,
   "id": "7f65abf2",
   "metadata": {},
   "outputs": [],
   "source": [
    "# Select best 50 features from normalized features set using 'ANOVA' method\n",
    "fs = SelectKBest(score_func=f_classif, k=50)\n",
    "fs.fit(scaled_X,y)\n",
    "cols = fs.get_support(indices=True)\n",
    "features_50_X = scaled_X.iloc[:,cols]"
   ]
  },
  {
   "cell_type": "code",
   "execution_count": 24,
   "id": "211dc5cf",
   "metadata": {},
   "outputs": [
    {
     "data": {
      "text/plain": [
       "(195, 50)"
      ]
     },
     "execution_count": 24,
     "metadata": {},
     "output_type": "execute_result"
    }
   ],
   "source": [
    "# Check the shape of selected features set\n",
    "features_50_X.shape"
   ]
  },
  {
   "cell_type": "code",
   "execution_count": 25,
   "id": "a3dca1b2",
   "metadata": {},
   "outputs": [],
   "source": [
    "# Select best 40 features from 50 features set using 'ANOVA' method\n",
    "fs = SelectKBest(score_func=f_classif, k=40)\n",
    "fs.fit(features_50_X,y)\n",
    "cols = fs.get_support(indices=True)\n",
    "features_40_X = features_50_X.iloc[:,cols]"
   ]
  },
  {
   "cell_type": "code",
   "execution_count": 26,
   "id": "3a0536a6",
   "metadata": {},
   "outputs": [
    {
     "data": {
      "text/plain": [
       "(195, 40)"
      ]
     },
     "execution_count": 26,
     "metadata": {},
     "output_type": "execute_result"
    }
   ],
   "source": [
    "# Check the shape of selected features set\n",
    "features_40_X.shape"
   ]
  },
  {
   "cell_type": "code",
   "execution_count": 27,
   "id": "ece68b7a",
   "metadata": {},
   "outputs": [],
   "source": [
    "# Select best 30 features from 40 features set using 'ANOVA' method\n",
    "fs = SelectKBest(score_func=f_classif, k=30)\n",
    "fs.fit(features_40_X,y)\n",
    "cols = fs.get_support(indices=True)\n",
    "features_30_X = features_40_X.iloc[:,cols]"
   ]
  },
  {
   "cell_type": "code",
   "execution_count": 28,
   "id": "8b95084b",
   "metadata": {},
   "outputs": [
    {
     "data": {
      "text/plain": [
       "(195, 30)"
      ]
     },
     "execution_count": 28,
     "metadata": {},
     "output_type": "execute_result"
    }
   ],
   "source": [
    "# Check the shape of selected features set\n",
    "features_30_X.shape"
   ]
  },
  {
   "cell_type": "code",
   "execution_count": 29,
   "id": "955f7432",
   "metadata": {},
   "outputs": [],
   "source": [
    "# Select best 20 features from 30 features set using 'ANOVA' method\n",
    "fs = SelectKBest(score_func=f_classif, k=20)\n",
    "fs.fit(features_30_X,y)\n",
    "cols = fs.get_support(indices=True)\n",
    "features_20_X = features_30_X.iloc[:,cols]"
   ]
  },
  {
   "cell_type": "code",
   "execution_count": 30,
   "id": "4a815805",
   "metadata": {},
   "outputs": [
    {
     "data": {
      "text/plain": [
       "(195, 20)"
      ]
     },
     "execution_count": 30,
     "metadata": {},
     "output_type": "execute_result"
    }
   ],
   "source": [
    "# Check the shape of selected features set\n",
    "features_20_X.shape"
   ]
  },
  {
   "cell_type": "code",
   "execution_count": 31,
   "id": "a130f790",
   "metadata": {},
   "outputs": [],
   "source": [
    "# Select best 10 features from 20 features set using 'ANOVA' method\n",
    "fs = SelectKBest(score_func=f_classif, k=10)\n",
    "fs.fit(features_20_X,y)\n",
    "cols = fs.get_support(indices=True)\n",
    "features_10_X = features_20_X.iloc[:,cols]"
   ]
  },
  {
   "cell_type": "code",
   "execution_count": 32,
   "id": "a5620a9e",
   "metadata": {},
   "outputs": [
    {
     "data": {
      "text/plain": [
       "(195, 10)"
      ]
     },
     "execution_count": 32,
     "metadata": {},
     "output_type": "execute_result"
    }
   ],
   "source": [
    "# Check the shape of selected features set\n",
    "features_10_X.shape"
   ]
  },
  {
   "cell_type": "code",
   "execution_count": 33,
   "id": "7ecf2da7",
   "metadata": {},
   "outputs": [],
   "source": [
    "# Create 'models' dictionary and store all machine learning models in the dictionary\n",
    "models = {}\n",
    "\n",
    "# Logistic Regression\n",
    "from sklearn.linear_model import LogisticRegression\n",
    "models['Logistic Regression'] = LogisticRegression()\n",
    "\n",
    "# Support Vector Machines\n",
    "from sklearn.svm import LinearSVC\n",
    "models['Support Vector Machines'] = LinearSVC()\n",
    "\n",
    "# Naive Bayes\n",
    "from sklearn.naive_bayes import GaussianNB\n",
    "models['Naive Bayes'] = GaussianNB()\n",
    "\n",
    "# K-Nearest Neighbors\n",
    "from sklearn.neighbors import KNeighborsClassifier\n",
    "models['K-Nearest Neighbor'] = KNeighborsClassifier()\n",
    "\n",
    "# Decision Trees\n",
    "from sklearn.tree import DecisionTreeClassifier\n",
    "models['Decision Trees'] = DecisionTreeClassifier()\n",
    "\n",
    "# Random Forest\n",
    "from sklearn.ensemble import RandomForestClassifier\n",
    "models['Random Forest'] = RandomForestClassifier()\n",
    "\n",
    "# Import 'cross_val_score' from 'sklearn' library\n",
    "from sklearn.model_selection import cross_val_score\n",
    "\n",
    "# Create dictionaries to store perfomance measures\n",
    "accuracy, precision, recall, f1 = {}, {}, {}, {}\n",
    "std_accuracy, std_precision, std_recall, std_f1 = {}, {}, {}, {}\n",
    "full_accuracy, full_precision, full_recall, full_f1 = {}, {}, {}, {}\n",
    "\n",
    "# Iterating through every machine learning model in 'models' dictionary\n",
    "for x in ['50', '40', '30', '20', '10']:\n",
    "\n",
    "    for key in models.keys():\n",
    "          \n",
    "        fs = 'features_' + x + '_X'\n",
    "        \n",
    "        # Fit the classifier\n",
    "        accuracy[key] = cross_val_score(models[key], locals()[fs], y, cv=5, scoring='accuracy').mean()*100\n",
    "        precision[key] = cross_val_score(models[key], locals()[fs], y, cv=5, scoring='precision').mean()*100\n",
    "        recall[key] = cross_val_score(models[key], locals()[fs], y, cv=5, scoring='recall').mean()*100\n",
    "        f1[key] = cross_val_score(models[key], locals()[fs], y, cv=5, scoring='f1').mean()*100\n",
    "\n",
    "        std_accuracy[key] = cross_val_score(models[key], locals()[fs], y, cv=5, scoring='accuracy').std()*100\n",
    "        std_precision[key] = cross_val_score(models[key], locals()[fs], y, cv=5, scoring='precision').std()*100\n",
    "        std_recall[key] = cross_val_score(models[key], locals()[fs], y, cv=5, scoring='recall').std()*100\n",
    "        std_f1[key] = cross_val_score(models[key], locals()[fs], y, cv=5, scoring='f1').std()*100\n",
    "\n",
    "        full_accuracy[key] = str(np.around(accuracy[key],2)) + ' ± ' + str(np.around(std_accuracy[key],2))\n",
    "        full_precision[key] = str(np.around(precision[key],2)) + ' ± ' + str(np.around(std_precision[key],2))\n",
    "        full_recall[key] = str(np.around(recall[key],2)) + ' ± ' + str(np.around(std_recall[key],2))\n",
    "        full_f1[key] = str(np.around(f1[key],2)) + ' ± ' + str(np.around(std_f1[key],2))\n",
    "    \n",
    "    fs_performance = 'performance_' + x + '_features'\n",
    "    # Generate performace matrix for every machine learning model\n",
    "    locals()[fs_performance] = pd.DataFrame(index=models.keys(), columns=['Accuracy','Precision','Recall','F1 Score'])\n",
    "    locals()[fs_performance]['Accuracy'] = accuracy.values()\n",
    "    locals()[fs_performance]['Precision'] = precision.values()\n",
    "    locals()[fs_performance]['Recall'] = recall.values()\n",
    "    locals()[fs_performance]['F1 Score'] = f1.values()\n",
    "    \n",
    "    fs_std = 'std_' + x + '_features'\n",
    "    # Generate standard deviation matrix for every machine learning model\n",
    "    locals()[fs_std] = pd.DataFrame(index=models.keys(), columns=['Accuracy','Precision','Recall','F1 Score'])\n",
    "    locals()[fs_std]['Accuracy'] = std_accuracy.values()\n",
    "    locals()[fs_std]['Precision'] = std_precision.values()\n",
    "    locals()[fs_std]['Recall'] = std_recall.values()\n",
    "    locals()[fs_std]['F1 Score'] = std_f1.values()\n",
    "    \n",
    "    fs_full = 'full_' + x + '_features'\n",
    "    # Generate standard deviation matrix for every machine learning model\n",
    "    locals()[fs_full] = pd.DataFrame(index=models.keys(), columns=['Accuracy','Precision','Recall','F1 Score'])\n",
    "    locals()[fs_full]['Accuracy'] = full_accuracy.values()\n",
    "    locals()[fs_full]['Precision'] = full_precision.values()\n",
    "    locals()[fs_full]['Recall'] = full_recall.values()\n",
    "    locals()[fs_full]['F1 Score'] = full_f1.values()"
   ]
  },
  {
   "cell_type": "code",
   "execution_count": 34,
   "id": "fa4dc10f",
   "metadata": {},
   "outputs": [],
   "source": [
    "# Generate dataframe for accuracy with highest accuracy value from each set of features\n",
    "features =['10 Features','20 Features','30 Features','40 Features', '50 Features']\n",
    "model = [performance_10_features['Accuracy'].idxmax(), performance_20_features['Accuracy'].idxmax(), performance_30_features['Accuracy'].idxmax(), performance_40_features['Accuracy'].idxmax(), performance_50_features['Accuracy'].idxmax()]\n",
    "accuracy = [performance_10_features['Accuracy'].max(), performance_20_features['Accuracy'].max(),performance_30_features['Accuracy'].max(),performance_40_features['Accuracy'].max(),performance_50_features['Accuracy'].max()]\n",
    "\n",
    "accuracy_df = pd.DataFrame({'Model':model, 'Accuracy':accuracy}, index=features)\n",
    "accuracy_df.Accuracy = accuracy_df.Accuracy.round(2)"
   ]
  },
  {
   "cell_type": "code",
   "execution_count": 35,
   "id": "27275249",
   "metadata": {},
   "outputs": [],
   "source": [
    "# Import 'tabulate' library\n",
    "from tabulate import tabulate"
   ]
  },
  {
   "cell_type": "code",
   "execution_count": 36,
   "id": "5178af92",
   "metadata": {},
   "outputs": [
    {
     "name": "stdout",
     "output_type": "stream",
     "text": [
      "Accuracy Table\n",
      "\n",
      "╒═════════════╤═════════════════════════╤════════════╕\n",
      "│             │ Model                   │   Accuracy │\n",
      "╞═════════════╪═════════════════════════╪════════════╡\n",
      "│ 50 Features │ Logistic Regression     │      82.05 │\n",
      "├─────────────┼─────────────────────────┼────────────┤\n",
      "│ 40 Features │ Random Forest           │      82.05 │\n",
      "├─────────────┼─────────────────────────┼────────────┤\n",
      "│ 30 Features │ Logistic Regression     │      83.08 │\n",
      "├─────────────┼─────────────────────────┼────────────┤\n",
      "│ 20 Features │ Logistic Regression     │      81.54 │\n",
      "├─────────────┼─────────────────────────┼────────────┤\n",
      "│ 10 Features │ Support Vector Machines │      82.56 │\n",
      "╘═════════════╧═════════════════════════╧════════════╛\n"
     ]
    }
   ],
   "source": [
    "# Tabulating accuracy table\n",
    "print('Accuracy Table\\n')\n",
    "print(tabulate(accuracy_df[::-1], headers = accuracy_df.columns, tablefmt = 'fancy_grid'))"
   ]
  },
  {
   "cell_type": "code",
   "execution_count": 37,
   "id": "36351119",
   "metadata": {},
   "outputs": [
    {
     "data": {
      "text/plain": [
       "<Figure size 432x288 with 0 Axes>"
      ]
     },
     "metadata": {},
     "output_type": "display_data"
    },
    {
     "data": {
      "image/png": "[encoded data removed]",
      "text/plain": [
       "<Figure size 720x216 with 1 Axes>"
      ]
     },
     "metadata": {
      "needs_background": "light"
     },
     "output_type": "display_data"
    }
   ],
   "source": [
    "# Plotting accuracy chart\n",
    "fig = plt.figure()\n",
    "ax = accuracy_df.plot.barh()\n",
    "ax.set_axisbelow(True)\n",
    "ax.grid(color='gray', linestyle='dashed')\n",
    "ax.set_title('Accuracy According to Selected Features Sets', fontsize=20)\n",
    "ax.set_xlabel('Accuracy', fontsize=15)\n",
    "ax.get_legend().remove()\n",
    "plt.gcf().set_size_inches(10, 3)\n",
    "plt.show()"
   ]
  },
  {
   "cell_type": "code",
   "execution_count": 38,
   "id": "4b0ebb4a",
   "metadata": {},
   "outputs": [],
   "source": [
    "# Generate dataframe for recall with highest recall value from each set of features\n",
    "model = [performance_10_features['Recall'].idxmax(), performance_20_features['Recall'].idxmax(), performance_30_features['Recall'].idxmax(), performance_40_features['Recall'].idxmax(), performance_50_features['Recall'].idxmax()]\n",
    "recall = [performance_10_features['Recall'].max(), performance_20_features['Recall'].max(),performance_30_features['Recall'].max(),performance_40_features['Recall'].max(),performance_50_features['Recall'].max()]\n",
    "\n",
    "recall_df = pd.DataFrame({'Model':model, 'Recall':recall}, index=features)\n",
    "recall_df.Recall = recall_df.Recall.round(2)"
   ]
  },
  {
   "cell_type": "code",
   "execution_count": 39,
   "id": "6822b685",
   "metadata": {},
   "outputs": [
    {
     "name": "stdout",
     "output_type": "stream",
     "text": [
      "Recall Table\n",
      "\n",
      "╒═════════════╤═════════════════════════╤══════════╕\n",
      "│             │ Model                   │   Recall │\n",
      "╞═════════════╪═════════════════════════╪══════════╡\n",
      "│ 50 Features │ K-Nearest Neighbor      │    81.53 │\n",
      "├─────────────┼─────────────────────────┼──────────┤\n",
      "│ 40 Features │ K-Nearest Neighbor      │    82.47 │\n",
      "├─────────────┼─────────────────────────┼──────────┤\n",
      "│ 30 Features │ K-Nearest Neighbor      │    82.53 │\n",
      "├─────────────┼─────────────────────────┼──────────┤\n",
      "│ 20 Features │ Logistic Regression     │    80.53 │\n",
      "├─────────────┼─────────────────────────┼──────────┤\n",
      "│ 10 Features │ Support Vector Machines │    81.68 │\n",
      "╘═════════════╧═════════════════════════╧══════════╛\n"
     ]
    }
   ],
   "source": [
    "# Tabulating accuracy table\n",
    "print('Recall Table\\n')\n",
    "print(tabulate(recall_df[::-1], headers = recall_df.columns, tablefmt = 'fancy_grid'))"
   ]
  },
  {
   "cell_type": "code",
   "execution_count": 40,
   "id": "4f82fa16",
   "metadata": {},
   "outputs": [
    {
     "data": {
      "text/plain": [
       "<Figure size 432x288 with 0 Axes>"
      ]
     },
     "metadata": {},
     "output_type": "display_data"
    },
    {
     "data": {
      "image/png": "[encoded data removed]",
      "text/plain": [
       "<Figure size 720x216 with 1 Axes>"
      ]
     },
     "metadata": {
      "needs_background": "light"
     },
     "output_type": "display_data"
    }
   ],
   "source": [
    "# Plotting recall chart\n",
    "fig = plt.figure()\n",
    "ax = recall_df.plot.barh()\n",
    "ax.set_axisbelow(True)\n",
    "ax.grid(color='gray', linestyle='dashed')\n",
    "ax.set_title('Recall According to Selected Features Sets\\n', fontsize=20)\n",
    "ax.set_xlabel('Recall', fontsize=15)\n",
    "ax.get_legend().remove()\n",
    "plt.gcf().set_size_inches(10, 3)\n",
    "plt.show()"
   ]
  },
  {
   "cell_type": "code",
   "execution_count": 41,
   "id": "98876605",
   "metadata": {},
   "outputs": [],
   "source": [
    "# Merging accuracy and recall dataframes\n",
    "feature_performance = accuracy_df.merge(recall_df, how='outer', left_index=True, right_index=True)"
   ]
  },
  {
   "cell_type": "code",
   "execution_count": 42,
   "id": "be90238b",
   "metadata": {},
   "outputs": [
    {
     "name": "stdout",
     "output_type": "stream",
     "text": [
      "Performance Table\n",
      "\n",
      "╒════════════╤════════════════╤══════════════╕\n",
      "│   Features │   Max Accuracy │   Max Recall │\n",
      "╞════════════╪════════════════╪══════════════╡\n",
      "│         10 │          82.05 │        81.53 │\n",
      "├────────────┼────────────────┼──────────────┤\n",
      "│         20 │          82.05 │        82.47 │\n",
      "├────────────┼────────────────┼──────────────┤\n",
      "│         30 │          83.08 │        82.53 │\n",
      "├────────────┼────────────────┼──────────────┤\n",
      "│         40 │          81.54 │        80.53 │\n",
      "├────────────┼────────────────┼──────────────┤\n",
      "│         50 │          82.56 │        81.68 │\n",
      "╘════════════╧════════════════╧══════════════╛\n"
     ]
    }
   ],
   "source": [
    "# Tabulating max performance table\n",
    "feature_performance['Features'] = ['50', '40', '30', '20', '10']\n",
    "feature_performance = feature_performance[['Features', 'Accuracy', 'Recall']]\n",
    "feature_performance.rename(columns = {'Accuracy':'Max Accuracy', 'Recall':'Max Recall'}, inplace = True)\n",
    "print('Performance Table\\n')\n",
    "print(tabulate(feature_performance[::-1], headers = feature_performance.columns, tablefmt = 'fancy_grid',  showindex = False))"
   ]
  },
  {
   "cell_type": "code",
   "execution_count": 43,
   "id": "70c8553e",
   "metadata": {},
   "outputs": [
    {
     "data": {
      "text/plain": [
       "Text(0, 0.5, 'Performance')"
      ]
     },
     "execution_count": 43,
     "metadata": {},
     "output_type": "execute_result"
    },
    {
     "data": {
      "image/png": "[encoded data removed]",
      "text/plain": [
       "<Figure size 432x432 with 1 Axes>"
      ]
     },
     "metadata": {
      "needs_background": "light"
     },
     "output_type": "display_data"
    }
   ],
   "source": [
    "# Plot max performance of each model \n",
    "ax = feature_performance.plot(grid=True, figsize=(6,6), x='Features')\n",
    "ax.set_ylim(75, 102)\n",
    "ax.locator_params(axis='x', nbins=10)\n",
    "ax.legend(loc='upper right')\n",
    "ax.set_ylabel('Performance')"
   ]
  },
  {
   "cell_type": "code",
   "execution_count": 44,
   "id": "2bb5e3aa",
   "metadata": {},
   "outputs": [],
   "source": [
    "# Get the mean of all accuracy values given by each model\n",
    "LR_values =[performance_10_features.at['Logistic Regression', 'Accuracy'],\n",
    "            performance_20_features.at['Logistic Regression', 'Accuracy'],\n",
    "            performance_30_features.at['Logistic Regression', 'Accuracy'],\n",
    "            performance_40_features.at['Logistic Regression', 'Accuracy'],\n",
    "            performance_50_features.at['Logistic Regression', 'Accuracy']]\n",
    "LR_mean = np.mean(LR_values)\n",
    "\n",
    "SVM_values =[performance_10_features.at['Support Vector Machines', 'Accuracy'],\n",
    "             performance_20_features.at['Support Vector Machines', 'Accuracy'],\n",
    "             performance_30_features.at['Support Vector Machines', 'Accuracy'],\n",
    "             performance_40_features.at['Support Vector Machines', 'Accuracy'],\n",
    "             performance_50_features.at['Support Vector Machines', 'Accuracy']]\n",
    "SVM_mean = np.mean(SVM_values)\n",
    "\n",
    "NB_values =[performance_10_features.at['Naive Bayes', 'Accuracy'],\n",
    "            performance_20_features.at['Naive Bayes', 'Accuracy'],\n",
    "            performance_30_features.at['Naive Bayes', 'Accuracy'],\n",
    "            performance_40_features.at['Naive Bayes', 'Accuracy'],\n",
    "            performance_50_features.at['Naive Bayes', 'Accuracy']]\n",
    "NB_mean = np.mean(NB_values)\n",
    "\n",
    "KNN_values =[performance_10_features.at['K-Nearest Neighbor', 'Accuracy'],\n",
    "             performance_20_features.at['K-Nearest Neighbor', 'Accuracy'],\n",
    "             performance_30_features.at['K-Nearest Neighbor', 'Accuracy'],\n",
    "             performance_40_features.at['K-Nearest Neighbor', 'Accuracy'],\n",
    "             performance_50_features.at['K-Nearest Neighbor', 'Accuracy']]\n",
    "KNN_mean = np.mean(KNN_values)\n",
    "\n",
    "DT_values =[performance_10_features.at['Decision Trees', 'Accuracy'],\n",
    "            performance_20_features.at['Decision Trees', 'Accuracy'],\n",
    "            performance_30_features.at['Decision Trees', 'Accuracy'],\n",
    "            performance_40_features.at['Decision Trees', 'Accuracy'],\n",
    "            performance_50_features.at['Decision Trees', 'Accuracy']]\n",
    "DT_mean = np.mean(DT_values)\n",
    "\n",
    "RF_values =[performance_10_features.at['Random Forest', 'Accuracy'],\n",
    "            performance_20_features.at['Random Forest', 'Accuracy'],\n",
    "            performance_30_features.at['Random Forest', 'Accuracy'],\n",
    "            performance_40_features.at['Random Forest', 'Accuracy'],\n",
    "            performance_50_features.at['Random Forest', 'Accuracy']]\n",
    "RF_mean = np.mean(RF_values)"
   ]
  },
  {
   "cell_type": "code",
   "execution_count": 45,
   "id": "6ecaf35d",
   "metadata": {},
   "outputs": [],
   "source": [
    "# Generate dataframe to store model performance\n",
    "model = ['Logistic Regression', 'Support Vector Machines', 'Naive Bayes', 'K-Nearest Neighbor', 'Decision Trees', 'Random Forest']\n",
    "accuracy_value = [LR_mean, SVM_mean, NB_mean, KNN_mean, DT_mean, RF_mean]\n",
    "model_performance_acc = pd.DataFrame({'Model': model, 'Mean Accuracy':accuracy_value})"
   ]
  },
  {
   "cell_type": "code",
   "execution_count": 46,
   "id": "890336f5",
   "metadata": {},
   "outputs": [
    {
     "name": "stdout",
     "output_type": "stream",
     "text": [
      "Performance Table\n",
      "\n",
      "╒═════════════════════════╤═════════════════╕\n",
      "│ Model                   │   Mean Accuracy │\n",
      "╞═════════════════════════╪═════════════════╡\n",
      "│ Random Forest           │         81.2308 │\n",
      "├─────────────────────────┼─────────────────┤\n",
      "│ Decision Trees          │         74.0513 │\n",
      "├─────────────────────────┼─────────────────┤\n",
      "│ K-Nearest Neighbor      │         80.4103 │\n",
      "├─────────────────────────┼─────────────────┤\n",
      "│ Naive Bayes             │         80.9231 │\n",
      "├─────────────────────────┼─────────────────┤\n",
      "│ Support Vector Machines │         80.8205 │\n",
      "├─────────────────────────┼─────────────────┤\n",
      "│ Logistic Regression     │         81.9487 │\n",
      "╘═════════════════════════╧═════════════════╛\n"
     ]
    }
   ],
   "source": [
    "# Tabulating mean accuracy table\n",
    "print('Performance Table\\n')\n",
    "print(tabulate(model_performance_acc[::-1], headers = model_performance_acc.columns, tablefmt = 'fancy_grid', showindex = False))"
   ]
  },
  {
   "cell_type": "code",
   "execution_count": 47,
   "id": "6196c557",
   "metadata": {},
   "outputs": [
    {
     "data": {
      "text/plain": [
       "<Figure size 432x288 with 0 Axes>"
      ]
     },
     "metadata": {},
     "output_type": "display_data"
    },
    {
     "data": {
      "image/png": "[encoded data removed]",
      "text/plain": [
       "<Figure size 720x288 with 1 Axes>"
      ]
     },
     "metadata": {
      "needs_background": "light"
     },
     "output_type": "display_data"
    }
   ],
   "source": [
    "# Plotting mean accuracy chart\n",
    "fig = plt.figure()\n",
    "ax = model_performance_acc.plot.barh()\n",
    "ax.set_axisbelow(True)\n",
    "ax.grid(color='gray', linestyle='dashed')\n",
    "ax.set_title('Mean Accuracy of Machine Learning Models\\n', fontsize=20)\n",
    "ax.set_xlabel('Mean Accuracy', fontsize=15)\n",
    "ax.set_ylabel('Machine Learning Model', fontsize=15)\n",
    "ax.set_yticklabels(['LR', 'SVM', 'NB', 'KNN', 'DT', 'RF'], rotation = 'horizontal')\n",
    "ax.get_legend().remove()\n",
    "plt.gcf().set_size_inches(10, 4)\n",
    "plt.show()"
   ]
  },
  {
   "cell_type": "code",
   "execution_count": 48,
   "id": "9db66921",
   "metadata": {},
   "outputs": [],
   "source": [
    "# Get the mean of all recall values given by each model\n",
    "LR_values =[performance_10_features.at['Logistic Regression', 'Recall'],\n",
    "            performance_20_features.at['Logistic Regression', 'Recall'],\n",
    "            performance_30_features.at['Logistic Regression', 'Recall'],\n",
    "            performance_40_features.at['Logistic Regression', 'Recall'],\n",
    "            performance_50_features.at['Logistic Regression', 'Recall']]\n",
    "LR_mean = np.mean(LR_values)\n",
    "\n",
    "SVM_values =[performance_10_features.at['Support Vector Machines', 'Recall'],\n",
    "             performance_20_features.at['Support Vector Machines', 'Recall'],\n",
    "             performance_30_features.at['Support Vector Machines', 'Recall'],\n",
    "             performance_40_features.at['Support Vector Machines', 'Recall'],\n",
    "             performance_50_features.at['Support Vector Machines', 'Recall']]\n",
    "SVM_mean = np.mean(SVM_values)\n",
    "\n",
    "NB_values =[performance_10_features.at['Naive Bayes', 'Recall'],\n",
    "            performance_20_features.at['Naive Bayes', 'Recall'],\n",
    "            performance_30_features.at['Naive Bayes', 'Recall'],\n",
    "            performance_40_features.at['Naive Bayes', 'Recall'],\n",
    "            performance_50_features.at['Naive Bayes', 'Recall']]\n",
    "NB_mean = np.mean(NB_values)\n",
    "\n",
    "KNN_values =[performance_10_features.at['K-Nearest Neighbor', 'Recall'],\n",
    "             performance_20_features.at['K-Nearest Neighbor', 'Recall'],\n",
    "             performance_30_features.at['K-Nearest Neighbor', 'Recall'],\n",
    "             performance_40_features.at['K-Nearest Neighbor', 'Recall'],\n",
    "             performance_50_features.at['K-Nearest Neighbor', 'Recall']]\n",
    "KNN_mean = np.mean(KNN_values)\n",
    "\n",
    "DT_values =[performance_10_features.at['Decision Trees', 'Recall'],\n",
    "            performance_20_features.at['Decision Trees', 'Recall'],\n",
    "            performance_30_features.at['Decision Trees', 'Recall'],\n",
    "            performance_40_features.at['Decision Trees', 'Recall'],\n",
    "            performance_50_features.at['Decision Trees', 'Recall']]\n",
    "DT_mean = np.mean(DT_values)\n",
    "\n",
    "RF_values =[performance_10_features.at['Random Forest', 'Recall'],\n",
    "            performance_20_features.at['Random Forest', 'Recall'],\n",
    "            performance_30_features.at['Random Forest', 'Recall'],\n",
    "            performance_40_features.at['Random Forest', 'Recall'],\n",
    "            performance_50_features.at['Random Forest', 'Recall']]\n",
    "RF_mean = np.mean(RF_values)"
   ]
  },
  {
   "cell_type": "code",
   "execution_count": 49,
   "id": "0809bafd",
   "metadata": {},
   "outputs": [],
   "source": [
    "# Generate dataframe to store model performance\n",
    "model = ['Logistic Regression', 'Support Vector Machines', 'Naive Bayes', 'K-Nearest Neighbor', 'Decision Trees', 'Random Forest']\n",
    "recall_value = [LR_mean, SVM_mean, NB_mean, KNN_mean, DT_mean, RF_mean]\n",
    "model_performance_r = pd.DataFrame({'Model': model, 'Mean Recall':recall_value})"
   ]
  },
  {
   "cell_type": "code",
   "execution_count": 50,
   "id": "68f6b6da",
   "metadata": {},
   "outputs": [
    {
     "name": "stdout",
     "output_type": "stream",
     "text": [
      "Performance Table\n",
      "\n",
      "╒═════════════════════════╤═══════════════╕\n",
      "│ Model                   │   Mean Recall │\n",
      "╞═════════════════════════╪═══════════════╡\n",
      "│ Random Forest           │       79.2947 │\n",
      "├─────────────────────────┼───────────────┤\n",
      "│ Decision Trees          │       76.8737 │\n",
      "├─────────────────────────┼───────────────┤\n",
      "│ K-Nearest Neighbor      │       81.3158 │\n",
      "├─────────────────────────┼───────────────┤\n",
      "│ Naive Bayes             │       79.4842 │\n",
      "├─────────────────────────┼───────────────┤\n",
      "│ Support Vector Machines │       78.1368 │\n",
      "├─────────────────────────┼───────────────┤\n",
      "│ Logistic Regression     │       79.7158 │\n",
      "╘═════════════════════════╧═══════════════╛\n"
     ]
    }
   ],
   "source": [
    "# Tabulating mean recall table\n",
    "print('Performance Table\\n')\n",
    "print(tabulate(model_performance_r[::-1], headers = model_performance_r.columns, tablefmt = 'fancy_grid', showindex = False))"
   ]
  },
  {
   "cell_type": "code",
   "execution_count": 51,
   "id": "36f3b206",
   "metadata": {},
   "outputs": [
    {
     "data": {
      "text/plain": [
       "<Figure size 432x288 with 0 Axes>"
      ]
     },
     "metadata": {},
     "output_type": "display_data"
    },
    {
     "data": {
      "image/png": "[encoded data removed]",
      "text/plain": [
       "<Figure size 720x288 with 1 Axes>"
      ]
     },
     "metadata": {
      "needs_background": "light"
     },
     "output_type": "display_data"
    }
   ],
   "source": [
    "# Plotting mean recall chart\n",
    "fig = plt.figure()\n",
    "ax = model_performance_r.plot.barh()\n",
    "ax.set_axisbelow(True)\n",
    "ax.grid(color='gray', linestyle='dashed')\n",
    "ax.set_title('Mean Recall of Machine Learning Models\\n', fontsize=20)\n",
    "ax.set_xlabel('Mean Recall', fontsize=15)\n",
    "ax.set_ylabel('Machine Learning Model', fontsize=15)\n",
    "ax.set_yticklabels(['LR', 'SVM', 'NB', 'KNN', 'DT', 'RF'], rotation = 'horizontal')\n",
    "ax.get_legend().remove()\n",
    "plt.gcf().set_size_inches(10, 4)\n",
    "plt.show()"
   ]
  },
  {
   "cell_type": "code",
   "execution_count": 52,
   "id": "11ebd0b7",
   "metadata": {},
   "outputs": [],
   "source": [
    "# Merging accuracy and recall dataframes\n",
    "model_performance = model_performance_acc.merge(model_performance_r, on='Model', how='outer')"
   ]
  },
  {
   "cell_type": "code",
   "execution_count": 53,
   "id": "43edcf6a",
   "metadata": {},
   "outputs": [
    {
     "name": "stdout",
     "output_type": "stream",
     "text": [
      "Performance Table\n",
      "\n",
      "╒═════════════════════════╤═════════════════╤═══════════════╕\n",
      "│ Model                   │   Mean Accuracy │   Mean Recall │\n",
      "╞═════════════════════════╪═════════════════╪═══════════════╡\n",
      "│ Random Forest           │         81.2308 │       79.2947 │\n",
      "├─────────────────────────┼─────────────────┼───────────────┤\n",
      "│ Decision Trees          │         74.0513 │       76.8737 │\n",
      "├─────────────────────────┼─────────────────┼───────────────┤\n",
      "│ K-Nearest Neighbor      │         80.4103 │       81.3158 │\n",
      "├─────────────────────────┼─────────────────┼───────────────┤\n",
      "│ Naive Bayes             │         80.9231 │       79.4842 │\n",
      "├─────────────────────────┼─────────────────┼───────────────┤\n",
      "│ Support Vector Machines │         80.8205 │       78.1368 │\n",
      "├─────────────────────────┼─────────────────┼───────────────┤\n",
      "│ Logistic Regression     │         81.9487 │       79.7158 │\n",
      "╘═════════════════════════╧═════════════════╧═══════════════╛\n"
     ]
    }
   ],
   "source": [
    "# Tabulating mean performance table\n",
    "print('Performance Table\\n')\n",
    "print(tabulate(model_performance[::-1], headers = model_performance.columns, tablefmt = 'fancy_grid', showindex = False))"
   ]
  },
  {
   "cell_type": "code",
   "execution_count": 54,
   "id": "62a5572c",
   "metadata": {},
   "outputs": [
    {
     "data": {
      "text/plain": [
       "<Figure size 432x288 with 0 Axes>"
      ]
     },
     "metadata": {},
     "output_type": "display_data"
    },
    {
     "data": {
      "image/png": "[encoded data removed]",
      "text/plain": [
       "<Figure size 720x288 with 1 Axes>"
      ]
     },
     "metadata": {
      "needs_background": "light"
     },
     "output_type": "display_data"
    }
   ],
   "source": [
    "# Plotting performcance chart\n",
    "fig = plt.figure()\n",
    "ax = model_performance.plot.barh()\n",
    "ax.set_axisbelow(True)\n",
    "ax.grid(color='gray', linestyle='dashed')\n",
    "ax.set_title('Mean Performance of Machine Learning Models\\n', fontsize=20)\n",
    "ax.set_xlabel('Mean Performance', fontsize=15)\n",
    "ax.set_ylabel('Machine Learning Model', fontsize=15)\n",
    "ax.set_yticklabels(['LR', 'SVM', 'NB', 'KNN', 'DT', 'RF'], rotation = 'horizontal')\n",
    "ax.legend(bbox_to_anchor=(1, 1), prop={'size': 12})\n",
    "plt.gcf().set_size_inches(10, 4)\n",
    "plt.show()"
   ]
  },
  {
   "cell_type": "code",
   "execution_count": 55,
   "id": "c253183f",
   "metadata": {},
   "outputs": [],
   "source": [
    "# Get the max of all accuracy values given by each model\n",
    "LR_values =[performance_10_features.at['Logistic Regression', 'Accuracy'],\n",
    "            performance_20_features.at['Logistic Regression', 'Accuracy'],\n",
    "            performance_30_features.at['Logistic Regression', 'Accuracy'],\n",
    "            performance_40_features.at['Logistic Regression', 'Accuracy'],\n",
    "            performance_50_features.at['Logistic Regression', 'Accuracy']]\n",
    "LR_max = np.max(LR_values)\n",
    "\n",
    "SVM_values =[performance_10_features.at['Support Vector Machines', 'Accuracy'],\n",
    "             performance_20_features.at['Support Vector Machines', 'Accuracy'],\n",
    "             performance_30_features.at['Support Vector Machines', 'Accuracy'],\n",
    "             performance_40_features.at['Support Vector Machines', 'Accuracy'],\n",
    "             performance_50_features.at['Support Vector Machines', 'Accuracy']]\n",
    "SVM_max = np.max(SVM_values)\n",
    "\n",
    "NB_values =[performance_10_features.at['Naive Bayes', 'Accuracy'],\n",
    "            performance_20_features.at['Naive Bayes', 'Accuracy'],\n",
    "            performance_30_features.at['Naive Bayes', 'Accuracy'],\n",
    "            performance_40_features.at['Naive Bayes', 'Accuracy'],\n",
    "            performance_50_features.at['Naive Bayes', 'Accuracy']]\n",
    "NB_max = np.max(NB_values)\n",
    "\n",
    "KNN_values =[performance_10_features.at['K-Nearest Neighbor', 'Accuracy'],\n",
    "             performance_20_features.at['K-Nearest Neighbor', 'Accuracy'],\n",
    "             performance_30_features.at['K-Nearest Neighbor', 'Accuracy'],\n",
    "             performance_40_features.at['K-Nearest Neighbor', 'Accuracy'],\n",
    "             performance_50_features.at['K-Nearest Neighbor', 'Accuracy']]\n",
    "KNN_max = np.max(KNN_values)\n",
    "\n",
    "DT_values =[performance_10_features.at['Decision Trees', 'Accuracy'],\n",
    "            performance_20_features.at['Decision Trees', 'Accuracy'],\n",
    "            performance_30_features.at['Decision Trees', 'Accuracy'],\n",
    "            performance_40_features.at['Decision Trees', 'Accuracy'],\n",
    "            performance_50_features.at['Decision Trees', 'Accuracy']]\n",
    "DT_max = np.max(DT_values)\n",
    "\n",
    "RF_values =[performance_10_features.at['Random Forest', 'Accuracy'],\n",
    "            performance_20_features.at['Random Forest', 'Accuracy'],\n",
    "            performance_30_features.at['Random Forest', 'Accuracy'],\n",
    "            performance_40_features.at['Random Forest', 'Accuracy'],\n",
    "            performance_50_features.at['Random Forest', 'Accuracy']]\n",
    "RF_max = np.max(RF_values)"
   ]
  },
  {
   "cell_type": "code",
   "execution_count": 56,
   "id": "4e36458d",
   "metadata": {},
   "outputs": [],
   "source": [
    "# Generate dataframe to store model performance\n",
    "max_accuracy_value = [LR_max, SVM_max, NB_max, KNN_max, DT_max, RF_max]\n",
    "model_performance_max_acc = pd.DataFrame({'Model': model, 'Max Accuracy':max_accuracy_value})"
   ]
  },
  {
   "cell_type": "code",
   "execution_count": 57,
   "id": "4312589b",
   "metadata": {},
   "outputs": [
    {
     "name": "stdout",
     "output_type": "stream",
     "text": [
      "Performance Table\n",
      "\n",
      "╒═════════════════════════╤════════════════╕\n",
      "│ Model                   │   Max Accuracy │\n",
      "╞═════════════════════════╪════════════════╡\n",
      "│ Random Forest           │        82.0513 │\n",
      "├─────────────────────────┼────────────────┤\n",
      "│ Decision Trees          │        75.3846 │\n",
      "├─────────────────────────┼────────────────┤\n",
      "│ K-Nearest Neighbor      │        81.5385 │\n",
      "├─────────────────────────┼────────────────┤\n",
      "│ Naive Bayes             │        82.0513 │\n",
      "├─────────────────────────┼────────────────┤\n",
      "│ Support Vector Machines │        82.5641 │\n",
      "├─────────────────────────┼────────────────┤\n",
      "│ Logistic Regression     │        83.0769 │\n",
      "╘═════════════════════════╧════════════════╛\n"
     ]
    }
   ],
   "source": [
    "# Tabulating max accuracy table\n",
    "print('Performance Table\\n')\n",
    "print(tabulate(model_performance_max_acc[::-1], headers = model_performance_max_acc.columns, tablefmt = 'fancy_grid', showindex = False))"
   ]
  },
  {
   "cell_type": "code",
   "execution_count": 58,
   "id": "42a81af9",
   "metadata": {},
   "outputs": [],
   "source": [
    "# Get the max of all recall values given by each model\n",
    "LR_values =[performance_10_features.at['Logistic Regression', 'Recall'],\n",
    "            performance_20_features.at['Logistic Regression', 'Recall'],\n",
    "            performance_30_features.at['Logistic Regression', 'Recall'],\n",
    "            performance_40_features.at['Logistic Regression', 'Recall'],\n",
    "            performance_50_features.at['Logistic Regression', 'Recall']]\n",
    "LR_max = np.max(LR_values)\n",
    "\n",
    "SVM_max =[performance_10_features.at['Support Vector Machines', 'Recall'],\n",
    "             performance_20_features.at['Support Vector Machines', 'Recall'],\n",
    "             performance_30_features.at['Support Vector Machines', 'Recall'],\n",
    "             performance_40_features.at['Support Vector Machines', 'Recall'],\n",
    "             performance_50_features.at['Support Vector Machines', 'Recall']]\n",
    "SVM_max = np.max(SVM_values)\n",
    "\n",
    "NB_values =[performance_10_features.at['Naive Bayes', 'Recall'],\n",
    "            performance_20_features.at['Naive Bayes', 'Recall'],\n",
    "            performance_30_features.at['Naive Bayes', 'Recall'],\n",
    "            performance_40_features.at['Naive Bayes', 'Recall'],\n",
    "            performance_50_features.at['Naive Bayes', 'Recall']]\n",
    "NB_max = np.max(NB_values)\n",
    "\n",
    "KNN_values =[performance_10_features.at['K-Nearest Neighbor', 'Recall'],\n",
    "             performance_20_features.at['K-Nearest Neighbor', 'Recall'],\n",
    "             performance_30_features.at['K-Nearest Neighbor', 'Recall'],\n",
    "             performance_40_features.at['K-Nearest Neighbor', 'Recall'],\n",
    "             performance_50_features.at['K-Nearest Neighbor', 'Recall']]\n",
    "KNN_max = np.max(KNN_values)\n",
    "\n",
    "DT_values =[performance_10_features.at['Decision Trees', 'Recall'],\n",
    "            performance_20_features.at['Decision Trees', 'Recall'],\n",
    "            performance_30_features.at['Decision Trees', 'Recall'],\n",
    "            performance_40_features.at['Decision Trees', 'Recall'],\n",
    "            performance_50_features.at['Decision Trees', 'Recall']]\n",
    "DT_max = np.max(DT_values)\n",
    "\n",
    "RF_values =[performance_10_features.at['Random Forest', 'Recall'],\n",
    "            performance_20_features.at['Random Forest', 'Recall'],\n",
    "            performance_30_features.at['Random Forest', 'Recall'],\n",
    "            performance_40_features.at['Random Forest', 'Recall'],\n",
    "            performance_50_features.at['Random Forest', 'Recall']]\n",
    "RF_max = np.max(RF_values)"
   ]
  },
  {
   "cell_type": "code",
   "execution_count": 59,
   "id": "6428bf40",
   "metadata": {},
   "outputs": [],
   "source": [
    "# Generate dataframe to store model performance\n",
    "max_recall_value = [LR_max, SVM_max, NB_max, KNN_max, DT_max, RF_max]\n",
    "model_performance_max_rec = pd.DataFrame({'Model': model, 'Max Recall':max_recall_value})"
   ]
  },
  {
   "cell_type": "code",
   "execution_count": 60,
   "id": "7531ac91",
   "metadata": {},
   "outputs": [
    {
     "name": "stdout",
     "output_type": "stream",
     "text": [
      "Performance Table\n",
      "\n",
      "╒═════════════════════════╤══════════════╕\n",
      "│ Model                   │   Max Recall │\n",
      "╞═════════════════════════╪══════════════╡\n",
      "│ Random Forest           │      80.5263 │\n",
      "├─────────────────────────┼──────────────┤\n",
      "│ Decision Trees          │      78.5789 │\n",
      "├─────────────────────────┼──────────────┤\n",
      "│ K-Nearest Neighbor      │      82.5263 │\n",
      "├─────────────────────────┼──────────────┤\n",
      "│ Naive Bayes             │      80.5789 │\n",
      "├─────────────────────────┼──────────────┤\n",
      "│ Support Vector Machines │      82.5641 │\n",
      "├─────────────────────────┼──────────────┤\n",
      "│ Logistic Regression     │      80.5789 │\n",
      "╘═════════════════════════╧══════════════╛\n"
     ]
    }
   ],
   "source": [
    "# Tabulating max recall table\n",
    "print('Performance Table\\n')\n",
    "print(tabulate(model_performance_max_rec[::-1], headers = model_performance_max_rec.columns, tablefmt = 'fancy_grid', showindex = False))"
   ]
  },
  {
   "cell_type": "code",
   "execution_count": 61,
   "id": "34562a8a",
   "metadata": {},
   "outputs": [],
   "source": [
    "# Merging max accuracy and max recall dataframes\n",
    "model_max_performance = model_performance_max_acc.merge(model_performance_max_rec, on='Model', how='outer')"
   ]
  },
  {
   "cell_type": "code",
   "execution_count": 62,
   "id": "50509e4c",
   "metadata": {},
   "outputs": [
    {
     "name": "stdout",
     "output_type": "stream",
     "text": [
      "Max Performance Table\n",
      "\n",
      "╒═════════════════════════╤════════════════╤══════════════╕\n",
      "│ Model                   │   Max Accuracy │   Max Recall │\n",
      "╞═════════════════════════╪════════════════╪══════════════╡\n",
      "│ Random Forest           │        82.0513 │      80.5263 │\n",
      "├─────────────────────────┼────────────────┼──────────────┤\n",
      "│ Decision Trees          │        75.3846 │      78.5789 │\n",
      "├─────────────────────────┼────────────────┼──────────────┤\n",
      "│ K-Nearest Neighbor      │        81.5385 │      82.5263 │\n",
      "├─────────────────────────┼────────────────┼──────────────┤\n",
      "│ Naive Bayes             │        82.0513 │      80.5789 │\n",
      "├─────────────────────────┼────────────────┼──────────────┤\n",
      "│ Support Vector Machines │        82.5641 │      82.5641 │\n",
      "├─────────────────────────┼────────────────┼──────────────┤\n",
      "│ Logistic Regression     │        83.0769 │      80.5789 │\n",
      "╘═════════════════════════╧════════════════╧══════════════╛\n"
     ]
    }
   ],
   "source": [
    "# Tabulating max performance table\n",
    "print('Max Performance Table\\n')\n",
    "print(tabulate(model_max_performance[::-1], headers = model_max_performance.columns, tablefmt = 'fancy_grid', showindex = False))"
   ]
  },
  {
   "cell_type": "code",
   "execution_count": 63,
   "id": "9599ec8d",
   "metadata": {},
   "outputs": [
    {
     "data": {
      "text/plain": [
       "(75.0, 102.0)"
      ]
     },
     "execution_count": 63,
     "metadata": {},
     "output_type": "execute_result"
    },
    {
     "data": {
      "image/png": "[encoded data removed]",
      "text/plain": [
       "<Figure size 432x432 with 1 Axes>"
      ]
     },
     "metadata": {
      "needs_background": "light"
     },
     "output_type": "display_data"
    }
   ],
   "source": [
    "# Plot max performance of each model \n",
    "ax = model_max_performance.plot(grid=True, figsize=(6,6))\n",
    "ax.set_xticks(model_max_performance.index)\n",
    "ax.set_xticklabels(['LR', 'SVM', 'NB', 'KNN', 'DT', 'RF'])\n",
    "ax.set_ylabel('Performance')\n",
    "ax.set_xlabel('Machine Learning Model')\n",
    "ax.legend(loc='upper right')\n",
    "ax.set_ylim(75, 102)"
   ]
  },
  {
   "cell_type": "code",
   "execution_count": 64,
   "id": "7a71080b",
   "metadata": {},
   "outputs": [
    {
     "name": "stderr",
     "output_type": "stream",
     "text": [
      "C:\\Users\\Supun\\anaconda3\\lib\\site-packages\\sklearn\\cluster\\_kmeans.py:881: UserWarning: KMeans is known to have a memory leak on Windows with MKL, when there are less chunks than available threads. You can avoid it by setting the environment variable OMP_NUM_THREADS=1.\n",
      "  warnings.warn(\n"
     ]
    },
    {
     "data": {
      "image/png": "[encoded data removed]",
      "text/plain": [
       "<Figure size 432x288 with 1 Axes>"
      ]
     },
     "metadata": {
      "needs_background": "light"
     },
     "output_type": "display_data"
    }
   ],
   "source": [
    "# Finding optimal number of clusters using the elbow method  \n",
    "from sklearn.cluster import KMeans  \n",
    "\n",
    "# Initializing the list for the values of WCSS \n",
    "wcss_list= []   \n",
    "  \n",
    "# Using for loop for iterations from 1 to 10.  \n",
    "for i in range(1, 11):  \n",
    "    kmeans = KMeans(n_clusters=i, init='k-means++', random_state= 42)  \n",
    "    kmeans.fit(features_50_X)  \n",
    "    wcss_list.append(kmeans.inertia_)  \n",
    "    \n",
    "plt.plot(range(1, 11), wcss_list)  \n",
    "plt.title('The Elobw Method Graph')  \n",
    "plt.xlabel('Number of clusters(k)')  \n",
    "plt.ylabel('WCSS')  \n",
    "plt.show()  "
   ]
  },
  {
   "cell_type": "code",
   "execution_count": 65,
   "id": "ee3bac25",
   "metadata": {},
   "outputs": [],
   "source": [
    "# Create a excel writer object\n",
    "with pd.ExcelWriter(r'C:\\Users\\Supun\\Desktop\\Research ML\\Results\\Full Results Transcriptome Dataset ANOVA.xlsx') as writer:\n",
    "    \n",
    "    # Export perfomance of model to excel files\n",
    "    full_50_features.to_excel(writer, sheet_name='50_features')\n",
    "    full_40_features.to_excel(writer, sheet_name='40_features')\n",
    "    full_30_features.to_excel(writer, sheet_name='30_features')\n",
    "    full_20_features.to_excel(writer, sheet_name='20_features')\n",
    "    full_10_features.to_excel(writer, sheet_name='10_features')"
   ]
  }
 ],
 "metadata": {
  "kernelspec": {
   "display_name": "Python 3 (ipykernel)",
   "language": "python",
   "name": "python3"
  },
  "language_info": {
   "codemirror_mode": {
    "name": "ipython",
    "version": 3
   },
   "file_extension": ".py",
   "mimetype": "text/x-python",
   "name": "python",
   "nbconvert_exporter": "python",
   "pygments_lexer": "ipython3",
   "version": "3.9.7"
  }
 },
 "nbformat": 4,
 "nbformat_minor": 5
}
